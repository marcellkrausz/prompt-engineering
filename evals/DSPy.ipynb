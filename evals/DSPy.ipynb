{
 "cells": [
  {
   "cell_type": "code",
   "execution_count": null,
   "id": "2e3a9eba",
   "metadata": {},
   "outputs": [],
   "source": [
    "%pip install -U dspy-ai"
   ]
  },
  {
   "cell_type": "code",
   "execution_count": 7,
   "id": "47384b34",
   "metadata": {},
   "outputs": [],
   "source": [
    "import getpass\n",
    "import os\n",
    "\n",
    "def _set_env(var: str):\n",
    "    if not os.environ.get(var):\n",
    "        os.environ[var] = getpass.getpass(f\"{var}: \")\n",
    "\n",
    "secret_key = _set_env(\"OPENAI_API_KEY\")"
   ]
  },
  {
   "cell_type": "markdown",
   "id": "d7f31984",
   "metadata": {},
   "source": [
    "# Using DSPy in 8 Steps\n",
    "https://dspy.ai/learn/optimization/solving_your_task/?h=8+steps\n",
    "\n",
    "## Define your task\n",
    "- Expected Input/Output Behavior\n",
    "- Quality and Cost Specs"
   ]
  },
  {
   "cell_type": "code",
   "execution_count": 82,
   "id": "f106ee8b",
   "metadata": {},
   "outputs": [
    {
     "name": "stdout",
     "output_type": "stream",
     "text": [
      "Why do fish always know how much they weigh?\n",
      "\n",
      "Because they have their own scales! 🎣😄\n"
     ]
    }
   ],
   "source": [
    "task = \"tell me a funny joke about {topic}\"\n",
    "\n",
    "from openai import OpenAI\n",
    "client = OpenAI()\n",
    "\n",
    "response = client.chat.completions.create(\n",
    "  model=\"gpt-4o-mini\",\n",
    "  messages=[\n",
    "    {\n",
    "      \"role\": \"user\",\n",
    "      \"content\": task.format(topic=\"fishing\")\n",
    "    },\n",
    "  ],\n",
    "  temperature=1,\n",
    "  max_tokens=256,\n",
    "  top_p=1,\n",
    "  frequency_penalty=0,\n",
    "  presence_penalty=0\n",
    ")\n",
    "print(response.choices[0].message.content)"
   ]
  },
  {
   "cell_type": "code",
   "execution_count": 81,
   "id": "95801c50",
   "metadata": {},
   "outputs": [
    {
     "name": "stdout",
     "output_type": "stream",
     "text": [
      "Why do fish always know how much they weigh?\n",
      "\n",
      "Because they have their own scales!\n"
     ]
    }
   ],
   "source": [
    "import dspy\n",
    "\n",
    "lm = dspy.LM('openai/gpt-4o-mini', api_key=secret_key)\n",
    "dspy.configure(lm=lm)\n",
    "\n",
    "print(lm(\"tell me a funny joke about {topic}\".format(topic=\"fishing\"))[0])"
   ]
  },
  {
   "cell_type": "code",
   "execution_count": 24,
   "id": "30bf3a29",
   "metadata": {},
   "outputs": [
    {
     "name": "stdout",
     "output_type": "stream",
     "text": [
      "Why was the baseball team always in trouble? Because they kept getting caught stealing bases!\n"
     ]
    }
   ],
   "source": [
    "# inline signatures\n",
    "\n",
    "joker = dspy.Predict('topic -> joke')\n",
    "print(joker(topic=\"baseball\").joke)"
   ]
  },
  {
   "cell_type": "code",
   "execution_count": 25,
   "id": "3b75512d",
   "metadata": {},
   "outputs": [
    {
     "name": "stdout",
     "output_type": "stream",
     "text": [
      "Why don't fish do well on school tests? Because they work below C-level!\n"
     ]
    }
   ],
   "source": [
    "# class based signatures\n",
    "\n",
    "class Joke(dspy.Signature):\n",
    "    \"\"\"Make a funny joke given a topic.\"\"\"\n",
    "\n",
    "    topic = dspy.InputField(desc=\"The topic of the joke.\")\n",
    "    joke = dspy.OutputField(desc=\"The funny joke.\")\n",
    "\n",
    "class Pred(dspy.Module):\n",
    "    def __init__(self):\n",
    "        super().__init__()\n",
    "\n",
    "        self.signature = Joke\n",
    "        self.prog = dspy.Predict(Joke)\n",
    "\n",
    "    def forward(self, topic):\n",
    "        return self.prog(topic=topic)\n",
    "\n",
    "make_joke = Pred()\n",
    "print(make_joke(topic=\"fishing\").joke)"
   ]
  },
  {
   "cell_type": "code",
   "execution_count": null,
   "id": "f906d8e8",
   "metadata": {},
   "outputs": [
    {
     "name": "stdout",
     "output_type": "stream",
     "text": [
      "Reasoning: Fishing is a popular hobby and sport that involves catching fish from bodies of water. It's often seen as a relaxing activity that also requires skill and patience. Jokes about fishing can play on the stereotypes of fishermen, the waiting game between catches, or even the one-that-got-away stories that are famously exaggerated among fishing enthusiasts.\n",
      "---\n",
      "Joke: Why don't fish do well on school tests? Because they work below C-level!\n"
     ]
    }
   ],
   "source": [
    "# create a CoT module\n",
    "class CoT(dspy.Module):\n",
    "    def __init__(self):\n",
    "        super().__init__()\n",
    "\n",
    "        self.signature = dspy.Signature(\"topic -> reasoning, joke\")\n",
    "        self.prog = dspy.ChainOfThought(self.signature)\n",
    "\n",
    "    def forward(self, topic):\n",
    "        return self.prog(topic=topic)\n",
    "    \n",
    "make_joke_chain = CoT()\n",
    "\n",
    "response = make_joke_chain(topic=\"fishing\")\n",
    "print(f\"Reasoning: {response.reasoning}\")\n",
    "print(\"---\")\n",
    "print(f\"Joke: {response.joke}\")"
   ]
  },
  {
   "cell_type": "code",
   "execution_count": 32,
   "id": "f94a6c97",
   "metadata": {},
   "outputs": [
    {
     "name": "stdout",
     "output_type": "stream",
     "text": [
      "\n",
      "\n",
      "\n",
      "\n",
      "\u001b[34m[2025-04-19T18:43:17.412432]\u001b[0m\n",
      "\n",
      "\u001b[31mSystem message:\u001b[0m\n",
      "\n",
      "Your input fields are:\n",
      "1. `topic` (str): The topic of the joke.\n",
      "\n",
      "Your output fields are:\n",
      "1. `reasoning` (str)\n",
      "2. `joke` (str): The funny joke.\n",
      "\n",
      "All interactions will be structured in the following way, with the appropriate values filled in.\n",
      "\n",
      "[[ ## topic ## ]]\n",
      "{topic}\n",
      "\n",
      "[[ ## reasoning ## ]]\n",
      "{reasoning}\n",
      "\n",
      "[[ ## joke ## ]]\n",
      "{joke}\n",
      "\n",
      "[[ ## completed ## ]]\n",
      "\n",
      "In adhering to this structure, your objective is: \n",
      "        Make a funny joke given a topic.\n",
      "\n",
      "\n",
      "\u001b[31mUser message:\u001b[0m\n",
      "\n",
      "[[ ## topic ## ]]\n",
      "fishing\n",
      "\n",
      "Respond with the corresponding output fields, starting with the field `[[ ## reasoning ## ]]`, then `[[ ## joke ## ]]`, and then ending with the marker for `[[ ## completed ## ]]`.\n",
      "\n",
      "\n",
      "\u001b[31mResponse:\u001b[0m\n",
      "\n",
      "\u001b[32m[[ ## reasoning ## ]]\n",
      "Fishing is a popular hobby that often involves waiting patiently for fish to bite, which can lead to humorous situations or puns related to fish, bait, and the sometimes exaggerated tales of fishermen.\n",
      "\n",
      "[[ ## joke ## ]]\n",
      "Why don't fish ever do well on school tests? Because they work below C-level!\n",
      "\n",
      "[[ ## completed ## ]]\u001b[0m\n",
      "\n",
      "\n",
      "\n",
      "\n",
      "\n"
     ]
    }
   ],
   "source": [
    "lm.inspect_history(n=1)"
   ]
  },
  {
   "cell_type": "code",
   "execution_count": 64,
   "id": "418472a0",
   "metadata": {},
   "outputs": [
    {
     "name": "stdout",
     "output_type": "stream",
     "text": [
      "Topic: Fishing\n",
      "Example: Give a man a fish, and he’ll probably follow you home expecting more fish.\n",
      "---\n",
      "Reasoning: Fishing is a popular hobby and sport that involves catching fish from bodies of water. It's often seen as a relaxing activity that also requires patience and skill. Jokes about fishing can play on the stereotypes of fishermen, the waiting game of catching fish, or even the one-that-got-away stories that are famously exaggerated among fishing enthusiasts.\n",
      "---\n",
      "Joke: Why don't fish do well on school tests? Because they work below C-level!\n"
     ]
    }
   ],
   "source": [
    "tj_pair = dspy.Example(topic=\"Fishing\", joke=\"Give a man a fish, and he’ll probably follow you home expecting more fish.\").with_inputs('topic')\n",
    "\n",
    "response = make_joke_chain(topic=tj_pair.topic)\n",
    "print(f\"Topic: {tj_pair.topic}\")\n",
    "print(f\"Example: {tj_pair.joke}\")\n",
    "print(\"---\")\n",
    "print(f\"Reasoning: {response.reasoning}\")\n",
    "print(\"---\")\n",
    "print(f\"Joke: {response.joke}\")"
   ]
  },
  {
   "cell_type": "code",
   "execution_count": 63,
   "id": "97797d56",
   "metadata": {},
   "outputs": [
    {
     "name": "stdout",
     "output_type": "stream",
     "text": [
      "Topic: Drinking\n",
      "Example: My father drank so heavily, when he blew on the birthday cake he lit the candles.\n",
      "---\n",
      "Reasoning: Drinking is a broad topic that can encompass anything from the consumption of water to alcoholic beverages. In humor, drinking often relates to social situations, the effects of alcohol, or the quirks of different types of drinks and drinking habits. A joke on this topic can play on common experiences or stereotypes associated with drinking, making it relatable and humorous to a wide audience.\n",
      "---\n",
      "Joke: Why don't scientists trust atoms when they're drinking?\n",
      "Because they make up everything, even the bar tab!\n"
     ]
    }
   ],
   "source": [
    "tj_pair_2 = dspy.Example(topic=\"Drinking\", joke=\"My father drank so heavily, when he blew on the birthday cake he lit the candles.\").with_inputs('topic')\n",
    "\n",
    "response_2 = make_joke_chain(topic=tj_pair_2.topic)\n",
    "print(f\"Topic: {tj_pair_2.topic}\")\n",
    "print(f\"Example: {tj_pair_2.joke}\")\n",
    "print(\"---\")\n",
    "print(f\"Reasoning: {response_2.reasoning}\")\n",
    "print(\"---\")\n",
    "print(f\"Joke: {response_2.joke}\")"
   ]
  },
  {
   "cell_type": "code",
   "execution_count": 36,
   "id": "b6e1ef65",
   "metadata": {},
   "outputs": [
    {
     "data": {
      "text/plain": [
       "(76, 25, 26)"
      ]
     },
     "execution_count": 36,
     "metadata": {},
     "output_type": "execute_result"
    }
   ],
   "source": [
    "# https://inews.co.uk/light-relief/jokes/ricky-gervais-jokes-best-golden-globes-2020-host-controversial-funniest-the-office-135797\n",
    "# https://www.blackpoolgrand.co.uk/funniest-jokes-one-liners/\n",
    "# https://www.vulture.com/2018/01/dave-chappelle-bird-revelation-equanimity-best-jokes.html\n",
    "# https://www.scotsman.com/heritage-and-retro/heritage/billy-connollys-best-jokes-80-of-the-big-yins-funniest-jokes-and-one-liners-4458332\n",
    "# https://inews.co.uk/light-relief/jokes/funny-jokes-110-funniest-best-one-liners-192413\n",
    "\n",
    "funny_jokes = [\n",
    "    {\"topic\": \"Fishing\", \"joke\": \"Give a man a fish, and he’ll probably follow you home expecting more fish.\", \"comedian\": \"Ricky Gervais\"},\n",
    "    {\"topic\": \"Family\", \"joke\": \"Where there’s a will – there’s a relative!\", \"comedian\": \"Ricky Gervais\"},\n",
    "    {\"topic\": \"Holidays\", \"joke\": \"1st of December, World Aids Day….I don’t think it’ll ever take off like Christmas.\", \"comedian\": \"Ricky Gervais\"},\n",
    "    {\"topic\": \"Drinking\", \"joke\": \"I like a drink as much as the next man. Unless the next man is Mel Gibson.\", \"comedian\": \"Ricky Gervais\"},\n",
    "    {\"topic\": \"Celebrity\", \"joke\": \"It’s gonna be a night of partying and heavy drinking. Or as Charlie calls it: breakfast.\", \"comedian\": \"Ricky Gervais\"},\n",
    "    {\"topic\": \"Movies\", \"joke\": \"It seems like everything this year was three-dimensional, except the characters in The Tourist.\", \"comedian\": \"Ricky Gervais\"},\n",
    "    {\"topic\": \"Religion\", \"joke\": \"You won’t burn in hell. But be nice anyway.\", \"comedian\": \"Ricky Gervais\"},\n",
    "    {\"topic\": \"Inspiration\", \"joke\": \"My greatest hero is Nelson Mandela. What a man. Incarcerated for 25 years, he was released in 1990 and he hasn’t reoffended. I think he’s going straight, which shows you prison does work.\", \"comedian\": \"Ricky Gervais\"},\n",
    "    {\"topic\": \"Philosophy\", \"joke\": \"Remember, when you are dead, you do not know you are dead. It is only painful for others. The same applies when you are stupid.\", \"comedian\": \"Ricky Gervais\"},\n",
    "    {\"topic\": \"Life\", \"joke\": \"Mondays are fine. It’s your life that sucks.\", \"comedian\": \"Ricky Gervais\"},\n",
    "    {\"topic\": \"Religion\", \"joke\": \"Remember, if you don’t sin, then Jesus died for nothing.\", \"comedian\": \"Ricky Gervais\"},\n",
    "    {\"topic\": \"Activism\", \"joke\": \"I could solve the world’s problems if I… cared.\", \"comedian\": \"Ricky Gervais\"},\n",
    "    {\"topic\": \"Identity\", \"joke\": \"I can have a go at the French cause I’m half French half English with a stupid name like Gervais. No I am, I’m half French half English and um I’ve got qualities of both, French and English which is good, so um… I am crap in bed but at least I’ve got bad breath.\", \"comedian\": \"Ricky Gervais\"},\n",
    "    {\"topic\": \"Military\", \"joke\": \"Do commandos not wear pants? They must wear pants, don’t they?\", \"comedian\": \"Ricky Gervais\"},\n",
    "    {\"topic\": \"Equality\", \"joke\": \"Same sex marriage is not a gay privilege, it’s equal rights. Privilege would be something like gay people not paying taxes. Like churches don’t.\", \"comedian\": \"Ricky Gervais\"},\n",
    "    {\"topic\": \"Folklore\", \"joke\": \"I’ve never worked out what the moral of Humpty Dumpty is. I can only think of: Don’t sit on a wall, if you’re an egg.\", \"comedian\": \"Ricky Gervais\"},\n",
    "    {\"topic\": \"Employment\", \"joke\": \"Avoid employing unlucky people – throw half of the pile of CVs in the bin without reading them.\", \"comedian\": \"Ricky Gervais\"},\n",
    "    {\"topic\": \"Awards\", \"joke\": \"For any of you who don’t know, the Golden Globes are just like the Oscars, but without all that esteem. The Golden Globes are to the Oscars what Kim Kardashian is to Kate Middleton. A bit louder, a bit trashier, a bit drunker, and more easily bought.\", \"comedian\": \"Ricky Gervais\"},\n",
    "    {\"topic\": \"Workplace\", \"joke\": \"If your boss is getting you down, look at him through the prongs of a fork and imagine him in jail.\", \"comedian\": \"Ricky Gervais\"},\n",
    "    {\"topic\": \"Humor\", \"joke\": \"I can’t find someone funny whom I don’t like. Hitler told great jokes.\", \"comedian\": \"Ricky Gervais\"},\n",
    "    {\"topic\": \"Culture\", \"joke\": \"America champions the underdog. We champion the under dog until he’s not the underdog anymore, and he annoys us.\", \"comedian\": \"Ricky Gervais\"},\n",
    "    {\"topic\": \"Betrayal\", \"joke\": \"You have to be 100% behind someone, before you can stab them in the back.\", \"comedian\": \"Ricky Gervais\"},\n",
    "    {\"topic\": \"Health\", \"joke\": \"Remember, being healthy is basically dying as slowly as possible.\", \"comedian\": \"Ricky Gervais\"},\n",
    "    {\"topic\": \"Atheism\", \"joke\": \"I’d like to thank God for making me an atheist.\", \"comedian\": \"Ricky Gervais\"},\n",
    "    {\"topic\": \"Music Industry\", \"joke\": \"Piracy doesn’t kill music, boy bands do.\", \"comedian\": \"Ricky Gervais\"},\n",
    "    {\"topic\": \"Wealth\", \"joke\": \"My wealth and happiness would suggest that God definitely does love me. If he existed of course. Which he doesn’t.\", \"comedian\": \"Ricky Gervais\"},\n",
    "    {\"topic\": \"Social Media\", \"joke\": \"Following someone on Twitter and asking them to tweet about something else is like stalking someone and asking them to go a different route.\", \"comedian\": \"Ricky Gervais\"},\n",
    "    {\"topic\": \"Fame\", \"joke\": \"Please don’t worship me. I’m just an ordinary guy, with lots of followers trying to spread my message. Sort of like Jesus Christ I guess.\", \"comedian\": \"Ricky Gervais\"},\n",
    "    {\"topic\": \"Technology\", \"joke\": \"iPhones are Barbie Dolls for grown men. You carry them round, dress them up in little outfits, accessorise, & get a new one every year.\", \"comedian\": \"Ricky Gervais\"},\n",
    "    {\"topic\": \"Generosity\", \"joke\": \"Give a man a fish, and he’ll probably follow you home expecting more fish.\", \"comedian\": \"Ricky Gervais\"},\n",
    "    {\"topic\": \"Environment\", \"joke\": \"It seems to be true, particularly in middle America, that those most militant about using up fossil fuels, don’t actually believe in fossils\", \"comedian\": \"Ricky Gervais\"},\n",
    "    {\"topic\": \"Drinking\", \"joke\": \"My father drank so heavily, when he blew on the birthday cake he lit the candles.\", \"comedian\": \"Les Dawson\"},\n",
    "    {\"topic\": \"Police\", \"joke\": \"I was in my car driving back from work. A police officer pulled me over and knocked on my window. I said, ‘One minute I’m on the phone.’\", \"comedian\": \"Alan Carr\"},\n",
    "    {\"topic\": \"Overthinking\", \"joke\": \"I worry about ridiculous things, you know, how does a guy who drives a snowplough get to work in the morning… that can keep me awake for days.\", \"comedian\": \"Billy Connolly\"},\n",
    "    {\"topic\": \"Relationships\", \"joke\": \"I used to go out with a giraffe. Used to take it to the pictures and that. You’d always get some bloke complaining that he couldn’t see the screen.\", \"comedian\": \"Paul Merton\"},\n",
    "    {\"topic\": \"Music\", \"joke\": \"Here’s a picture of me with REM. That’s me in the corner.\", \"comedian\": \"Milton Jones\"},\n",
    "    {\"topic\": \"Optimism\", \"joke\": \"People say ‘Bill, are you an optimist?’ And I say, ‘I hope so.’\", \"comedian\": \"Bill Bailey\"},\n",
    "    {\"topic\": \"Customer Service\", \"joke\": \"I rang up British Telecom and said: ‘I want to report a nuisance caller.’ He said: ‘Not you again.’\", \"comedian\": \"Tim Vine\"},\n",
    "    {\"topic\": \"Obesity\", \"joke\": \"Life is like a box of chocolates. It doesn’t last long if you’re fat.\", \"comedian\": \"Joe Lycett\"},\n",
    "    {\"topic\": \"Religion\", \"joke\": \"We weren’t very religious. On Hanukkah, my mother had our menorah on a dimmer.\", \"comedian\": \"Richard Lewis\"},\n",
    "    {\"topic\": \"Beauty\", \"joke\": \"My girlfriend is absolutely beautiful. Body like a Greek statue – completely pale, no arms.\", \"comedian\": \"Phil Wang\"},\n",
    "    {\"topic\": \"Weather\", \"joke\": \"Normally you have news, weather and travel. But not on snow day. On a snow day, the news is weather is travel.\", \"comedian\": \"Michael McIntyre\"},\n",
    "    {\"topic\": \"Personal Improvement\", \"joke\": \"I bought myself some glasses. My observational comedy improved.\", \"comedian\": \"Sara Pascoe\"},\n",
    "    {\"topic\": \"Sports\", \"joke\": \"If I was an Olympic athlete, I’d rather come in last than win the silver medal. You win the gold, you feel good. You win the bronze, you think, ‘at least I got something.’ But you win that silver, that’s like, ‘Congratulations, you almost won! Of all the losers, you came in first! You’re the number one loser! No one lost ahead of you!’\", \"comedian\": \"Jerry Seinfeld\"},\n",
    "    {\"topic\": \"Identity\", \"joke\": \"My star sign is Pyrex. I was a test-tube baby.\", \"comedian\": \"Billy Connolly\"},\n",
    "    {\"topic\": \"Marriage\", \"joke\": \"I always take my wife morning tea in my pyjamas. But is she grateful? No, she says she’d rather have it in a cup.\", \"comedian\": \"Eric Morecambe\"},\n",
    "    {\"topic\": \"Shopping\", \"joke\": \"A man walks into a chemist’s and says, ‘Can I have a bar of soap, please?’ The chemist says, ‘Do you want it scented?’ And the man says, ‘No, I’ll take it with me now.’\", \"comedian\": \"Ronnie Barker\"},\n",
    "    {\"topic\": \"Crime\", \"joke\": \"Crime in multi-storey car parks. That is wrong on so many different levels.\", \"comedian\": \"Tim Vine\"},\n",
    "    {\"topic\": \"Social Class\", \"joke\": \"You know you’re working class when your TV is bigger than your bookcase.\", \"comedian\": \"Rob Beckett\"},\n",
    "    {\"topic\": \"Animals\", \"joke\": \"Owls haven’t got necks, have they? An owl is essentially a one-piece unit.\", \"comedian\": \"Ross Noble\"},\n",
    "    {\"topic\": \"Fashion\", \"joke\": \"If you arrive fashionably late in Crocs, you’re just late.\", \"comedian\": \"Joel Dommett\"},\n",
    "    {\"topic\": \"Technology\", \"joke\": \"My phone will ring at 2am and my wife’ll look at me and go, “Who’s that calling at this time?” I say, “I don’t know. If I knew that we wouldn’t need the bloody phone.”\", \"comedian\": \"Lee Evans\"},\n",
    "    {\"topic\": \"Philosophy\", \"joke\": \"I doubt there’s a heaven; I think the people from hell have probably bought it for a timeshare.\", \"comedian\": \"Victoria Wood\"},\n",
    "    {\"topic\": \"Fitness\", \"joke\": \"I said to the gym instructor: “Can you teach me to do the splits?”, He said: “How flexible are you?”, I said: “I can’t make Tuesdays.”\", \"comedian\": \"Tommy Cooper\"},\n",
    "    {\"topic\": \"Insurance\", \"joke\": \"Do Transformers get car, or life insurance?\", \"comedian\": \"Russell Howard\"},\n",
    "    {\"topic\": \"Police\", \"joke\": \"Alright lads, a giant fly is attacking the police station. I’ve called the SWAT team!\", \"comedian\": \"Greg Davies\"},\n",
    "    {\"topic\": \"Healthcare\", \"joke\": \"A good rule to remember for life is that when it comes to plastic surgery and sushi, never be attracted by a bargain.\", \"comedian\": \"Graham Norton\"},\n",
    "    {\"topic\": \"Animals\", \"joke\": \"Two monkeys were getting into the bath. One said: ‘Oo, oo, oo, aah aah aah.’ The other replied: ‘Well, put some cold in it then.’\", \"comedian\": \"Harry Hill\"},\n",
    "    {\"topic\": \"Suburban Life\", \"joke\": \"My parents did just well enough so I could grow up poor around white people. When Nas and them used to talk about the projects, I used to get jealous. It sounded fun. Everybody in the projects was poor, and that’s fair. But if you were poor in Silver Spring, nigga, it felt like it was only happening to you.\", \"comedian\": \"Dave Chappelle\"},\n",
    "    {\"topic\": \"Cultural Identity\", \"joke\": \"What is Rachel willing to do, so that we blacks believe that she believes she is actually one of us? Bitch, are you willing to put a lien on your house so that you can invest in a mixtape that probably won’t work out?\", \"comedian\": \"Dave Chappelle\"},\n",
    "    {\"topic\": \"Aging\", \"joke\": \"I don’t like looking at my dick anymore. My dick looks distinguished. It’s old, an old-looking dick. It’s got salt-and-pepper hair all around it. My dick looks like Morgan Freeman in the ’90s.\", \"comedian\": \"Dave Chappelle\"},\n",
    "    {\"topic\": \"Fatherhood\", \"joke\": \"This motherfucker calls me up in the middle of the night. It was one o'clock in the morning and he goes, 'Dad, don’t be mad […] I’m at a party and my designated driver had too much to drink. Me and friends need you to come pick us up.' I said, 'Jesus Christ, it’s one o'clock in the morning. Nigga, I am shit-faced!'\", \"comedian\": \"Dave Chappelle\"},\n",
    "    {\"topic\": \"Political Commentary\", \"joke\": \"Eight years later, I’m pulling up to the polls again. This time, I’m driving a brand-new Porsche because the Obama years were very good to me […] I walked up and saw a long, long line of dusty white people […] I stood with them in line, like all us Americans are required to do in a democracy. Nobody skips the line to vote. And I listened to them say naïve, poor white people things.\", \"comedian\": \"Dave Chappelle\"},\n",
    "    {\"topic\": \"Leadership\", \"joke\": \"This motherfucker [Donald Trump] grabbed the podium and he goes, 'You don’t know how scary the things I read in my briefings are.' Holy shit, man, you ain’t supposed to tell us that, bro!\", \"comedian\": \"Dave Chappelle\"},\n",
    "    {\"topic\": \"Religious Satire\", \"joke\": \"I respect everybody’s beliefs, except Amish people. They are the only ones I can say clearly, 'Their God is wrong.' The speed limit is 75 miles an hour in Ohio, and one lane of traffic is blocked by a goddamned horse and buggy?\", \"comedian\": \"Dave Chappelle\"},\n",
    "    {\"topic\": \"Hollywood\", \"joke\": \"You think I go to a Hollywood meeting with all them white people by myself? I bring my nigga Mac Mittens from the streets […] He’s not even qualified to listen to these meetings, he just makes me feel good.\", \"comedian\": \"Dave Chappelle\"},\n",
    "    {\"topic\": \"Comedy Culture\", \"joke\": \"The tough part of being a comedian and knowing the motherfucker is, everybody comes up to me like, 'Did you know? Did you know what Louis was doing?' No, bitch, I did not know.\", \"comedian\": \"Dave Chappelle\"},\n",
    "    {\"topic\": \"National Identity\", \"joke\": \"I could kill every white person in America at one time. You know how I’d do it? Just wait for the Super Bowl, and right when they sing the National Anthem, I’d have O.J. Simpson walk to the 50-yard line with them bad knees.\", \"comedian\": \"Dave Chappelle\"},\n",
    "    {\"topic\": \"Gender Relations\", \"joke\": \"I used to do shows for drug dealers that wanted to clean their money up. One time I did a real good set, and these motherfuckers called me into the back room. They gave me $25,000 in cash […] I jumped on the subway and started heading towards Brooklyn at one o’clock in the morning.\", \"comedian\": \"Dave Chappelle\"},\n",
    "    {\"topic\": \"Scottish Heritage\", \"joke\": \"Scottish-Americans tell you that if you want to identify tartans, it’s easy – you simply look under the kilt, and if it’s a quarter-pounder, you know it’s a McDonald’s.\", \"comedian\": \"Billy Connolly\"},\n",
    "    {\"topic\": \"Judgement\", \"joke\": \"Before you judge a man, walk a mile in his shoes. After that who cares? He’s a mile away and you’ve got his shoes!\", \"comedian\": \"Billy Connolly\"},\n",
    "    {\"topic\": \"Weather\", \"joke\": \"I hate all those weathermen, too, who tell you that rain is bad weather. There’s no such thing as bad weather, just the wrong clothing, so get yourself a sexy raincoat and live a little.\", \"comedian\": \"Billy Connolly\"},\n",
    "    {\"topic\": \"Film Industry\", \"joke\": \"I’m a huge film star, but you have to hurry to the movies because I usually die in the first 15 f***ing minutes. I’m the only guy I know who died in a f***ing Muppet Movie.\", \"comedian\": \"Billy Connolly\"},\n",
    "    {\"topic\": \"Appearance\", \"joke\": \"I always look skint. When I buy a Big Issue, people take it out of my hand and give me a pound.\", \"comedian\": \"Billy Connolly\"},\n",
    "    {\"topic\": \"Sex Therapy\", \"joke\": \"One sex therapist claims that the most effective way to arouse your man is to spend 10 minutes licking his ears. Personally, I think its bollocks.\", \"comedian\": \"Billy Connolly\"},\n",
    "    {\"topic\": \"Cinema\", \"joke\": \"When people say while watching a film ‘did you see that? No tosser, I paid ten quid to come to the cinema and stare at the f***ing floor.\", \"comedian\": \"Billy Connolly\"},\n",
    "    {\"topic\": \"Aeroplane Comfort\", \"joke\": \"I get claustrophobic easily and I don’t get why aeroplane toilets don’t f***ing have windows. I mean it’s not as if anyone can f***ing see in. Unless of course you are the most determined pervert in the world.\", \"comedian\": \"Billy Connolly\"},\n",
    "    {\"topic\": \"Astrology\", \"joke\": \"My star sign is Pyrex. I was a test-tube baby.\", \"comedian\": \"Billy Connolly\"},\n",
    "    {\"topic\": \"Parenting\", \"joke\": \"Don’t buy one of those baby intercoms. Babies pretend to be dead. They’re bastards, and they do it on purpose.\", \"comedian\": \"Billy Connolly\"},\n",
    "    {\"topic\": \"Common Sayings\", \"joke\": \"Why do people say ‘Oh you want to have your cake and eat it too?’ Dead right! What good is a cake if you can’t eat it?\", \"comedian\": \"Billy Connolly\"},\n",
    "    {\"topic\": \"Life Perception\", \"joke\": \"When people say ‘life is short’. What the f***? Life is the longest damn thing anyone ever f***ing does! What can you do that’s longer?\", \"comedian\": \"Billy Connolly\"},\n",
    "    {\"topic\": \"Dating\", \"joke\": \"I like a woman with a head on her shoulders. I hate necks.\", \"comedian\": \"Steve Martin\"},\n",
    "    {\"topic\": \"Growing Up\", \"joke\": \"I have a lot of growing up to do. I realised that the other day inside my fort.\", \"comedian\": \"Zach Galifianakis\"},\n",
    "    {\"topic\": \"Employment\", \"joke\": \"I used to work at McDonald’s making minimum wage. You know what that means when someone pays you minimum wage? You know what your boss was trying to say? ‘Hey, if I could pay you less, I would, but it’s against the law.’\", \"comedian\": \"Chris Rock\"},\n",
    "    {\"topic\": \"Love\", \"joke\": \"Love is like a fart. If you have to force it it’s probably s***.\", \"comedian\": \"Stephen K. Amos\"},\n",
    "    {\"topic\": \"Convenience\", \"joke\": \"I like an escalator because an escalator can never break. It can only become stairs. There would never be an ‘Escalator Temporarily Out of Order’ sign, only ‘Escalator Temporarily Stairs’.\", \"comedian\": \"Mitch Hedberg\"},\n",
    "    {\"topic\": \"Sports\", \"joke\": \"If I was an Olympic athlete, I’d rather come in last than win the silver medal. You win the gold, you feel good. You win the bronze, you think, ‘at least I got something.’ But you win that silver, that’s like, ‘Congratulations, you almost won! Of all the losers, you came in first! You’re the number one loser! No one lost ahead of you!’\", \"comedian\": \"Jerry Seinfeld\"},\n",
    "    {\"topic\": \"Religion\", \"joke\": \"We weren’t very religious. On Hanukkah, my mother had our menorah on a dimmer.\", \"comedian\": \"Richard Lewis\"},\n",
    "    {\"topic\": \"Beauty\", \"joke\": \"My girlfriend is absolutely beautiful. Body like a Greek statue – completely pale, no arms.\", \"comedian\": \"Phil Wang\"},\n",
    "    {\"topic\": \"Creation\", \"joke\": \"If God had written the Bible, the first line should have been ‘It’s round.'\", \"comedian\": \"Eddie Izzard\"},\n",
    "    {\"topic\": \"Self-Improvement\", \"joke\": \"I bought myself some glasses. My observational comedy improved.\", \"comedian\": \"Sara Pascoe\"},\n",
    "    {\"topic\": \"Politics\", \"joke\": \"Trump’s nothing like Hitler. There’s no way he could write a book.\", \"comedian\": \"Frankie Boyle\"},\n",
    "    {\"topic\": \"Social Class\", \"joke\": \"You know you’re working class when your TV is bigger than your book case.\", \"comedian\": \"Rob Beckett\"},\n",
    "    {\"topic\": \"Conflict\", \"joke\": \"Most of my life is spent avoiding conflict. I hardly ever visit Syria.\", \"comedian\": \"Alex Horne\"},\n",
    "    {\"topic\": \"Relaxation\", \"joke\": \"A spa hotel? It’s like a normal hotel, only in reception there’s a picture of a pebble.\", \"comedian\": \"Rhod Gilbert\"},\n",
    "    {\"topic\": \"Health\", \"joke\": \"Life is like a box of chocolates. It doesn’t last long if you’re fat.\", \"comedian\": \"Joe Lycett\"},\n",
    "    {\"topic\": \"Career\", \"joke\": \"My Dad said, always leave them wanting more. Ironically, that’s how he lost his job in disaster relief.\", \"comedian\": \"Mark Watson\"},\n",
    "    {\"topic\": \"Memory\", \"joke\": \"Apparently smoking cannabis can affect your short term memory. Well if that’s true, what do you think smoking cannabis does?\", \"comedian\": \"Mickey P Kerr\"},\n",
    "    {\"topic\": \"Philosophy\", \"joke\": \"How many philosophers does it take to change a lightbulb?…. none. They’re not really into that sort of thing. If it’s that dark, light a candle.\", \"comedian\": \"Phil Cornwell\"},\n",
    "    {\"topic\": \"Marriage\", \"joke\": \"The first time I met my wife, I knew she was a keeper. She was wearing massive gloves.\", \"comedian\": \"Alun Cochrane\"},\n",
    "    {\"topic\": \"Childhood\", \"joke\": \"As a kid I was made to walk the plank. We couldn’t afford a dog.\", \"comedian\": \"Gary Delaney\"},\n",
    "    {\"topic\": \"Misunderstanding\", \"joke\": \"Two fish in a tank. One says: ‘How do you drive this thing?'\", \"comedian\": \"Peter Kay\"},\n",
    "    {\"topic\": \"Entertainment\", \"joke\": \"I saw a documentary on how ships are kept together. Riveting!\", \"comedian\": \"Stewart Francis\"},\n",
    "    {\"topic\": \"Music\", \"joke\": \"People who like trance music are very persistent. They don’t techno for an answer.\", \"comedian\": \"Joel Dommett\"},\n",
    "    {\"topic\": \"Dating\", \"joke\": \"I used to go out with a giraffe. Used to take it to the pictures and that. You’d always get some bloke complaining that he couldn’t see the screen. It’s a giraffe, mate. What do you expect? ‘Well he can take his hat off for a start!’\", \"comedian\": \"Paul Merton\"},\n",
    "    {\"topic\": \"Weather\", \"joke\": \"Normally you have news, weather and travel. But not on snow day. On a snow day, news is weather is travel.\", \"comedian\": \"Michael McIntyre\"},\n",
    "    {\"topic\": \"Music\", \"joke\": \"Here’s a picture of me with REM. That’s me in the corner.\", \"comedian\": \"Milton Jones\"},\n",
    "    {\"topic\": \"Sarcasm\", \"joke\": \"Someone showed me a photograph of my local MP the other day. ‘Would you buy a second-hand car from this man?’ they asked. ‘Would you buy a second-hand car?’ I replied.\", \"comedian\": \"Miles Jupp\"},\n",
    "    {\"topic\": \"Culture\", \"joke\": \"With stand-up in Britain, what you have to do is bloody swearing. In Germany, we don’t have to swear. Reason being, things work.\", \"comedian\": \"Henning When\"},\n",
    "    {\"topic\": \"Learning\", \"joke\": \"I’m learning the hokey cokey. Not all of it. But – I’ve got the ins and outs.\", \"comedian\": \"Iain Stirling\"},\n",
    "    {\"topic\": \"Identity\", \"joke\": \"Roses are red, violets are blue, I’m a schizophrenic, and so am I.\", \"comedian\": \"Billy Connolly\"},\n",
    "    {\"topic\": \"Parenting\", \"joke\": \"My mother told me, you don’t have to put anything in your mouth you don’t want to. Then she made me eat broccoli, which felt like double standards.\", \"comedian\": \"Sarah Millican\"},\n",
    "    {\"topic\": \"Vengeance\", \"joke\": \"My therapist says I have a preoccupation with vengeance. We’ll see about that.\", \"comedian\": \"Stewart Francis\"},\n",
    "    {\"topic\": \"Family\", \"joke\": \"I’m sure wherever my Dad is, he’s looking down on us. He’s not dead, just very condescending.\", \"comedian\": \"Jack Whitehall\"},\n",
    "    {\"topic\": \"Marriage\", \"joke\": \"‘What’s a couple?’ I asked my mum. She said, ‘Two or three’. Which probably explains why her marriage collapsed.\", \"comedian\": \"Josie Long\"},\n",
    "    {\"topic\": \"Injury\", \"joke\": \"The easiest time to add insult to injury is when you’re signing somebody’s cast.\", \"comedian\": \"Demetri Martin\"},\n",
    "    {\"topic\": \"Communication\", \"joke\": \"I was in my car driving back from work. A police officer pulled me over and knocked on my window. I said, ‘One minute I’m on the phone.'\", \"comedian\": \"Alan Carr\"},\n",
    "    {\"topic\": \"Afterlife\", \"joke\": \"I doubt there’s a heaven; I think the people from hell have probably bought it for a timeshare.\", \"comedian\": \"Victoria Wood\"},\n",
    "    {\"topic\": \"Flexibility\", \"joke\": \"I said to the gym instructor: ‘Can you teach me to do the splits?’ He said: ‘How flexible are you?’ I said: ‘I can’t make Tuesdays.’\", \"comedian\": \"Tommy Cooper\"},\n",
    "    {\"topic\": \"Misunderstanding\", \"joke\": \"A man walks into a chemist’s and says, ‘Can I have a bar of soap, please?’ The chemist says, ‘Do you want it scented?’ And the man says, ‘No, I’ll take it with me now.'\", \"comedian\": \"Ronnie Barker\"},\n",
    "    {\"topic\": \"Humor\", \"joke\": \"It’s really hard to define ‘virtue signalling’, as I was saying the other day to some of my Muslim friends over a fair-trade coffee in our local feminist bookshop.\", \"comedian\": \"Lucy Porter\"},\n",
    "    {\"topic\": \"Creation\", \"joke\": \"If we were truly created by God, then why do we still occasionally bite the insides of our own mouths?\", \"comedian\": \"Dara Ó Briain\"},\n",
    "    {\"topic\": \"Insurance\", \"joke\": \"Do Transformers get car, or life insurance?\", \"comedian\": \"Russell Howard\"},\n",
    "    {\"topic\": \"Emergency\", \"joke\": \"Alright lads, a giant fly is attacking the police station. I’ve called the SWAT team!\", \"comedian\": \"Greg Davies\"},\n",
    "    {\"topic\": \"Consumerism\", \"joke\": \"A good rule to remember for life is that when it comes to plastic surgery and sushi, never be attracted by a bargain.\", \"comedian\": \"Graham Norton\"},\n",
    "    {\"topic\": \"Family\", \"joke\": \"My father drank so heavily, when he blew on the birthday cake he lit the candles.\", \"comedian\": \"Les Dawson\"},\n",
    "    {\"topic\": \"Therapy\", \"joke\": \"I’ve been feeling suicidal so my therapist suggested I do CBT. Now I can ride a motorbike, how’s that going to help?\", \"comedian\": \"Eric Lampaert\"},\n",
    "]\n",
    "\n",
    "# Tell DSPy that the 'topic' field is the input. Any other fields are labels and/or metadata.\n",
    "dataset = []\n",
    "\n",
    "for row in funny_jokes:\n",
    "    topic, joke = row[\"topic\"], row[\"joke\"]\n",
    "    dataset.append(dspy.Example(topic=topic, joke=joke).with_inputs(\"topic\"))\n",
    "\n",
    "num_items = len(dataset)\n",
    "index_train = int(0.6 * num_items)  # 60% for training\n",
    "index_val = int(0.8 * num_items)  # Additional 20% for validation, up to 80% of total\n",
    "\n",
    "# Split the data into training, validation, and eval/dev sets\n",
    "trainset = dataset[:index_train]\n",
    "valset = dataset[index_train:index_val]\n",
    "devset = dataset[index_val:]  # Remaining 20% for evals\n",
    "\n",
    "len(trainset), len(valset), len(devset)"
   ]
  },
  {
   "cell_type": "code",
   "execution_count": 37,
   "id": "f0c6b4b4",
   "metadata": {},
   "outputs": [
    {
     "data": {
      "text/plain": [
       "Example({'topic': 'Fishing', 'joke': 'Give a man a fish, and he’ll probably follow you home expecting more fish.'}) (input_keys={'topic'})"
      ]
     },
     "execution_count": 37,
     "metadata": {},
     "output_type": "execute_result"
    }
   ],
   "source": [
    "trainset[0]"
   ]
  },
  {
   "cell_type": "code",
   "execution_count": 38,
   "id": "ceafa6be",
   "metadata": {},
   "outputs": [
    {
     "data": {
      "text/plain": [
       "1.0"
      ]
     },
     "execution_count": 38,
     "metadata": {},
     "output_type": "execute_result"
    }
   ],
   "source": [
    "# Define the signature for automatic assessments.\n",
    "class Assess(dspy.Signature):\n",
    "    \"\"\"Assess the quality of a joke along the specified dimension.\"\"\"\n",
    "    assessment_joke = dspy.InputField(desc=\"The joke to be assessed.\")\n",
    "    assessment_topic = dspy.InputField(desc=\"The topic related to the joke.\")\n",
    "    assessment_question = dspy.InputField(desc=\"The question to assess the joke against.\")\n",
    "    assessment_answer = dspy.OutputField(desc=\"Answer to the question, Yes or No.\")\n",
    "\n",
    "def metric(gold, pred, trace=None):\n",
    "    topic, joke = gold['topic'], pred['joke']\n",
    "\n",
    "    # Define questions\n",
    "    questions = {\n",
    "        \"funny\": \"Would this joke actually be funny to an adult attending a comedy show?\",\n",
    "        \"relevant\": \"Is this joke relevant to the topic?\",\n",
    "        \"format\": \"Is only the joke is returned, no disclaimer or other text prepending the joke?\",\n",
    "    }\n",
    "    \n",
    "    # Using dspy to predict responses\n",
    "    results = {}\n",
    "    for key, question in questions.items():\n",
    "        results[key] = 'yes' in dspy.Predict(Assess)(\n",
    "            assessment_joke=joke, \n",
    "            assessment_topic=topic, \n",
    "            assessment_question=question\n",
    "        ).assessment_answer.lower()\n",
    "    \n",
    "    # Calculate score\n",
    "    score = sum(results.values())\n",
    "\n",
    "    return round(score / len(questions), 2)\n",
    "\n",
    "# Example call\n",
    "metric(tj_pair.inputs(), tj_pair.labels())"
   ]
  },
  {
   "cell_type": "code",
   "execution_count": 88,
   "id": "1b70fa3e",
   "metadata": {},
   "outputs": [
    {
     "name": "stdout",
     "output_type": "stream",
     "text": [
      "\n",
      "\n",
      "\n",
      "\n",
      "\u001b[34m[2025-04-19T19:25:49.343970]\u001b[0m\n",
      "\n",
      "\u001b[31mSystem message:\u001b[0m\n",
      "\n",
      "Your input fields are:\n",
      "1. `topic` (str)\n",
      "\n",
      "Your output fields are:\n",
      "1. `reasoning` (str)\n",
      "2. `joke` (str)\n",
      "\n",
      "All interactions will be structured in the following way, with the appropriate values filled in.\n",
      "\n",
      "[[ ## topic ## ]]\n",
      "{topic}\n",
      "\n",
      "[[ ## reasoning ## ]]\n",
      "{reasoning}\n",
      "\n",
      "[[ ## joke ## ]]\n",
      "{joke}\n",
      "\n",
      "[[ ## completed ## ]]\n",
      "\n",
      "In adhering to this structure, your objective is: \n",
      "        Given the fields `topic`, produce the fields `reasoning`, `joke`.\n",
      "\n",
      "\n",
      "\u001b[31mUser message:\u001b[0m\n",
      "\n",
      "This is an example of the task, though some input or output fields are not supplied.\n",
      "\n",
      "[[ ## topic ## ]]\n",
      "Drinking\n",
      "\n",
      "Respond with the corresponding output fields, starting with the field `[[ ## reasoning ## ]]`, then `[[ ## joke ## ]]`, and then ending with the marker for `[[ ## completed ## ]]`.\n",
      "\n",
      "\n",
      "\u001b[31mAssistant message:\u001b[0m\n",
      "\n",
      "[[ ## reasoning ## ]]\n",
      "Not supplied for this particular example. \n",
      "\n",
      "[[ ## joke ## ]]\n",
      "I like a drink as much as the next man. Unless the next man is Mel Gibson.\n",
      "\n",
      "[[ ## completed ## ]]\n",
      "\n",
      "\n",
      "\u001b[31mUser message:\u001b[0m\n",
      "\n",
      "This is an example of the task, though some input or output fields are not supplied.\n",
      "\n",
      "[[ ## topic ## ]]\n",
      "Family\n",
      "\n",
      "Respond with the corresponding output fields, starting with the field `[[ ## reasoning ## ]]`, then `[[ ## joke ## ]]`, and then ending with the marker for `[[ ## completed ## ]]`.\n",
      "\n",
      "\n",
      "\u001b[31mAssistant message:\u001b[0m\n",
      "\n",
      "[[ ## reasoning ## ]]\n",
      "Not supplied for this particular example. \n",
      "\n",
      "[[ ## joke ## ]]\n",
      "Where there’s a will – there’s a relative!\n",
      "\n",
      "[[ ## completed ## ]]\n",
      "\n",
      "\n",
      "\u001b[31mUser message:\u001b[0m\n",
      "\n",
      "[[ ## topic ## ]]\n",
      "Fishing\n",
      "\n",
      "Respond with the corresponding output fields, starting with the field `[[ ## reasoning ## ]]`, then `[[ ## joke ## ]]`, and then ending with the marker for `[[ ## completed ## ]]`.\n",
      "\n",
      "\n",
      "\u001b[31mAssistant message:\u001b[0m\n",
      "\n",
      "[[ ## reasoning ## ]]\n",
      "Not supplied for this particular example.\n",
      "\n",
      "[[ ## joke ## ]]\n",
      "Why don't fish do well on school tests? Because they work below C-level!\n",
      "\n",
      "[[ ## completed ## ]]\n",
      "\n",
      "\n",
      "\u001b[31mUser message:\u001b[0m\n",
      "\n",
      "[[ ## topic ## ]]\n",
      "Holidays\n",
      "\n",
      "Respond with the corresponding output fields, starting with the field `[[ ## reasoning ## ]]`, then `[[ ## joke ## ]]`, and then ending with the marker for `[[ ## completed ## ]]`.\n",
      "\n",
      "\n",
      "\u001b[31mAssistant message:\u001b[0m\n",
      "\n",
      "[[ ## reasoning ## ]]\n",
      "Not supplied for this particular example.\n",
      "\n",
      "[[ ## joke ## ]]\n",
      "Why did the Christmas tree go to the barber? It needed to get a trim before the holidays!\n",
      "\n",
      "[[ ## completed ## ]]\n",
      "\n",
      "\n",
      "\u001b[31mUser message:\u001b[0m\n",
      "\n",
      "[[ ## topic ## ]]\n",
      "Celebrity\n",
      "\n",
      "Respond with the corresponding output fields, starting with the field `[[ ## reasoning ## ]]`, then `[[ ## joke ## ]]`, and then ending with the marker for `[[ ## completed ## ]]`.\n",
      "\n",
      "\n",
      "\u001b[31mAssistant message:\u001b[0m\n",
      "\n",
      "[[ ## reasoning ## ]]\n",
      "Not supplied for this particular example.\n",
      "\n",
      "[[ ## joke ## ]]\n",
      "Why don’t celebrities play hide and seek? Because good luck hiding when everybody knows your face!\n",
      "\n",
      "[[ ## completed ## ]]\n",
      "\n",
      "\n",
      "\u001b[31mUser message:\u001b[0m\n",
      "\n",
      "[[ ## topic ## ]]\n",
      "Fishing\n",
      "\n",
      "Respond with the corresponding output fields, starting with the field `[[ ## reasoning ## ]]`, then `[[ ## joke ## ]]`, and then ending with the marker for `[[ ## completed ## ]]`.\n",
      "\n",
      "\n",
      "\u001b[31mResponse:\u001b[0m\n",
      "\n",
      "\u001b[32m[[ ## reasoning ## ]]\n",
      "Fishing is a popular pastime that allows people to relax, connect with nature, and enjoy the thrill of catching fish. It can be a solitary activity or a social one, often bringing friends and family together. The patience required in fishing can also teach valuable life lessons about perseverance and enjoying the journey rather than just the destination.\n",
      "\n",
      "[[ ## joke ## ]]\n",
      "What do you call a fish that practices medicine? A sturgeon!\n",
      "\n",
      "[[ ## completed ## ]]\u001b[0m\n",
      "\n",
      "\n",
      "\n",
      "\n",
      "\n"
     ]
    }
   ],
   "source": [
    "lm.inspect_history(n=1)"
   ]
  },
  {
   "cell_type": "code",
   "execution_count": 40,
   "id": "9e2b958f",
   "metadata": {},
   "outputs": [
    {
     "data": {
      "text/plain": [
       "0.33"
      ]
     },
     "execution_count": 40,
     "metadata": {},
     "output_type": "execute_result"
    }
   ],
   "source": [
    "metric({\"topic\": \"Fishing\"}, {\"joke\": \"Ok here's a funny joke for you:\\nWhy do fish always know how much they weigh?\\nBecause they have their own scales!\"})"
   ]
  },
  {
   "cell_type": "markdown",
   "id": "6dd1f814",
   "metadata": {},
   "source": [
    "## Collect preliminary \"zero-shot\" evaluations"
   ]
  },
  {
   "cell_type": "code",
   "execution_count": 41,
   "id": "b0187b64",
   "metadata": {},
   "outputs": [
    {
     "name": "stdout",
     "output_type": "stream",
     "text": [
      "Average Metric: 14.66 / 26 (56.4%): 100%|██████████| 26/26 [00:21<00:00,  1.19it/s]"
     ]
    },
    {
     "name": "stderr",
     "output_type": "stream",
     "text": [
      "2025/04/19 18:46:35 INFO dspy.evaluate.evaluate: Average Metric: 14.66 / 26 (56.4%)\n"
     ]
    },
    {
     "name": "stdout",
     "output_type": "stream",
     "text": [
      "\n"
     ]
    },
    {
     "data": {
      "text/html": [
       "<div>\n",
       "<style scoped>\n",
       "    .dataframe tbody tr th:only-of-type {\n",
       "        vertical-align: middle;\n",
       "    }\n",
       "\n",
       "    .dataframe tbody tr th {\n",
       "        vertical-align: top;\n",
       "    }\n",
       "\n",
       "    .dataframe thead th {\n",
       "        text-align: right;\n",
       "    }\n",
       "</style>\n",
       "<table border=\"1\" class=\"dataframe\">\n",
       "  <thead>\n",
       "    <tr style=\"text-align: right;\">\n",
       "      <th></th>\n",
       "      <th>topic</th>\n",
       "      <th>example_joke</th>\n",
       "      <th>reasoning</th>\n",
       "      <th>pred_joke</th>\n",
       "      <th>metric</th>\n",
       "    </tr>\n",
       "  </thead>\n",
       "  <tbody>\n",
       "    <tr>\n",
       "      <th>0</th>\n",
       "      <td>Misunderstanding</td>\n",
       "      <td>Two fish in a tank. One says: ‘How do you drive this thing?'</td>\n",
       "      <td>Misunderstandings can often lead to humorous situations, especiall...</td>\n",
       "      <td>Why did the smartphone go to school? \\nBecause it had too many \"un...</td>\n",
       "      <td></td>\n",
       "    </tr>\n",
       "    <tr>\n",
       "      <th>1</th>\n",
       "      <td>Entertainment</td>\n",
       "      <td>I saw a documentary on how ships are kept together. Riveting!</td>\n",
       "      <td>Entertainment often involves movies, TV shows, and celebrity cultu...</td>\n",
       "      <td>Why don't celebrities play hide and seek?\\nBecause good luck hidin...</td>\n",
       "      <td>✔️ [1.000]</td>\n",
       "    </tr>\n",
       "    <tr>\n",
       "      <th>2</th>\n",
       "      <td>Music</td>\n",
       "      <td>People who like trance music are very persistent. They don’t techn...</td>\n",
       "      <td>Music is a universal language that can be humorous in many ways, e...</td>\n",
       "      <td>Why did the musician get locked out of their own rehearsal room? B...</td>\n",
       "      <td>✔️ [1.000]</td>\n",
       "    </tr>\n",
       "    <tr>\n",
       "      <th>3</th>\n",
       "      <td>Dating</td>\n",
       "      <td>I used to go out with a giraffe. Used to take it to the pictures a...</td>\n",
       "      <td>Dating often involves humorous or awkward situations that many peo...</td>\n",
       "      <td>Why don't scientists use carbon dating for their relationships? Be...</td>\n",
       "      <td>✔️ [1.000]</td>\n",
       "    </tr>\n",
       "    <tr>\n",
       "      <th>4</th>\n",
       "      <td>Weather</td>\n",
       "      <td>Normally you have news, weather and travel. But not on snow day. O...</td>\n",
       "      <td>Weather is a universal experience that often involves unexpected o...</td>\n",
       "      <td>Why did the weather report go to school? Because it wanted to be a...</td>\n",
       "      <td>✔️ [0.670]</td>\n",
       "    </tr>\n",
       "  </tbody>\n",
       "</table>\n",
       "</div>"
      ],
      "text/plain": [
       "              topic  \\\n",
       "0  Misunderstanding   \n",
       "1     Entertainment   \n",
       "2             Music   \n",
       "3            Dating   \n",
       "4           Weather   \n",
       "\n",
       "                                                            example_joke  \\\n",
       "0           Two fish in a tank. One says: ‘How do you drive this thing?'   \n",
       "1          I saw a documentary on how ships are kept together. Riveting!   \n",
       "2  People who like trance music are very persistent. They don’t techn...   \n",
       "3  I used to go out with a giraffe. Used to take it to the pictures a...   \n",
       "4  Normally you have news, weather and travel. But not on snow day. O...   \n",
       "\n",
       "                                                               reasoning  \\\n",
       "0  Misunderstandings can often lead to humorous situations, especiall...   \n",
       "1  Entertainment often involves movies, TV shows, and celebrity cultu...   \n",
       "2  Music is a universal language that can be humorous in many ways, e...   \n",
       "3  Dating often involves humorous or awkward situations that many peo...   \n",
       "4  Weather is a universal experience that often involves unexpected o...   \n",
       "\n",
       "                                                               pred_joke  \\\n",
       "0  Why did the smartphone go to school? \\nBecause it had too many \"un...   \n",
       "1  Why don't celebrities play hide and seek?\\nBecause good luck hidin...   \n",
       "2  Why did the musician get locked out of their own rehearsal room? B...   \n",
       "3  Why don't scientists use carbon dating for their relationships? Be...   \n",
       "4  Why did the weather report go to school? Because it wanted to be a...   \n",
       "\n",
       "       metric  \n",
       "0              \n",
       "1  ✔️ [1.000]  \n",
       "2  ✔️ [1.000]  \n",
       "3  ✔️ [1.000]  \n",
       "4  ✔️ [0.670]  "
      ]
     },
     "metadata": {},
     "output_type": "display_data"
    },
    {
     "data": {
      "text/html": [
       "\n",
       "            <div style='\n",
       "                text-align: center;\n",
       "                font-size: 16px;\n",
       "                font-weight: bold;\n",
       "                color: #555;\n",
       "                margin: 10px 0;'>\n",
       "                ... 21 more rows not displayed ...\n",
       "            </div>\n",
       "            "
      ],
      "text/plain": [
       "<IPython.core.display.HTML object>"
      ]
     },
     "metadata": {},
     "output_type": "display_data"
    },
    {
     "data": {
      "text/plain": [
       "56.38"
      ]
     },
     "execution_count": 41,
     "metadata": {},
     "output_type": "execute_result"
    }
   ],
   "source": [
    "from dspy.evaluate import Evaluate\n",
    "\n",
    "evaluate = Evaluate(metric=metric, devset=devset, num_threads=8, display_progress=True, display_table=5)\n",
    "evaluate(make_joke_chain)"
   ]
  },
  {
   "cell_type": "markdown",
   "id": "99413370",
   "metadata": {},
   "source": [
    "## Compile with a DSPy optimizer\n",
    "- If you have very little data, e.g. 10 examples of your task, use `BootstrapFewShot`.\n",
    "- If you have slightly more data, e.g. 50 examples of your task, use `BootstrapFewShotWithRandomSearch`.\n",
    "- If you have more data than that, e.g. 300 examples or more, use `MIPRO`.\n",
    "- If you have been able to use one of these with a large LM (e.g., 7B parameters or above) and need a very efficient program, compile that down to a small LM with `BootstrapFinetune`."
   ]
  },
  {
   "cell_type": "code",
   "execution_count": 74,
   "id": "4aeee98c",
   "metadata": {},
   "outputs": [
    {
     "name": "stderr",
     "output_type": "stream",
     "text": [
      "  7%|▋         | 5/76 [00:11<02:40,  2.26s/it]"
     ]
    },
    {
     "name": "stdout",
     "output_type": "stream",
     "text": [
      "Bootstrapped 4 full traces after 5 examples for up to 1 rounds, amounting to 5 attempts.\n"
     ]
    },
    {
     "name": "stderr",
     "output_type": "stream",
     "text": [
      "\n"
     ]
    }
   ],
   "source": [
    "from dspy.teleprompt import BootstrapFewShot\n",
    "\n",
    "optimizer = BootstrapFewShot(metric=metric)\n",
    "cot_compiled = optimizer.compile(CoT(), trainset=trainset)"
   ]
  },
  {
   "cell_type": "code",
   "execution_count": 87,
   "id": "168d0f6e",
   "metadata": {},
   "outputs": [
    {
     "name": "stdout",
     "output_type": "stream",
     "text": [
      "Reasoning: Fishing is a popular pastime that allows people to relax, connect with nature, and enjoy the thrill of catching fish. It can be a solitary activity or a social one, often bringing friends and family together. The patience required in fishing can also teach valuable life lessons about perseverance and enjoying the journey rather than just the destination.\n",
      "---\n",
      "Joke: What do you call a fish that practices medicine? A sturgeon!\n"
     ]
    }
   ],
   "source": [
    "response = cot_compiled(topic=\"Fishing\")\n",
    "print(f\"Reasoning: {response.reasoning}\")\n",
    "print(\"---\")\n",
    "print(f\"Joke: {response.joke}\")"
   ]
  },
  {
   "cell_type": "code",
   "execution_count": 75,
   "id": "7388feea",
   "metadata": {},
   "outputs": [
    {
     "name": "stdout",
     "output_type": "stream",
     "text": [
      "\n",
      "\n",
      "\n",
      "\n",
      "\u001b[34m[2025-04-19T19:09:34.035368]\u001b[0m\n",
      "\n",
      "\u001b[31mSystem message:\u001b[0m\n",
      "\n",
      "Your input fields are:\n",
      "1. `assessment_joke` (str): The joke to be assessed.\n",
      "2. `assessment_topic` (str): The topic related to the joke.\n",
      "3. `assessment_question` (str): The question to assess the joke against.\n",
      "\n",
      "Your output fields are:\n",
      "1. `assessment_answer` (str): Answer to the question, Yes or No.\n",
      "\n",
      "All interactions will be structured in the following way, with the appropriate values filled in.\n",
      "\n",
      "[[ ## assessment_joke ## ]]\n",
      "{assessment_joke}\n",
      "\n",
      "[[ ## assessment_topic ## ]]\n",
      "{assessment_topic}\n",
      "\n",
      "[[ ## assessment_question ## ]]\n",
      "{assessment_question}\n",
      "\n",
      "[[ ## assessment_answer ## ]]\n",
      "{assessment_answer}\n",
      "\n",
      "[[ ## completed ## ]]\n",
      "\n",
      "In adhering to this structure, your objective is: \n",
      "        Assess the quality of a joke along the specified dimension.\n",
      "\n",
      "\n",
      "\u001b[31mUser message:\u001b[0m\n",
      "\n",
      "[[ ## assessment_joke ## ]]\n",
      "Why don’t celebrities play hide and seek? Because good luck hiding when 15 million people are following you.\n",
      "\n",
      "[[ ## assessment_topic ## ]]\n",
      "Celebrity\n",
      "\n",
      "[[ ## assessment_question ## ]]\n",
      "Is only the joke is returned, no disclaimer or other text prepending the joke?\n",
      "\n",
      "Respond with the corresponding output fields, starting with the field `[[ ## assessment_answer ## ]]`, and then ending with the marker for `[[ ## completed ## ]]`.\n",
      "\n",
      "\n",
      "\u001b[31mResponse:\u001b[0m\n",
      "\n",
      "\u001b[32m[[ ## assessment_answer ## ]]\n",
      "Yes\n",
      "\n",
      "[[ ## completed ## ]]\u001b[0m\n",
      "\n",
      "\n",
      "\n",
      "\n",
      "\n"
     ]
    }
   ],
   "source": [
    "lm.inspect_history(n=1)"
   ]
  },
  {
   "cell_type": "code",
   "execution_count": 77,
   "id": "a68aa8a7",
   "metadata": {},
   "outputs": [
    {
     "name": "stdout",
     "output_type": "stream",
     "text": [
      "Going to sample between 1 and 3 traces per predictor.\n",
      "Will attempt to bootstrap 3 candidate sets.\n",
      "Average Metric: 2.67 / 5 (53.4%): 100%|██████████| 5/5 [00:00<00:00, 3281.93it/s]"
     ]
    },
    {
     "name": "stderr",
     "output_type": "stream",
     "text": [
      "2025/04/19 19:16:30 INFO dspy.evaluate.evaluate: Average Metric: 2.67 / 5 (53.4%)\n"
     ]
    },
    {
     "name": "stdout",
     "output_type": "stream",
     "text": [
      "\n",
      "New best score: 53.4 for seed -3\n",
      "Scores so far: [53.4]\n",
      "Best score so far: 53.4\n",
      "Average Metric: 3.01 / 5 (60.2%): 100%|██████████| 5/5 [00:06<00:00,  1.28s/it]"
     ]
    },
    {
     "name": "stderr",
     "output_type": "stream",
     "text": [
      "2025/04/19 19:16:37 INFO dspy.evaluate.evaluate: Average Metric: 3.0100000000000002 / 5 (60.2%)\n"
     ]
    },
    {
     "name": "stdout",
     "output_type": "stream",
     "text": [
      "\n",
      "New best score: 60.2 for seed -2\n",
      "Scores so far: [53.4, 60.2]\n",
      "Best score so far: 60.2\n"
     ]
    },
    {
     "name": "stderr",
     "output_type": "stream",
     "text": [
      "100%|██████████| 5/5 [00:21<00:00,  4.34s/it]\n"
     ]
    },
    {
     "name": "stdout",
     "output_type": "stream",
     "text": [
      "Bootstrapped 3 full traces after 4 examples for up to 1 rounds, amounting to 5 attempts.\n",
      "Average Metric: 3.68 / 5 (73.6%): 100%|██████████| 5/5 [00:05<00:00,  1.10s/it]"
     ]
    },
    {
     "name": "stderr",
     "output_type": "stream",
     "text": [
      "2025/04/19 19:17:04 INFO dspy.evaluate.evaluate: Average Metric: 3.68 / 5 (73.6%)\n"
     ]
    },
    {
     "name": "stdout",
     "output_type": "stream",
     "text": [
      "\n",
      "New best score: 73.6 for seed -1\n",
      "Scores so far: [53.4, 60.2, 73.6]\n",
      "Best score so far: 73.6\n"
     ]
    },
    {
     "name": "stderr",
     "output_type": "stream",
     "text": [
      " 60%|██████    | 3/5 [00:08<00:05,  2.95s/it]\n"
     ]
    },
    {
     "name": "stdout",
     "output_type": "stream",
     "text": [
      "Bootstrapped 2 full traces after 3 examples for up to 1 rounds, amounting to 3 attempts.\n",
      "Average Metric: 3.68 / 5 (73.6%): 100%|██████████| 5/5 [00:05<00:00,  1.18s/it]"
     ]
    },
    {
     "name": "stderr",
     "output_type": "stream",
     "text": [
      "2025/04/19 19:17:19 INFO dspy.evaluate.evaluate: Average Metric: 3.68 / 5 (73.6%)\n"
     ]
    },
    {
     "name": "stdout",
     "output_type": "stream",
     "text": [
      "\n",
      "Scores so far: [53.4, 60.2, 73.6, 73.6]\n",
      "Best score so far: 73.6\n"
     ]
    },
    {
     "name": "stderr",
     "output_type": "stream",
     "text": [
      " 20%|██        | 1/5 [00:09<00:36,  9.11s/it]\n"
     ]
    },
    {
     "name": "stdout",
     "output_type": "stream",
     "text": [
      "Bootstrapped 1 full traces after 1 examples for up to 1 rounds, amounting to 1 attempts.\n",
      "Average Metric: 3.34 / 5 (66.8%): 100%|██████████| 5/5 [00:06<00:00,  1.28s/it]"
     ]
    },
    {
     "name": "stderr",
     "output_type": "stream",
     "text": [
      "2025/04/19 19:17:34 INFO dspy.evaluate.evaluate: Average Metric: 3.3400000000000003 / 5 (66.8%)\n"
     ]
    },
    {
     "name": "stdout",
     "output_type": "stream",
     "text": [
      "\n",
      "Scores so far: [53.4, 60.2, 73.6, 73.6, 66.8]\n",
      "Best score so far: 73.6\n"
     ]
    },
    {
     "name": "stderr",
     "output_type": "stream",
     "text": [
      " 20%|██        | 1/5 [00:03<00:13,  3.39s/it]\n"
     ]
    },
    {
     "name": "stdout",
     "output_type": "stream",
     "text": [
      "Bootstrapped 1 full traces after 1 examples for up to 1 rounds, amounting to 1 attempts.\n",
      "Average Metric: 3.34 / 5 (66.8%): 100%|██████████| 5/5 [00:05<00:00,  1.03s/it]"
     ]
    },
    {
     "name": "stderr",
     "output_type": "stream",
     "text": [
      "2025/04/19 19:17:43 INFO dspy.evaluate.evaluate: Average Metric: 3.3400000000000003 / 5 (66.8%)\n"
     ]
    },
    {
     "name": "stdout",
     "output_type": "stream",
     "text": [
      "\n",
      "Scores so far: [53.4, 60.2, 73.6, 73.6, 66.8, 66.8]\n",
      "Best score so far: 73.6\n",
      "6 candidate programs found.\n"
     ]
    }
   ],
   "source": [
    "from dspy.teleprompt import BootstrapFewShotWithRandomSearch\n",
    "\n",
    "\n",
    "optimizer = BootstrapFewShotWithRandomSearch(metric=metric, max_bootstrapped_demos=3, num_candidate_programs=3)\n",
    "\n",
    "cot_compiled = optimizer.compile(CoT(), trainset=trainset[:5], valset=devset[:5]) #first 5"
   ]
  },
  {
   "cell_type": "code",
   "execution_count": 78,
   "id": "cd410447",
   "metadata": {},
   "outputs": [
    {
     "name": "stdout",
     "output_type": "stream",
     "text": [
      "Average Metric: 18.03 / 26 (69.3%): 100%|██████████| 26/26 [00:12<00:00,  2.11it/s]"
     ]
    },
    {
     "name": "stderr",
     "output_type": "stream",
     "text": [
      "2025/04/19 19:18:15 INFO dspy.evaluate.evaluate: Average Metric: 18.03 / 26 (69.3%)\n"
     ]
    },
    {
     "name": "stdout",
     "output_type": "stream",
     "text": [
      "\n"
     ]
    },
    {
     "data": {
      "text/html": [
       "<div>\n",
       "<style scoped>\n",
       "    .dataframe tbody tr th:only-of-type {\n",
       "        vertical-align: middle;\n",
       "    }\n",
       "\n",
       "    .dataframe tbody tr th {\n",
       "        vertical-align: top;\n",
       "    }\n",
       "\n",
       "    .dataframe thead th {\n",
       "        text-align: right;\n",
       "    }\n",
       "</style>\n",
       "<table border=\"1\" class=\"dataframe\">\n",
       "  <thead>\n",
       "    <tr style=\"text-align: right;\">\n",
       "      <th></th>\n",
       "      <th>topic</th>\n",
       "      <th>example_joke</th>\n",
       "      <th>reasoning</th>\n",
       "      <th>pred_joke</th>\n",
       "      <th>metric</th>\n",
       "    </tr>\n",
       "  </thead>\n",
       "  <tbody>\n",
       "    <tr>\n",
       "      <th>0</th>\n",
       "      <td>Misunderstanding</td>\n",
       "      <td>Two fish in a tank. One says: ‘How do you drive this thing?'</td>\n",
       "      <td>Not supplied for this particular example.</td>\n",
       "      <td>Why did the misunderstanding cause everyone to laugh in the elevat...</td>\n",
       "      <td>✔️ [1.000]</td>\n",
       "    </tr>\n",
       "    <tr>\n",
       "      <th>1</th>\n",
       "      <td>Entertainment</td>\n",
       "      <td>I saw a documentary on how ships are kept together. Riveting!</td>\n",
       "      <td>Not supplied for this particular example.</td>\n",
       "      <td>Why don't skeletons fight each other? They don't have the guts.</td>\n",
       "      <td>✔️ [0.670]</td>\n",
       "    </tr>\n",
       "    <tr>\n",
       "      <th>2</th>\n",
       "      <td>Music</td>\n",
       "      <td>People who like trance music are very persistent. They don’t techn...</td>\n",
       "      <td>Not supplied for this particular example.</td>\n",
       "      <td>Why did the music teacher go to jail? Because she got caught with ...</td>\n",
       "      <td>✔️ [0.670]</td>\n",
       "    </tr>\n",
       "    <tr>\n",
       "      <th>3</th>\n",
       "      <td>Dating</td>\n",
       "      <td>I used to go out with a giraffe. Used to take it to the pictures a...</td>\n",
       "      <td>Not supplied for this particular example.</td>\n",
       "      <td>Why don't skeletons go on dates? They don't have the guts!</td>\n",
       "      <td>✔️ [0.670]</td>\n",
       "    </tr>\n",
       "    <tr>\n",
       "      <th>4</th>\n",
       "      <td>Weather</td>\n",
       "      <td>Normally you have news, weather and travel. But not on snow day. O...</td>\n",
       "      <td>Not supplied for this particular example.</td>\n",
       "      <td>What does a cloud wear under his raincoat? Thunderwear!</td>\n",
       "      <td>✔️ [0.670]</td>\n",
       "    </tr>\n",
       "  </tbody>\n",
       "</table>\n",
       "</div>"
      ],
      "text/plain": [
       "              topic  \\\n",
       "0  Misunderstanding   \n",
       "1     Entertainment   \n",
       "2             Music   \n",
       "3            Dating   \n",
       "4           Weather   \n",
       "\n",
       "                                                            example_joke  \\\n",
       "0           Two fish in a tank. One says: ‘How do you drive this thing?'   \n",
       "1          I saw a documentary on how ships are kept together. Riveting!   \n",
       "2  People who like trance music are very persistent. They don’t techn...   \n",
       "3  I used to go out with a giraffe. Used to take it to the pictures a...   \n",
       "4  Normally you have news, weather and travel. But not on snow day. O...   \n",
       "\n",
       "                                   reasoning  \\\n",
       "0  Not supplied for this particular example.   \n",
       "1  Not supplied for this particular example.   \n",
       "2  Not supplied for this particular example.   \n",
       "3  Not supplied for this particular example.   \n",
       "4  Not supplied for this particular example.   \n",
       "\n",
       "                                                               pred_joke  \\\n",
       "0  Why did the misunderstanding cause everyone to laugh in the elevat...   \n",
       "1        Why don't skeletons fight each other? They don't have the guts.   \n",
       "2  Why did the music teacher go to jail? Because she got caught with ...   \n",
       "3             Why don't skeletons go on dates? They don't have the guts!   \n",
       "4                What does a cloud wear under his raincoat? Thunderwear!   \n",
       "\n",
       "       metric  \n",
       "0  ✔️ [1.000]  \n",
       "1  ✔️ [0.670]  \n",
       "2  ✔️ [0.670]  \n",
       "3  ✔️ [0.670]  \n",
       "4  ✔️ [0.670]  "
      ]
     },
     "metadata": {},
     "output_type": "display_data"
    },
    {
     "data": {
      "text/html": [
       "\n",
       "            <div style='\n",
       "                text-align: center;\n",
       "                font-size: 16px;\n",
       "                font-weight: bold;\n",
       "                color: #555;\n",
       "                margin: 10px 0;'>\n",
       "                ... 21 more rows not displayed ...\n",
       "            </div>\n",
       "            "
      ],
      "text/plain": [
       "<IPython.core.display.HTML object>"
      ]
     },
     "metadata": {},
     "output_type": "display_data"
    },
    {
     "data": {
      "text/plain": [
       "69.35"
      ]
     },
     "execution_count": 78,
     "metadata": {},
     "output_type": "execute_result"
    }
   ],
   "source": [
    "evaluate = Evaluate(metric=metric, devset=devset, num_threads=8, display_progress=True, display_table=5)\n",
    "evaluate(cot_compiled)"
   ]
  },
  {
   "cell_type": "code",
   "execution_count": 86,
   "id": "4595ff7a",
   "metadata": {},
   "outputs": [
    {
     "name": "stdout",
     "output_type": "stream",
     "text": [
      "Reasoning: Fishing is a popular pastime that allows people to relax, connect with nature, and enjoy the thrill of catching fish. It can be a solitary activity or a social one, often bringing friends and family together. The patience required in fishing can also teach valuable life lessons about perseverance and enjoying the journey rather than just the destination.\n",
      "---\n",
      "Joke: What do you call a fish that practices medicine? A sturgeon!\n"
     ]
    }
   ],
   "source": [
    "response = cot_compiled(topic=\"fishing\")\n",
    "print(f\"Reasoning: {response.reasoning}\")\n",
    "print(\"---\")\n",
    "print(f\"Joke: {response.joke}\")"
   ]
  },
  {
   "cell_type": "code",
   "execution_count": 80,
   "id": "ca1c0e3c",
   "metadata": {},
   "outputs": [
    {
     "name": "stdout",
     "output_type": "stream",
     "text": [
      "\n",
      "\n",
      "\n",
      "\n",
      "\u001b[34m[2025-04-19T19:19:21.516520]\u001b[0m\n",
      "\n",
      "\u001b[31mSystem message:\u001b[0m\n",
      "\n",
      "Your input fields are:\n",
      "1. `topic` (str)\n",
      "\n",
      "Your output fields are:\n",
      "1. `reasoning` (str)\n",
      "2. `joke` (str)\n",
      "\n",
      "All interactions will be structured in the following way, with the appropriate values filled in.\n",
      "\n",
      "[[ ## topic ## ]]\n",
      "{topic}\n",
      "\n",
      "[[ ## reasoning ## ]]\n",
      "{reasoning}\n",
      "\n",
      "[[ ## joke ## ]]\n",
      "{joke}\n",
      "\n",
      "[[ ## completed ## ]]\n",
      "\n",
      "In adhering to this structure, your objective is: \n",
      "        Given the fields `topic`, produce the fields `reasoning`, `joke`.\n",
      "\n",
      "\n",
      "\u001b[31mUser message:\u001b[0m\n",
      "\n",
      "This is an example of the task, though some input or output fields are not supplied.\n",
      "\n",
      "[[ ## topic ## ]]\n",
      "Drinking\n",
      "\n",
      "Respond with the corresponding output fields, starting with the field `[[ ## reasoning ## ]]`, then `[[ ## joke ## ]]`, and then ending with the marker for `[[ ## completed ## ]]`.\n",
      "\n",
      "\n",
      "\u001b[31mAssistant message:\u001b[0m\n",
      "\n",
      "[[ ## reasoning ## ]]\n",
      "Not supplied for this particular example. \n",
      "\n",
      "[[ ## joke ## ]]\n",
      "I like a drink as much as the next man. Unless the next man is Mel Gibson.\n",
      "\n",
      "[[ ## completed ## ]]\n",
      "\n",
      "\n",
      "\u001b[31mUser message:\u001b[0m\n",
      "\n",
      "This is an example of the task, though some input or output fields are not supplied.\n",
      "\n",
      "[[ ## topic ## ]]\n",
      "Family\n",
      "\n",
      "Respond with the corresponding output fields, starting with the field `[[ ## reasoning ## ]]`, then `[[ ## joke ## ]]`, and then ending with the marker for `[[ ## completed ## ]]`.\n",
      "\n",
      "\n",
      "\u001b[31mAssistant message:\u001b[0m\n",
      "\n",
      "[[ ## reasoning ## ]]\n",
      "Not supplied for this particular example. \n",
      "\n",
      "[[ ## joke ## ]]\n",
      "Where there’s a will – there’s a relative!\n",
      "\n",
      "[[ ## completed ## ]]\n",
      "\n",
      "\n",
      "\u001b[31mUser message:\u001b[0m\n",
      "\n",
      "[[ ## topic ## ]]\n",
      "Fishing\n",
      "\n",
      "Respond with the corresponding output fields, starting with the field `[[ ## reasoning ## ]]`, then `[[ ## joke ## ]]`, and then ending with the marker for `[[ ## completed ## ]]`.\n",
      "\n",
      "\n",
      "\u001b[31mAssistant message:\u001b[0m\n",
      "\n",
      "[[ ## reasoning ## ]]\n",
      "Not supplied for this particular example.\n",
      "\n",
      "[[ ## joke ## ]]\n",
      "Why don't fish do well on school tests? Because they work below C-level!\n",
      "\n",
      "[[ ## completed ## ]]\n",
      "\n",
      "\n",
      "\u001b[31mUser message:\u001b[0m\n",
      "\n",
      "[[ ## topic ## ]]\n",
      "Holidays\n",
      "\n",
      "Respond with the corresponding output fields, starting with the field `[[ ## reasoning ## ]]`, then `[[ ## joke ## ]]`, and then ending with the marker for `[[ ## completed ## ]]`.\n",
      "\n",
      "\n",
      "\u001b[31mAssistant message:\u001b[0m\n",
      "\n",
      "[[ ## reasoning ## ]]\n",
      "Not supplied for this particular example.\n",
      "\n",
      "[[ ## joke ## ]]\n",
      "Why did the Christmas tree go to the barber? It needed to get a trim before the holidays!\n",
      "\n",
      "[[ ## completed ## ]]\n",
      "\n",
      "\n",
      "\u001b[31mUser message:\u001b[0m\n",
      "\n",
      "[[ ## topic ## ]]\n",
      "Celebrity\n",
      "\n",
      "Respond with the corresponding output fields, starting with the field `[[ ## reasoning ## ]]`, then `[[ ## joke ## ]]`, and then ending with the marker for `[[ ## completed ## ]]`.\n",
      "\n",
      "\n",
      "\u001b[31mAssistant message:\u001b[0m\n",
      "\n",
      "[[ ## reasoning ## ]]\n",
      "Not supplied for this particular example.\n",
      "\n",
      "[[ ## joke ## ]]\n",
      "Why don’t celebrities play hide and seek? Because good luck hiding when everybody knows your face!\n",
      "\n",
      "[[ ## completed ## ]]\n",
      "\n",
      "\n",
      "\u001b[31mUser message:\u001b[0m\n",
      "\n",
      "[[ ## topic ## ]]\n",
      "fishing\n",
      "\n",
      "Respond with the corresponding output fields, starting with the field `[[ ## reasoning ## ]]`, then `[[ ## joke ## ]]`, and then ending with the marker for `[[ ## completed ## ]]`.\n",
      "\n",
      "\n",
      "\u001b[31mResponse:\u001b[0m\n",
      "\n",
      "\u001b[32m[[ ## reasoning ## ]]\n",
      "Not supplied for this particular example.\n",
      "\n",
      "[[ ## joke ## ]]\n",
      "What do you call a fish with no eyes? Fsh!\n",
      "\n",
      "[[ ## completed ## ]]\u001b[0m\n",
      "\n",
      "\n",
      "\n",
      "\n",
      "\n"
     ]
    }
   ],
   "source": [
    "lm.inspect_history(n=1)"
   ]
  },
  {
   "cell_type": "markdown",
   "id": "a7f600b6",
   "metadata": {},
   "source": [
    "## Iterate\n",
    "- Try a different AI model?\n",
    "- Rewrite the task instructions?\n",
    "- Redefine the eval metrics?\n",
    "- Annotate more training data?\n",
    "- Split the pipeline into more steps?"
   ]
  },
  {
   "cell_type": "code",
   "execution_count": 84,
   "id": "5c14578e",
   "metadata": {},
   "outputs": [
    {
     "name": "stderr",
     "output_type": "stream",
     "text": [
      "2025/04/19 19:22:58 INFO dspy.teleprompt.copro_optimizer: Iteration Depth: 1/3.\n",
      "2025/04/19 19:22:58 INFO dspy.teleprompt.copro_optimizer: At Depth 1/3, Evaluating Prompt Candidate #1/10 for Predictor 1 of 1.\n"
     ]
    },
    {
     "name": "stdout",
     "output_type": "stream",
     "text": [
      "Average Metric: 3.00 / 5 (60.0%): 100%|██████████| 5/5 [00:00<00:00, 2882.29it/s]"
     ]
    },
    {
     "name": "stderr",
     "output_type": "stream",
     "text": [
      "2025/04/19 19:22:58 INFO dspy.evaluate.evaluate: Average Metric: 3.0 / 5 (60.0%)\n",
      "2025/04/19 19:22:58 INFO dspy.teleprompt.copro_optimizer: At Depth 1/3, Evaluating Prompt Candidate #2/10 for Predictor 1 of 1.\n"
     ]
    },
    {
     "name": "stdout",
     "output_type": "stream",
     "text": [
      "\n",
      "Average Metric: 2.66 / 5 (53.2%): 100%|██████████| 5/5 [00:00<00:00, 1754.94it/s]"
     ]
    },
    {
     "name": "stderr",
     "output_type": "stream",
     "text": [
      "2025/04/19 19:22:58 INFO dspy.evaluate.evaluate: Average Metric: 2.66 / 5 (53.2%)\n",
      "2025/04/19 19:22:58 INFO dspy.teleprompt.copro_optimizer: At Depth 1/3, Evaluating Prompt Candidate #3/10 for Predictor 1 of 1.\n"
     ]
    },
    {
     "name": "stdout",
     "output_type": "stream",
     "text": [
      "\n",
      "Average Metric: 2.32 / 5 (46.4%): 100%|██████████| 5/5 [00:00<00:00, 1872.79it/s]"
     ]
    },
    {
     "name": "stderr",
     "output_type": "stream",
     "text": [
      "2025/04/19 19:22:58 INFO dspy.evaluate.evaluate: Average Metric: 2.3200000000000003 / 5 (46.4%)\n",
      "2025/04/19 19:22:58 INFO dspy.teleprompt.copro_optimizer: At Depth 1/3, Evaluating Prompt Candidate #4/10 for Predictor 1 of 1.\n"
     ]
    },
    {
     "name": "stdout",
     "output_type": "stream",
     "text": [
      "\n",
      "Average Metric: 1.99 / 5 (39.8%): 100%|██████████| 5/5 [00:01<00:00,  2.89it/s]"
     ]
    },
    {
     "name": "stderr",
     "output_type": "stream",
     "text": [
      "2025/04/19 19:23:00 INFO dspy.evaluate.evaluate: Average Metric: 1.9900000000000002 / 5 (39.8%)\n",
      "2025/04/19 19:23:00 INFO dspy.teleprompt.copro_optimizer: At Depth 1/3, Evaluating Prompt Candidate #5/10 for Predictor 1 of 1.\n"
     ]
    },
    {
     "name": "stdout",
     "output_type": "stream",
     "text": [
      "\n",
      "Average Metric: 2.32 / 5 (46.4%): 100%|██████████| 5/5 [00:03<00:00,  1.34it/s]"
     ]
    },
    {
     "name": "stderr",
     "output_type": "stream",
     "text": [
      "2025/04/19 19:23:03 INFO dspy.evaluate.evaluate: Average Metric: 2.3200000000000003 / 5 (46.4%)\n",
      "2025/04/19 19:23:03 INFO dspy.teleprompt.copro_optimizer: At Depth 1/3, Evaluating Prompt Candidate #6/10 for Predictor 1 of 1.\n"
     ]
    },
    {
     "name": "stdout",
     "output_type": "stream",
     "text": [
      "\n",
      "Average Metric: 2.32 / 5 (46.4%): 100%|██████████| 5/5 [00:05<00:00,  1.14s/it]"
     ]
    },
    {
     "name": "stderr",
     "output_type": "stream",
     "text": [
      "2025/04/19 19:23:09 INFO dspy.evaluate.evaluate: Average Metric: 2.3200000000000003 / 5 (46.4%)\n",
      "2025/04/19 19:23:09 INFO dspy.teleprompt.copro_optimizer: At Depth 1/3, Evaluating Prompt Candidate #7/10 for Predictor 1 of 1.\n"
     ]
    },
    {
     "name": "stdout",
     "output_type": "stream",
     "text": [
      "\n",
      "Average Metric: 2.32 / 5 (46.4%): 100%|██████████| 5/5 [00:04<00:00,  1.23it/s] "
     ]
    },
    {
     "name": "stderr",
     "output_type": "stream",
     "text": [
      "2025/04/19 19:23:13 INFO dspy.evaluate.evaluate: Average Metric: 2.3200000000000003 / 5 (46.4%)\n",
      "2025/04/19 19:23:13 INFO dspy.teleprompt.copro_optimizer: At Depth 1/3, Evaluating Prompt Candidate #8/10 for Predictor 1 of 1.\n"
     ]
    },
    {
     "name": "stdout",
     "output_type": "stream",
     "text": [
      "\n",
      "Average Metric: 2.32 / 5 (46.4%): 100%|██████████| 5/5 [00:05<00:00,  1.11s/it]"
     ]
    },
    {
     "name": "stderr",
     "output_type": "stream",
     "text": [
      "2025/04/19 19:23:19 INFO dspy.evaluate.evaluate: Average Metric: 2.3200000000000003 / 5 (46.4%)\n",
      "2025/04/19 19:23:19 INFO dspy.teleprompt.copro_optimizer: At Depth 1/3, Evaluating Prompt Candidate #9/10 for Predictor 1 of 1.\n"
     ]
    },
    {
     "name": "stdout",
     "output_type": "stream",
     "text": [
      "\n",
      "Average Metric: 2.32 / 5 (46.4%): 100%|██████████| 5/5 [00:06<00:00,  1.36s/it]"
     ]
    },
    {
     "name": "stderr",
     "output_type": "stream",
     "text": [
      "2025/04/19 19:23:25 INFO dspy.evaluate.evaluate: Average Metric: 2.3200000000000003 / 5 (46.4%)\n",
      "2025/04/19 19:23:25 INFO dspy.teleprompt.copro_optimizer: At Depth 1/3, Evaluating Prompt Candidate #10/10 for Predictor 1 of 1.\n"
     ]
    },
    {
     "name": "stdout",
     "output_type": "stream",
     "text": [
      "\n",
      "Average Metric: 2.32 / 5 (46.4%): 100%|██████████| 5/5 [00:03<00:00,  1.52it/s]"
     ]
    },
    {
     "name": "stderr",
     "output_type": "stream",
     "text": [
      "2025/04/19 19:23:29 INFO dspy.evaluate.evaluate: Average Metric: 2.3200000000000003 / 5 (46.4%)\n"
     ]
    },
    {
     "name": "stdout",
     "output_type": "stream",
     "text": [
      "\n"
     ]
    },
    {
     "name": "stderr",
     "output_type": "stream",
     "text": [
      "2025/04/19 19:23:32 INFO dspy.teleprompt.copro_optimizer: Iteration Depth: 2/3.\n",
      "2025/04/19 19:23:32 INFO dspy.teleprompt.copro_optimizer: At Depth 2/3, Evaluating Prompt Candidate #1/10 for Predictor 1 of 1.\n"
     ]
    },
    {
     "name": "stdout",
     "output_type": "stream",
     "text": [
      "Average Metric: 2.66 / 5 (53.2%): 100%|██████████| 5/5 [00:04<00:00,  1.24it/s]"
     ]
    },
    {
     "name": "stderr",
     "output_type": "stream",
     "text": [
      "2025/04/19 19:23:36 INFO dspy.evaluate.evaluate: Average Metric: 2.66 / 5 (53.2%)\n",
      "2025/04/19 19:23:36 INFO dspy.teleprompt.copro_optimizer: At Depth 2/3, Evaluating Prompt Candidate #2/10 for Predictor 1 of 1.\n"
     ]
    },
    {
     "name": "stdout",
     "output_type": "stream",
     "text": [
      "\n",
      "Average Metric: 2.33 / 5 (46.6%): 100%|██████████| 5/5 [00:05<00:00,  1.00s/it]"
     ]
    },
    {
     "name": "stderr",
     "output_type": "stream",
     "text": [
      "2025/04/19 19:23:41 INFO dspy.evaluate.evaluate: Average Metric: 2.33 / 5 (46.6%)\n",
      "2025/04/19 19:23:41 INFO dspy.teleprompt.copro_optimizer: At Depth 2/3, Evaluating Prompt Candidate #3/10 for Predictor 1 of 1.\n"
     ]
    },
    {
     "name": "stdout",
     "output_type": "stream",
     "text": [
      "\n",
      "Average Metric: 2.33 / 5 (46.6%): 100%|██████████| 5/5 [00:04<00:00,  1.17it/s]"
     ]
    },
    {
     "name": "stderr",
     "output_type": "stream",
     "text": [
      "2025/04/19 19:23:45 INFO dspy.evaluate.evaluate: Average Metric: 2.33 / 5 (46.6%)\n",
      "2025/04/19 19:23:45 INFO dspy.teleprompt.copro_optimizer: At Depth 2/3, Evaluating Prompt Candidate #4/10 for Predictor 1 of 1.\n"
     ]
    },
    {
     "name": "stdout",
     "output_type": "stream",
     "text": [
      "\n",
      "Average Metric: 2.32 / 5 (46.4%): 100%|██████████| 5/5 [00:02<00:00,  1.98it/s]"
     ]
    },
    {
     "name": "stderr",
     "output_type": "stream",
     "text": [
      "2025/04/19 19:23:48 INFO dspy.evaluate.evaluate: Average Metric: 2.3200000000000003 / 5 (46.4%)\n",
      "2025/04/19 19:23:48 INFO dspy.teleprompt.copro_optimizer: At Depth 2/3, Evaluating Prompt Candidate #5/10 for Predictor 1 of 1.\n"
     ]
    },
    {
     "name": "stdout",
     "output_type": "stream",
     "text": [
      "\n",
      "Average Metric: 1.99 / 5 (39.8%): 100%|██████████| 5/5 [00:03<00:00,  1.52it/s]"
     ]
    },
    {
     "name": "stderr",
     "output_type": "stream",
     "text": [
      "2025/04/19 19:23:51 INFO dspy.evaluate.evaluate: Average Metric: 1.9900000000000002 / 5 (39.8%)\n",
      "2025/04/19 19:23:51 INFO dspy.teleprompt.copro_optimizer: At Depth 2/3, Evaluating Prompt Candidate #6/10 for Predictor 1 of 1.\n"
     ]
    },
    {
     "name": "stdout",
     "output_type": "stream",
     "text": [
      "\n",
      "Average Metric: 2.32 / 5 (46.4%): 100%|██████████| 5/5 [00:02<00:00,  1.70it/s] "
     ]
    },
    {
     "name": "stderr",
     "output_type": "stream",
     "text": [
      "2025/04/19 19:23:54 INFO dspy.evaluate.evaluate: Average Metric: 2.3200000000000003 / 5 (46.4%)\n",
      "2025/04/19 19:23:54 INFO dspy.teleprompt.copro_optimizer: At Depth 2/3, Evaluating Prompt Candidate #7/10 for Predictor 1 of 1.\n"
     ]
    },
    {
     "name": "stdout",
     "output_type": "stream",
     "text": [
      "\n",
      "Average Metric: 2.32 / 5 (46.4%): 100%|██████████| 5/5 [00:03<00:00,  1.34it/s]"
     ]
    },
    {
     "name": "stderr",
     "output_type": "stream",
     "text": [
      "2025/04/19 19:23:58 INFO dspy.evaluate.evaluate: Average Metric: 2.3200000000000003 / 5 (46.4%)\n",
      "2025/04/19 19:23:58 INFO dspy.teleprompt.copro_optimizer: At Depth 2/3, Evaluating Prompt Candidate #8/10 for Predictor 1 of 1.\n"
     ]
    },
    {
     "name": "stdout",
     "output_type": "stream",
     "text": [
      "\n",
      "Average Metric: 2.33 / 5 (46.6%): 100%|██████████| 5/5 [00:04<00:00,  1.08it/s]"
     ]
    },
    {
     "name": "stderr",
     "output_type": "stream",
     "text": [
      "2025/04/19 19:24:02 INFO dspy.evaluate.evaluate: Average Metric: 2.33 / 5 (46.6%)\n",
      "2025/04/19 19:24:02 INFO dspy.teleprompt.copro_optimizer: At Depth 2/3, Evaluating Prompt Candidate #9/10 for Predictor 1 of 1.\n"
     ]
    },
    {
     "name": "stdout",
     "output_type": "stream",
     "text": [
      "\n",
      "Average Metric: 2.32 / 5 (46.4%): 100%|██████████| 5/5 [00:04<00:00,  1.17it/s]"
     ]
    },
    {
     "name": "stderr",
     "output_type": "stream",
     "text": [
      "2025/04/19 19:24:07 INFO dspy.evaluate.evaluate: Average Metric: 2.3200000000000003 / 5 (46.4%)\n",
      "2025/04/19 19:24:07 INFO dspy.teleprompt.copro_optimizer: At Depth 2/3, Evaluating Prompt Candidate #10/10 for Predictor 1 of 1.\n"
     ]
    },
    {
     "name": "stdout",
     "output_type": "stream",
     "text": [
      "\n",
      "Average Metric: 2.32 / 5 (46.4%): 100%|██████████| 5/5 [00:03<00:00,  1.36it/s]"
     ]
    },
    {
     "name": "stderr",
     "output_type": "stream",
     "text": [
      "2025/04/19 19:24:10 INFO dspy.evaluate.evaluate: Average Metric: 2.3200000000000003 / 5 (46.4%)\n"
     ]
    },
    {
     "name": "stdout",
     "output_type": "stream",
     "text": [
      "\n"
     ]
    },
    {
     "name": "stderr",
     "output_type": "stream",
     "text": [
      "2025/04/19 19:24:14 INFO dspy.teleprompt.copro_optimizer: Iteration Depth: 3/3.\n",
      "2025/04/19 19:24:14 INFO dspy.teleprompt.copro_optimizer: At Depth 3/3, Evaluating Prompt Candidate #1/10 for Predictor 1 of 1.\n"
     ]
    },
    {
     "name": "stdout",
     "output_type": "stream",
     "text": [
      "Average Metric: 1.99 / 5 (39.8%): 100%|██████████| 5/5 [00:02<00:00,  2.24it/s]"
     ]
    },
    {
     "name": "stderr",
     "output_type": "stream",
     "text": [
      "2025/04/19 19:24:16 INFO dspy.evaluate.evaluate: Average Metric: 1.9900000000000002 / 5 (39.8%)\n",
      "2025/04/19 19:24:16 INFO dspy.teleprompt.copro_optimizer: At Depth 3/3, Evaluating Prompt Candidate #2/10 for Predictor 1 of 1.\n"
     ]
    },
    {
     "name": "stdout",
     "output_type": "stream",
     "text": [
      "\n",
      "Average Metric: 2.66 / 5 (53.2%): 100%|██████████| 5/5 [00:03<00:00,  1.63it/s]"
     ]
    },
    {
     "name": "stderr",
     "output_type": "stream",
     "text": [
      "2025/04/19 19:24:20 INFO dspy.evaluate.evaluate: Average Metric: 2.66 / 5 (53.2%)\n",
      "2025/04/19 19:24:20 INFO dspy.teleprompt.copro_optimizer: At Depth 3/3, Evaluating Prompt Candidate #3/10 for Predictor 1 of 1.\n"
     ]
    },
    {
     "name": "stdout",
     "output_type": "stream",
     "text": [
      "\n",
      "Average Metric: 2.66 / 5 (53.2%): 100%|██████████| 5/5 [00:04<00:00,  1.04it/s]"
     ]
    },
    {
     "name": "stderr",
     "output_type": "stream",
     "text": [
      "2025/04/19 19:24:24 INFO dspy.evaluate.evaluate: Average Metric: 2.66 / 5 (53.2%)\n",
      "2025/04/19 19:24:24 INFO dspy.teleprompt.copro_optimizer: At Depth 3/3, Evaluating Prompt Candidate #4/10 for Predictor 1 of 1.\n"
     ]
    },
    {
     "name": "stdout",
     "output_type": "stream",
     "text": [
      "\n",
      "Average Metric: 2.33 / 5 (46.6%): 100%|██████████| 5/5 [00:04<00:00,  1.22it/s]"
     ]
    },
    {
     "name": "stderr",
     "output_type": "stream",
     "text": [
      "2025/04/19 19:24:28 INFO dspy.evaluate.evaluate: Average Metric: 2.33 / 5 (46.6%)\n",
      "2025/04/19 19:24:28 INFO dspy.teleprompt.copro_optimizer: At Depth 3/3, Evaluating Prompt Candidate #5/10 for Predictor 1 of 1.\n"
     ]
    },
    {
     "name": "stdout",
     "output_type": "stream",
     "text": [
      "\n",
      "Average Metric: 1.99 / 5 (39.8%): 100%|██████████| 5/5 [00:02<00:00,  2.19it/s]"
     ]
    },
    {
     "name": "stderr",
     "output_type": "stream",
     "text": [
      "2025/04/19 19:24:31 INFO dspy.evaluate.evaluate: Average Metric: 1.9900000000000002 / 5 (39.8%)\n",
      "2025/04/19 19:24:31 INFO dspy.teleprompt.copro_optimizer: At Depth 3/3, Evaluating Prompt Candidate #6/10 for Predictor 1 of 1.\n"
     ]
    },
    {
     "name": "stdout",
     "output_type": "stream",
     "text": [
      "\n",
      "Average Metric: 2.66 / 5 (53.2%): 100%|██████████| 5/5 [00:05<00:00,  1.08s/it] "
     ]
    },
    {
     "name": "stderr",
     "output_type": "stream",
     "text": [
      "2025/04/19 19:24:36 INFO dspy.evaluate.evaluate: Average Metric: 2.66 / 5 (53.2%)\n",
      "2025/04/19 19:24:36 INFO dspy.teleprompt.copro_optimizer: At Depth 3/3, Evaluating Prompt Candidate #7/10 for Predictor 1 of 1.\n"
     ]
    },
    {
     "name": "stdout",
     "output_type": "stream",
     "text": [
      "\n",
      "Average Metric: 2.32 / 5 (46.4%): 100%|██████████| 5/5 [00:06<00:00,  1.34s/it] "
     ]
    },
    {
     "name": "stderr",
     "output_type": "stream",
     "text": [
      "2025/04/19 19:24:43 INFO dspy.evaluate.evaluate: Average Metric: 2.3200000000000003 / 5 (46.4%)\n",
      "2025/04/19 19:24:43 INFO dspy.teleprompt.copro_optimizer: At Depth 3/3, Evaluating Prompt Candidate #8/10 for Predictor 1 of 1.\n"
     ]
    },
    {
     "name": "stdout",
     "output_type": "stream",
     "text": [
      "\n",
      "Average Metric: 2.32 / 5 (46.4%): 100%|██████████| 5/5 [00:05<00:00,  1.14s/it]"
     ]
    },
    {
     "name": "stderr",
     "output_type": "stream",
     "text": [
      "2025/04/19 19:24:49 INFO dspy.evaluate.evaluate: Average Metric: 2.3200000000000003 / 5 (46.4%)\n",
      "2025/04/19 19:24:49 INFO dspy.teleprompt.copro_optimizer: At Depth 3/3, Evaluating Prompt Candidate #9/10 for Predictor 1 of 1.\n"
     ]
    },
    {
     "name": "stdout",
     "output_type": "stream",
     "text": [
      "\n",
      "Average Metric: 2.32 / 5 (46.4%): 100%|██████████| 5/5 [00:03<00:00,  1.47it/s]"
     ]
    },
    {
     "name": "stderr",
     "output_type": "stream",
     "text": [
      "2025/04/19 19:24:52 INFO dspy.evaluate.evaluate: Average Metric: 2.3200000000000003 / 5 (46.4%)\n",
      "2025/04/19 19:24:52 INFO dspy.teleprompt.copro_optimizer: At Depth 3/3, Evaluating Prompt Candidate #10/10 for Predictor 1 of 1.\n"
     ]
    },
    {
     "name": "stdout",
     "output_type": "stream",
     "text": [
      "\n",
      "Average Metric: 2.66 / 5 (53.2%): 100%|██████████| 5/5 [00:03<00:00,  1.60it/s]"
     ]
    },
    {
     "name": "stderr",
     "output_type": "stream",
     "text": [
      "2025/04/19 19:24:55 INFO dspy.evaluate.evaluate: Average Metric: 2.66 / 5 (53.2%)\n"
     ]
    },
    {
     "name": "stdout",
     "output_type": "stream",
     "text": [
      "\n"
     ]
    }
   ],
   "source": [
    "from dspy.teleprompt import COPRO\n",
    "\n",
    "# optimize the prompt instructions instead of examples\n",
    "prompt_optimizer = COPRO(metric=metric, verbose=True)\n",
    "\n",
    "# Used in Evaluate class in the optimization process\n",
    "kwargs = dict(num_threads=64, display_progress=True, display_table=0) \n",
    "\n",
    "cot_prompt_compiled = prompt_optimizer.compile(CoT(), trainset=trainset[:5], eval_kwargs=kwargs)"
   ]
  },
  {
   "cell_type": "code",
   "execution_count": 85,
   "id": "8bb591c7",
   "metadata": {},
   "outputs": [
    {
     "name": "stdout",
     "output_type": "stream",
     "text": [
      "Score:  60.0\n",
      "Using the field `topic`, generate a brief logical reasoning related to it, and create a light-hearted joke that is inspired by that same topic. Ensure the joke is humorous and relatable, while the reasoning captures an essence of understanding about why the topic is significant or intriguing.\n"
     ]
    }
   ],
   "source": [
    "winner = cot_prompt_compiled.candidate_programs[0]\n",
    "print(\"Score: \", winner['score'])\n",
    "print(winner['instruction'])"
   ]
  }
 ],
 "metadata": {
  "kernelspec": {
   "display_name": "Python 3",
   "language": "python",
   "name": "python3"
  },
  "language_info": {
   "codemirror_mode": {
    "name": "ipython",
    "version": 3
   },
   "file_extension": ".py",
   "mimetype": "text/x-python",
   "name": "python",
   "nbconvert_exporter": "python",
   "pygments_lexer": "ipython3",
   "version": "3.13.2"
  }
 },
 "nbformat": 4,
 "nbformat_minor": 5
}
