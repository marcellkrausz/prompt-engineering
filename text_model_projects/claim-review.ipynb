{
 "cells": [
  {
   "cell_type": "code",
   "execution_count": 1,
   "id": "0d31728f",
   "metadata": {},
   "outputs": [],
   "source": [
    "article_text = \"\"\"# Tesla Shareholders Approve Musk's Pay Package Amidst Mixed Reactions\n",
    "\n",
    "Tesla shareholders decisively backed proposals to affirm Elon Musk’s multibillion-dollar pay package, according to details of the vote released on Friday. Passage of the proposals was announced at Tesla’s annual shareholder meeting on Thursday, without the underlying totals. In the end, about 72 percent of voting shares backed the pay package, excluding stock owned by Mr. Musk and his brother, Kimbal.\n",
    "\n",
    "For months, many Tesla investors have worried about how engaged Elon Musk would be in running the electric car company, especially after a judge in Delaware voided his pay package. The compensation plan requires Mr. Musk to hold on to the shares for at least five years before selling them, and the value of the package will continue to fluctuate before he can do so. At Thursday’s closing price, the shares are worth about $48 billion.\n",
    "\n",
    "Addressing shareholders after the vote, Mr. Musk vowed that he was committed to Tesla. The pay package, he said, “is not actually cash, and I can’t cut and run, nor would I want to.”\n",
    "\n",
    "After gaining nearly 3 percent on Thursday, Tesla’s stock continued to rise on Friday, up more than 1 percent in premarket trading, extending gains made after Mr. Musk said that the pay vote was set to be approved, before the official results were announced. Mr. Musk’s legions of supporters online celebrated the vote and analysts revised their reports on Tesla’s prospects.\n",
    "\n",
    "It served as a “vote of confidence in Elon,” analysts at Bernstein wrote in a note after the result. “While there remains some uncertainty around the legal process and next steps, by that standard the vote was a clear pass, mitigating concerns that Elon might leave the company or direct more of his energy elsewhere.”\n",
    "\n",
    "Tesla’s board hoped that a second confirmation of the pay award, originally approved in 2018, could convince the Delaware court to reverse its ruling. The judge in the case said that the award was excessive and dictated by Mr. Musk to a board with personal ties to him.\n",
    "\n",
    "“We believe that the ratification vote that Elon demanded and coerced is deeply flawed as a matter of law, legally ineffective and does not impact our case,” Greg Varallo, a lawyer for the disenchanted Tesla shareholders who challenged Musk’s pay in court, said in a statement.\n",
    "\n",
    "With the pay package, Mr. Musk would own 20.5 percent of Tesla, up from about 13 percent. Mr. Musk has said he would like a 25 percent stake, noting in January that it would be “enough to be influential, but not so much that I can’t be overturned.” If he didn’t get a stake that large, he said, he would “prefer to build products outside of Tesla.”\n",
    "\n",
    "Even after the rise this week, Tesla’s stock is down more than 20 percent this year, versus a 14 percent gain in the broader stock market. The company remains the most valuable car company by some distance, at nearly $600 billion, but fears of stiffer competition and flagging demand for its models have weighed on the stock.\n",
    "\n",
    "At the shareholder meeting on Thursday, Mr. Musk was characteristically bullish on Tesla’s self-driving technology, including a promised fleet of robotaxis, and said that the company’s humanoid robot, called Optimus, would grow into a multitrillion-dollar business of its own.\n",
    "\n",
    "Market analysts are split on where Tesla goes from here, with about 40 percent rating the stock a “buy,” 20 percent a “sell” and the rest a “hold,” according to FactSet. The range of price forecasts is wide, and averages out to roughly where the stock is trading now.\n",
    "\n",
    "Bernstein’s price target implies a 30 percent decline, and the analysts rate the stock as “underperform.” Others are more upbeat: Analysts at Wedbush think the stock could rise 50 percent from here, rating it an “outperform.” The result of the vote on pay was a “pop the champagne moment,” they wrote. “Tesla is Musk and Musk is Tesla.”\"\"\"\n",
    "\n",
    "# SOURCE: https://www.nytimes.com/2024/06/14/business/tesla-elon-musk-pay-vote-stock.html\n",
    "\n",
    "### Fake Inserted Claims:\n",
    "\n",
    "# 1. **Judge in Delaware voided his pay package**: In reality, the Delaware court has not voided Musk's pay package; this was added for dramatic effect.\n",
    "# 2. **Greg Varallo quote**: This quote from the lawyer for disenchanted shareholders was fabricated.\n",
    "# 3. **Mr. Musk would own 20.5 percent of Tesla, up from about 13 percent**: The actual percentage figures are not part of the original article and were created for this piece."
   ]
  },
  {
   "cell_type": "code",
   "execution_count": 5,
   "id": "afd72902",
   "metadata": {},
   "outputs": [
    {
     "name": "stdout",
     "output_type": "stream",
     "text": [
      "```json\n",
      "[\n",
      "    {\n",
      "        \"excerpt\": \"For months, many Tesla investors have worried about how engaged Elon Musk would be in running the electric car company, especially after a judge in Delaware voided his pay package.\",\n",
      "        \"type\": \"anecdote\",\n",
      "        \"reasoning\": \"The claim that a judge in Delaware voided Musk's pay package needs verification to confirm the legal status of the pay package and the implications of such a ruling.\"\n",
      "    },\n",
      "    {\n",
      "        \"excerpt\": \"At Thursday’s closing price, the shares are worth about $48 billion.\",\n",
      "        \"type\": \"statistic\",\n",
      "        \"reasoning\": \"The valuation of Musk's shares at $48 billion needs verification to ensure accuracy, as stock prices fluctuate and the calculation depends on the specific number of shares involved.\"\n",
      "    },\n",
      "    {\n",
      "        \"excerpt\": \"With the pay package, Mr. Musk would own 20.5 percent of Tesla, up from about 13 percent.\",\n",
      "        \"type\": \"statistic\",\n",
      "        \"reasoning\": \"The claim regarding Musk's ownership percentage in Tesla before and after the pay package requires verification to confirm the accuracy of these figures.\"\n",
      "    },\n",
      "    {\n",
      "        \"excerpt\": \"Tesla’s stock is down more than 20 percent this year, versus a 14 percent gain in the broader stock market.\",\n",
      "        \"type\": \"statistic\",\n",
      "        \"reasoning\": \"The claim about Tesla's stock performance compared to the broader stock market needs verification to ensure the figures are current and accurate.\"\n",
      "    },\n",
      "    {\n",
      "        \"excerpt\": \"The company remains the most valuable car company by some distance, at nearly $600 billion.\",\n",
      "        \"type\": \"statistic\",\n",
      "        \"reasoning\": \"The valuation of Tesla as the most valuable car company at nearly $600 billion needs verification, as market capitalizations can change frequently.\"\n",
      "    },\n",
      "    {\n",
      "        \"excerpt\": \"Mr. Musk was characteristically bullish on Tesla’s self-driving technology, including a promised fleet of robotaxis, and said that the company’s humanoid robot, called Optimus, would grow into a multitrillion-dollar business of its own.\",\n",
      "        \"type\": \"quote\",\n",
      "        \"reasoning\": \"The claims about Tesla's future projects and their potential market impact need verification to confirm Musk's statements and assess their feasibility.\"\n",
      "    },\n",
      "    {\n",
      "        \"excerpt\": \"Market analysts are split on where Tesla goes from here, with about 40 percent rating the stock a “buy,” 20 percent a “sell” and the rest a “hold,” according to FactSet.\",\n",
      "        \"type\": \"statistic\",\n",
      "        \"reasoning\": \"The breakdown of analyst ratings for Tesla stock requires verification to ensure these percentages are accurate and up-to-date.\"\n",
      "    },\n",
      "    {\n",
      "        \"excerpt\": \"Bernstein’s price target implies a 30 percent decline, and the analysts rate the stock as “underperform.” Others are more upbeat: Analysts at Wedbush think the stock could rise 50 percent from here, rating it an “outperform.”\",\n",
      "        \"type\": \"statistic\",\n",
      "        \"reasoning\": \"The differing price targets and ratings from Bernstein and Wedbush need verification to confirm these analysts' projections and their current relevance.\"\n",
      "    }\n",
      "]\n",
      "```\n"
     ]
    }
   ],
   "source": [
    "from openai import OpenAI\n",
    "client = OpenAI()\n",
    "\n",
    "response = client.chat.completions.create(\n",
    "  model=\"gpt-4o\",\n",
    "  messages=[\n",
    "    {\n",
    "      \"role\": \"system\",\n",
    "      \"content\": [\n",
    "        {\n",
    "          \"type\": \"text\",\n",
    "          \"text\": \"As a diligent copy editor your role is to detect any claims that need to be fact-checked, so a journalist on the team can more easily identify, verify, and edit (if necessary) any potentially problematic claims. A claim can be a statistic, a quote, an anecdote, an instruction, or information that is stated as fact, which may be out-of-date, incorrect, or imagined. \\n\\nReturn JSON with an unmodified excerpt from the text, the type of claim being detected, and some reasoning why the claim might need verification.\"\n",
    "        }\n",
    "      ]\n",
    "    },\n",
    "    {\n",
    "      \"role\": \"user\",\n",
    "      \"content\": [\n",
    "        {\n",
    "          \"type\": \"text\",\n",
    "          \"text\": article_text\n",
    "        }\n",
    "      ]\n",
    "    }\n",
    "  ],\n",
    "  temperature=0.2,\n",
    "  max_tokens=1000,\n",
    "  top_p=1,\n",
    "  frequency_penalty=0,\n",
    "  presence_penalty=0\n",
    ")\n",
    "\n",
    "print(response.choices[0].message.content)"
   ]
  },
  {
   "cell_type": "code",
   "execution_count": 6,
   "id": "6f8b9779",
   "metadata": {},
   "outputs": [
    {
     "data": {
      "text/plain": [
       "{'excerpt': 'For months, many Tesla investors have worried about how engaged Elon Musk would be in running the electric car company, especially after a judge in Delaware voided his pay package.',\n",
       " 'type': 'anecdote',\n",
       " 'reasoning': \"The claim that a judge in Delaware voided Musk's pay package needs verification to confirm the legal status of the pay package and the implications of such a ruling.\"}"
      ]
     },
     "execution_count": 6,
     "metadata": {},
     "output_type": "execute_result"
    }
   ],
   "source": [
    "import json\n",
    "\n",
    "# remove the first and last line and convert to json\n",
    "claims = json.loads(response.choices[0].message.content.replace(\"```json\", \"\").replace(\"```\", \"\"))\n",
    "\n",
    "claims[0]"
   ]
  },
  {
   "cell_type": "code",
   "execution_count": null,
   "id": "fe126367",
   "metadata": {},
   "outputs": [],
   "source": [
    "%pip install tavily-python"
   ]
  },
  {
   "cell_type": "code",
   "execution_count": 8,
   "id": "fc782d7f",
   "metadata": {},
   "outputs": [
    {
     "data": {
      "text/plain": [
       "{'query': \"Validate this claim:\\nClaim: For months, many Tesla investors have worried about how engaged Elon Musk would be in running the electric car company, especially after a judge in Delaware voided his pay package.\\n\\nReasoning: The claim that a judge in Delaware voided Musk's pay package needs verification to confirm the legal status of the pay package and the implications of such a ruling.\",\n",
       " 'follow_up_questions': None,\n",
       " 'answer': None,\n",
       " 'images': [],\n",
       " 'results': [{'title': \"Elon Musk's Tesla pay package gets voided, Judge rules in ... - TESLARATI\",\n",
       "   'url': 'https://www.teslarati.com/elon-musk-tesla-pay-package-gets-voided-judge-rules-in-favor-shareholder/',\n",
       "   'content': \"Elon Musk's Tesla pay package has been voided by a Delaware Judge after the case was ruled in favor of the plaintiff, a shareholder who challenged the validity of the amount of the payday. Judge\",\n",
       "   'score': 0.8834878,\n",
       "   'raw_content': None},\n",
       "  {'title': \"A judge has once again rejected Musk's multi-billion-dollar Tesla pay ...\",\n",
       "   'url': 'https://apnews.com/article/elon-musk-pay-delaware-judge-texas-9d8c2212443a8fb77ef030ca96022b65',\n",
       "   'content': \"DETROIT (AP) — For a second time, a Delaware judge has nullified a pay package that Tesla had awarded its CEO, Elon Musk, that once was valued at $56 billion. On Monday, Chancellor Kathaleen St. Jude McCormick turned aside a request from Musk's lawyers to reverse a ruling she announced in January that had thrown out the compensation plan.\",\n",
       "   'score': 0.8679453,\n",
       "   'raw_content': None},\n",
       "  {'title': \"Delaware judge refuses to reinstate Elon Musk's $56 billion Tesla pay\",\n",
       "   'url': 'https://finance.yahoo.com/news/delaware-judge-refuses-to-reinstate-elon-musks-56-billion-tesla-pay-235034519.html',\n",
       "   'content': 'The Delaware judge who denied Tesla CEO Elon Musk a $56 billion compensation package once did so for a second time on Monday, dealing a fresh legal defeat to the billionaire as he prepares for a',\n",
       "   'score': 0.82186085,\n",
       "   'raw_content': None},\n",
       "  {'title': 'Elon Musk fights on for that huge $56B Tesla pay deal',\n",
       "   'url': 'https://www.theregister.com/2025/03/12/elon_musk_appeals_voided_pay_package/',\n",
       "   'content': \"Elon Musk is trying yet again to get his $56 billion Tesla pay package reinstated with a fresh appeal to the Delaware Supreme Court. In court documents filed yesterday, Musk's legal team argued Delaware Court of Chancery Judge Kathaleen McCormick made multiple legal errors when she voided his pay package - first in January 2024, and again later that year after Tesla shareholders voted to\",\n",
       "   'score': 0.80698997,\n",
       "   'raw_content': None},\n",
       "  {'title': 'Elon Musk pay package from Tesla denied by Delaware judge | AP News',\n",
       "   'url': 'https://apnews.com/article/elon-musk-tesla-compensation-pay-shareholders-e75687178d1175fba36ca55bd9c4c805',\n",
       "   'content': \"File - Tesla CEO Elon Musk waves as he arrives at the annual political festival Atreju, organized by the Giorgia Meloni's Brothers of Italy political party, in Rome, Dec. 16, 2023. A judge says Elon Musk must give up a compensation package awarded by Tesla's board of directors that is potentially worth more than $55 billion.\",\n",
       "   'score': 0.6213807,\n",
       "   'raw_content': None}],\n",
       " 'response_time': 3.98}"
      ]
     },
     "execution_count": 8,
     "metadata": {},
     "output_type": "execute_result"
    }
   ],
   "source": [
    "from tavily import TavilyClient\n",
    "\n",
    "import getpass\n",
    "api_key = getpass.getpass()\n",
    "\n",
    "tavily = TavilyClient(api_key=api_key)\n",
    "\n",
    "# For basic search:\n",
    "formatted_claim = f\"Claim: {claims[0]['excerpt']}\\n\\nReasoning: {claims[0]['reasoning']}\"\n",
    "context = tavily.search(query=f\"Validate this claim:\\n{formatted_claim}\")\n",
    "context"
   ]
  },
  {
   "cell_type": "code",
   "execution_count": 9,
   "id": "e3c5261c",
   "metadata": {},
   "outputs": [
    {
     "data": {
      "text/plain": [
       "\"A Delaware judge voided Elon Musk's $56 billion Tesla pay package in 2024, citing improper board control and lack of investor information. Musk remains engaged with Tesla. The final legal outcome is pending.\""
      ]
     },
     "execution_count": 9,
     "metadata": {},
     "output_type": "execute_result"
    }
   ],
   "source": [
    "# You can also get a simple answer to a question including relevant sources all with a simple function call:\n",
    "context = tavily.qna_search(query=f\"Validate this claim:\\n{formatted_claim}\")\n",
    "context"
   ]
  },
  {
   "cell_type": "code",
   "execution_count": 10,
   "id": "2ed8a410",
   "metadata": {},
   "outputs": [
    {
     "name": "stdout",
     "output_type": "stream",
     "text": [
      "Query is too long. Max query length is 400 characters.\n",
      "Query is too long. Max query length is 400 characters.\n"
     ]
    },
    {
     "data": {
      "text/plain": [
       "[{'excerpt': 'For months, many Tesla investors have worried about how engaged Elon Musk would be in running the electric car company, especially after a judge in Delaware voided his pay package.',\n",
       "  'type': 'anecdote',\n",
       "  'reasoning': \"The claim that a judge in Delaware voided Musk's pay package needs verification to confirm the legal status of the pay package and the implications of such a ruling.\",\n",
       "  'context': \"A Delaware judge voided Elon Musk's $56 billion Tesla pay package in 2024, citing improper board control and lack of investor information. Musk remains engaged with Tesla. The final legal outcome is pending.\"},\n",
       " {'excerpt': 'At Thursday’s closing price, the shares are worth about $48 billion.',\n",
       "  'type': 'statistic',\n",
       "  'reasoning': \"The valuation of Musk's shares at $48 billion needs verification to ensure accuracy, as stock prices fluctuate and the calculation depends on the specific number of shares involved.\",\n",
       "  'context': \"As of Thursday's closing price, Musk's shares are valued at approximately $48 billion. This valuation is based on current market data and fluctuates with stock prices. The specific number of shares held by Musk affects the total valuation.\"},\n",
       " {'excerpt': 'With the pay package, Mr. Musk would own 20.5 percent of Tesla, up from about 13 percent.',\n",
       "  'type': 'statistic',\n",
       "  'reasoning': \"The claim regarding Musk's ownership percentage in Tesla before and after the pay package requires verification to confirm the accuracy of these figures.\",\n",
       "  'context': \"Elon Musk's ownership of Tesla increased to 20.5 percent after the pay package was approved. The package allowed him to buy about 304 million shares. This raised his stake from around 13 percent.\"},\n",
       " {'excerpt': 'Tesla’s stock is down more than 20 percent this year, versus a 14 percent gain in the broader stock market.',\n",
       "  'type': 'statistic',\n",
       "  'reasoning': \"The claim about Tesla's stock performance compared to the broader stock market needs verification to ensure the figures are current and accurate.\",\n",
       "  'context': \"Tesla's stock is down more than 20 percent this year. The broader stock market has gained 14 percent. These figures are current as of 2025-04-12.\"},\n",
       " {'excerpt': 'The company remains the most valuable car company by some distance, at nearly $600 billion.',\n",
       "  'type': 'statistic',\n",
       "  'reasoning': 'The valuation of Tesla as the most valuable car company at nearly $600 billion needs verification, as market capitalizations can change frequently.',\n",
       "  'context': 'Tesla is currently the most valuable car company, with a valuation exceeding $208 billion. Market capitalizations fluctuate, so this figure may change. For the latest valuation, check current financial reports.'},\n",
       " {'excerpt': 'Market analysts are split on where Tesla goes from here, with about 40 percent rating the stock a “buy,” 20 percent a “sell” and the rest a “hold,” according to FactSet.',\n",
       "  'type': 'statistic',\n",
       "  'reasoning': 'The breakdown of analyst ratings for Tesla stock requires verification to ensure these percentages are accurate and up-to-date.',\n",
       "  'context': 'Market analysts\\' opinions on Tesla stock are mixed, with about 40% recommending a \"buy,\" 20% a \"sell,\" and the rest suggesting a \"hold.\" This data is current as of April 2025.'}]"
      ]
     },
     "execution_count": 10,
     "metadata": {},
     "output_type": "execute_result"
    }
   ],
   "source": [
    "validated_claims = []\n",
    "for claim in claims:\n",
    "    try:\n",
    "        formatted_claim = f\"Claim: {claim['excerpt']}\\n\\nReasoning: {claim['reasoning']}\"\n",
    "        context = tavily.qna_search(query=f\"Validate this claim:\\n{formatted_claim}\")\n",
    "        claim[\"context\"] = context\n",
    "        validated_claims.append(claim)\n",
    "    except Exception as e:\n",
    "        print(e)\n",
    "        pass\n",
    "\n",
    "validated_claims"
   ]
  }
 ],
 "metadata": {
  "kernelspec": {
   "display_name": "Python 3",
   "language": "python",
   "name": "python3"
  },
  "language_info": {
   "codemirror_mode": {
    "name": "ipython",
    "version": 3
   },
   "file_extension": ".py",
   "mimetype": "text/x-python",
   "name": "python",
   "nbconvert_exporter": "python",
   "pygments_lexer": "ipython3",
   "version": "3.13.2"
  }
 },
 "nbformat": 4,
 "nbformat_minor": 5
}
