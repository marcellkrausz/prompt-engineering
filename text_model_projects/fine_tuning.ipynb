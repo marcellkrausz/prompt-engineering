{
 "cells": [
  {
   "cell_type": "code",
   "execution_count": null,
   "id": "bb63b891",
   "metadata": {},
   "outputs": [],
   "source": [
    "%pip install openai requests --upgrade"
   ]
  },
  {
   "cell_type": "code",
   "execution_count": 6,
   "id": "160cdc6f",
   "metadata": {},
   "outputs": [],
   "source": [
    "import requests\n",
    "import json\n",
    "import re\n",
    "import os\n",
    "import requests\n",
    "import getpass"
   ]
  },
  {
   "cell_type": "code",
   "execution_count": 7,
   "id": "6857d4c3",
   "metadata": {},
   "outputs": [],
   "source": [
    "OPENAI_API_KEY = getpass.getpass(\"Please enter your OpenAI Key:\")"
   ]
  },
  {
   "cell_type": "code",
   "execution_count": 4,
   "id": "b1c70123",
   "metadata": {},
   "outputs": [],
   "source": [
    "IS_RUNNING_CODE_LOCALLY = True"
   ]
  },
  {
   "cell_type": "code",
   "execution_count": 5,
   "id": "1ee4fcee",
   "metadata": {},
   "outputs": [
    {
     "name": "stdout",
     "output_type": "stream",
     "text": [
      "File saved to training_data.jsonl\n"
     ]
    }
   ],
   "source": [
    "# Your Google Drive shared link\n",
    "LINK = (\n",
    "    \"https://drive.google.com/file/d/1O6hubG33SyrG24m6TPZOLAmS0J2RxLCW/view?usp=sharing\"\n",
    ")\n",
    "\n",
    "# Extract the file ID from the URL using regex\n",
    "file_id_match = re.search(r\"d/([a-zA-Z0-9_-]+)/\", LINK)\n",
    "if file_id_match:\n",
    "    FILE_ID = file_id_match.group(1)\n",
    "else:\n",
    "    raise ValueError(\"Could not extract file ID from the provided URL\")\n",
    "\n",
    "# Generate the direct download link\n",
    "URL = f\"https://drive.google.com/uc?export=download&id={FILE_ID}\"\n",
    "\n",
    "# Download the file content\n",
    "response = requests.get(URL)\n",
    "response.raise_for_status()\n",
    "\n",
    "# Save the content to a local .jsonl file in Colab\n",
    "file_path = \"/content/training_data.jsonl\"\n",
    "if IS_RUNNING_CODE_LOCALLY:\n",
    "    file_path = \"training_data.jsonl\"\n",
    "\n",
    "with open(file_path, \"w\") as f:\n",
    "    f.write(response.text)\n",
    "\n",
    "print(f\"File saved to {file_path}\")"
   ]
  },
  {
   "cell_type": "code",
   "execution_count": 6,
   "id": "52362c05",
   "metadata": {},
   "outputs": [
    {
     "data": {
      "text/plain": [
       "304"
      ]
     },
     "execution_count": 6,
     "metadata": {},
     "output_type": "execute_result"
    }
   ],
   "source": [
    "# List to hold all the JSON objects from the file\n",
    "data_list = []\n",
    "\n",
    "with open(file_path, 'r') as file:\n",
    "    for line in file:\n",
    "        data = json.loads(line.strip())\n",
    "        data_list.append(data)\n",
    "\n",
    "# Now data_list contains all the JSON objects from the file\n",
    "len(data_list)"
   ]
  },
  {
   "cell_type": "code",
   "execution_count": 12,
   "id": "bf4955f1",
   "metadata": {},
   "outputs": [
    {
     "name": "stdout",
     "output_type": "stream",
     "text": [
      "{'object': 'file', 'id': 'file-U6aGVwKtwDA91Sqvw94umv', 'purpose': 'fine-tune', 'filename': 'training_data.jsonl', 'bytes': 464306, 'created_at': 1744220809, 'expires_at': None, 'status': 'processed', 'status_details': None}\n"
     ]
    }
   ],
   "source": [
    "headers = {\n",
    "    'Authorization': f'Bearer {OPENAI_API_KEY}',\n",
    "}\n",
    "\n",
    "files = {\n",
    "    'file': (file_path.split('/')[-1], open(file_path, 'rb')),\n",
    "}\n",
    "\n",
    "data = {\n",
    "    'purpose': 'fine-tune',\n",
    "}\n",
    "\n",
    "response = requests.post(\n",
    "    'https://api.openai.com/v1/files',\n",
    "    headers=headers,\n",
    "    data=data,\n",
    "    files=files\n",
    ")\n",
    "\n",
    "print(response.json())"
   ]
  },
  {
   "cell_type": "code",
   "execution_count": 34,
   "id": "4ddf0fe1",
   "metadata": {},
   "outputs": [
    {
     "data": {
      "text/plain": [
       "{'object': 'file',\n",
       " 'id': 'file-U6aGVwKtwDA91Sqvw94umv',\n",
       " 'purpose': 'fine-tune',\n",
       " 'filename': 'training_data.jsonl',\n",
       " 'bytes': 464306,\n",
       " 'created_at': 1744220809,\n",
       " 'expires_at': None,\n",
       " 'status': 'processed',\n",
       " 'status_details': None}"
      ]
     },
     "execution_count": 34,
     "metadata": {},
     "output_type": "execute_result"
    }
   ],
   "source": [
    "# Check the file is loaded\n",
    "response = requests.get(\n",
    "    'https://api.openai.com/v1/files',\n",
    "    headers=headers,\n",
    ")\n",
    "response.json()['data'][-1]"
   ]
  },
  {
   "cell_type": "code",
   "execution_count": null,
   "id": "8925b979",
   "metadata": {},
   "outputs": [],
   "source": [
    "import json\n",
    "\n",
    "TRAINING_FILE_ID = response.json()['data'][-1]['id']\n",
    "\n",
    "url = 'https://api.openai.com/v1/fine_tuning/jobs'\n",
    "\n",
    "headers = {\n",
    "    'Content-Type': 'application/json',\n",
    "    'Authorization': f'Bearer {OPENAI_API_KEY}',\n",
    "}\n",
    "\n",
    "data = {\n",
    "    \"training_file\": TRAINING_FILE_ID,\n",
    "    \"model\": \"gpt-3.5-turbo-1106\",\n",
    "}\n",
    "\n",
    "response = requests.post(url, headers=headers, data=json.dumps(data))\n",
    "\n",
    "print(response.json())"
   ]
  },
  {
   "cell_type": "code",
   "execution_count": 17,
   "id": "115e2568",
   "metadata": {},
   "outputs": [],
   "source": [
    "job_id = \"ftjob-IJKWGuXaGbmk9iaDBwOo0dCR\"\n",
    "response = requests.get(\n",
    "    f\"https://api.openai.com/v1/fine_tuning/jobs/{job_id}\",\n",
    "    headers={\n",
    "        \"Authorization\": f\"Bearer {OPENAI_API_KEY}\"\n",
    "    }\n",
    ")"
   ]
  },
  {
   "cell_type": "code",
   "execution_count": 20,
   "id": "855715fa",
   "metadata": {},
   "outputs": [
    {
     "name": "stdout",
     "output_type": "stream",
     "text": [
      "{'object': 'fine_tuning.job', 'id': 'ftjob-IJKWGuXaGbmk9iaDBwOo0dCR', 'model': 'gpt-3.5-turbo-1106', 'created_at': 1744221114, 'finished_at': 1744222591, 'fine_tuned_model': 'ft:gpt-3.5-turbo-1106:personal::BKUGPfmw', 'organization_id': 'org-C5xNTgkE7xTz1VYEy6oKSbfM', 'result_files': ['file-AhTmbjisDigPwqrXoAH6Lc'], 'status': 'succeeded', 'validation_file': None, 'training_file': 'file-U6aGVwKtwDA91Sqvw94umv', 'hyperparameters': {'n_epochs': 3, 'batch_size': 1, 'learning_rate_multiplier': 2}, 'trained_tokens': 277545, 'error': {}, 'user_provided_suffix': None, 'seed': 1187546622, 'estimated_finish': None, 'integrations': [], 'metadata': None, 'method': {'type': 'supervised', 'supervised': {'hyperparameters': {'n_epochs': 3, 'batch_size': 1, 'learning_rate_multiplier': 2.0}}}}\n"
     ]
    }
   ],
   "source": [
    "print(response.json())  # Check status"
   ]
  },
  {
   "cell_type": "code",
   "execution_count": 24,
   "id": "ec1c7e00",
   "metadata": {},
   "outputs": [
    {
     "data": {
      "text/plain": [
       "2.2203600000000003"
      ]
     },
     "execution_count": 24,
     "metadata": {},
     "output_type": "execute_result"
    }
   ],
   "source": [
    "response.json()['trained_tokens'] * 0.008 / 1000 # 0.008 cents per 1k tokens"
   ]
  },
  {
   "cell_type": "code",
   "execution_count": 25,
   "id": "d8852b8b",
   "metadata": {},
   "outputs": [
    {
     "name": "stdout",
     "output_type": "stream",
     "text": [
      "ft:gpt-3.5-turbo-1106:personal::BKUGPfmw\n"
     ]
    }
   ],
   "source": [
    "print(response.json()['fine_tuned_model']) # get the model name"
   ]
  },
  {
   "cell_type": "code",
   "execution_count": 27,
   "id": "6e7f3348",
   "metadata": {},
   "outputs": [
    {
     "name": "stdout",
     "output_type": "stream",
     "text": [
      "{'id': 'chatcmpl-BKUTI8PKpB5chMIOyTMdF4HXY6Hcn', 'object': 'chat.completion', 'created': 1744223392, 'model': 'ft:gpt-3.5-turbo-1106:personal::BKUGPfmw', 'choices': [{'index': 0, 'message': {'role': 'assistant', 'content': \"It sounds mercenary to discuss it so plainly, but getting to understanding how agencies make their money without understanding how they work economically is your road to ruin. Agencies aren't non-profits — they are businesses and although none of them handle advertising themselves, they market for clients. Knowing the terminology can be really helpful in conversations, and can lead to you making a better deal economically. See more information about this.The Sandwich ProblemFor instance, many employees at agencies might be surprised to realize the impact they have on gross margins — many people see their names on the website and think they are directly 'billable', yet despite what they might complain to their significant other, they would never be billed out at 100% of their cost. In fact, to get a margin of 20-40%, a billable employee must not have their direct cost be more than 50-80% of their market rate — leaving precious little margin for doing good work, taxes, or investment. This is what Daniel Jacobs from Avocet Communications called the 'Sandwich Problem' — the direct cost of producing the ad (with the bare minimum margin) is the bread and the filling, with a lot of unbillable activities such as pitches and pixie dust making up the bulk of the sandwich. I prefer looking at potential savings and handling them case by case, rather than punishing service providers for every less profitable idea by removing line items from their budget, which I think often has the counterproductive result of making the work less effective.https://vichealthvic.blogspot.com/2009/02/youth-ads.html\", 'refusal': None, 'annotations': []}, 'logprobs': None, 'finish_reason': 'stop'}], 'usage': {'prompt_tokens': 34, 'completion_tokens': 324, 'total_tokens': 358, 'prompt_tokens_details': {'cached_tokens': 0, 'audio_tokens': 0}, 'completion_tokens_details': {'reasoning_tokens': 0, 'audio_tokens': 0, 'accepted_prediction_tokens': 0, 'rejected_prediction_tokens': 0}}, 'service_tier': 'default', 'system_fingerprint': None}\n"
     ]
    }
   ],
   "source": [
    "MODEL_NAME = response.json()['fine_tuned_model']\n",
    "\n",
    "url = 'https://api.openai.com/v1/chat/completions'\n",
    "\n",
    "headers = {\n",
    "    'Content-Type': 'application/json',\n",
    "    'Authorization': f'Bearer {OPENAI_API_KEY}',\n",
    "}\n",
    "\n",
    "data = {\n",
    "    \"model\": MODEL_NAME,\n",
    "    \"messages\": [\n",
    "        {\n",
    "            \"role\": \"system\",\n",
    "            \"content\": \"You are a helpful assistant.\"\n",
    "        },\n",
    "        {\n",
    "            \"role\": \"user\",\n",
    "            \"content\": \"Write the section 'How Agencies Make Money' for the blog post 'Agency Economics'\"\n",
    "        }\n",
    "    ]\n",
    "}\n",
    "\n",
    "response = requests.post(url, headers=headers, data=json.dumps(data))\n",
    "\n",
    "print(response.json())  # Print the response or handle it as needed"
   ]
  },
  {
   "cell_type": "code",
   "execution_count": 28,
   "id": "a43324e6",
   "metadata": {},
   "outputs": [
    {
     "name": "stdout",
     "output_type": "stream",
     "text": [
      "It sounds mercenary to discuss it so plainly, but getting to understanding how agencies make their money without understanding how they work economically is your road to ruin. Agencies aren't non-profits — they are businesses and although none of them handle advertising themselves, they market for clients. Knowing the terminology can be really helpful in conversations, and can lead to you making a better deal economically. See more information about this.The Sandwich ProblemFor instance, many employees at agencies might be surprised to realize the impact they have on gross margins — many people see their names on the website and think they are directly 'billable', yet despite what they might complain to their significant other, they would never be billed out at 100% of their cost. In fact, to get a margin of 20-40%, a billable employee must not have their direct cost be more than 50-80% of their market rate — leaving precious little margin for doing good work, taxes, or investment. This is what Daniel Jacobs from Avocet Communications called the 'Sandwich Problem' — the direct cost of producing the ad (with the bare minimum margin) is the bread and the filling, with a lot of unbillable activities such as pitches and pixie dust making up the bulk of the sandwich. I prefer looking at potential savings and handling them case by case, rather than punishing service providers for every less profitable idea by removing line items from their budget, which I think often has the counterproductive result of making the work less effective.https://vichealthvic.blogspot.com/2009/02/youth-ads.html\n"
     ]
    }
   ],
   "source": [
    "print(response.json()['choices'][0]['message']['content'])"
   ]
  },
  {
   "cell_type": "code",
   "execution_count": 29,
   "id": "a5cee4a7",
   "metadata": {},
   "outputs": [
    {
     "name": "stdout",
     "output_type": "stream",
     "text": [
      "By Sokanon – Own work (Original text: I created this work entirely by myself.), CC BY-SA 3.0, https://commons.wikimedia.org/w/index.php?curid=20706071Memes have been strongly criticised by biologists like Dawkins who believes they don't have the same properties as genes and therefore aren't a useful concept, other than describing the spread of internet jokes (or the effect on information of any infectious disease might be a more timely example).Dawkins himself says \"I think it‘s possible to have a science of cultural evolution\", then goes on to point out how hard it is to quantify memes and test their spread.  In his book The God Delusion, he says:  “It is socially useful to have an over-arching term, as a unifying discipline, for ‘the study of things that spread.’ But ‘viral marketing’ and ‘memetics’ are doing scientific and public understanding a disservice in lumping together such a mix of ill-matched study topics.\" ~ Richard Dawkins\n"
     ]
    }
   ],
   "source": [
    "data = {\n",
    "    \"model\": MODEL_NAME,\n",
    "    \"messages\": [\n",
    "        {\n",
    "            \"role\": \"system\",\n",
    "            \"content\": \"You are a helpful assistant.\"\n",
    "        },\n",
    "        {\n",
    "            \"role\": \"user\",\n",
    "            \"content\": \"Write the section 'Criticisms of Memetics' for the blog post 'Why isn't Memetics a science?'\"\n",
    "        }\n",
    "    ]\n",
    "}\n",
    "\n",
    "response = requests.post(url, headers=headers, data=json.dumps(data))\n",
    "\n",
    "print(response.json()['choices'][0]['message']['content'])\n"
   ]
  }
 ],
 "metadata": {
  "kernelspec": {
   "display_name": "Python 3",
   "language": "python",
   "name": "python3"
  },
  "language_info": {
   "codemirror_mode": {
    "name": "ipython",
    "version": 3
   },
   "file_extension": ".py",
   "mimetype": "text/x-python",
   "name": "python",
   "nbconvert_exporter": "python",
   "pygments_lexer": "ipython3",
   "version": "3.13.2"
  }
 },
 "nbformat": 4,
 "nbformat_minor": 5
}
