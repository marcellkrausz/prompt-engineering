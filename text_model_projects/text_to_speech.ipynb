{
 "cells": [
  {
   "cell_type": "code",
   "execution_count": null,
   "id": "264515f9",
   "metadata": {},
   "outputs": [],
   "source": [
    "%pip install langchain langchain_openai openai --upgrade"
   ]
  },
  {
   "cell_type": "code",
   "execution_count": 2,
   "id": "08a43174",
   "metadata": {},
   "outputs": [],
   "source": [
    "import getpass\n",
    "import os\n",
    "\n",
    "def _set_env(var: str):\n",
    "    if not os.environ.get(var):\n",
    "        os.environ[var] = getpass.getpass(f\"{var}: \")\n",
    "\n",
    "_set_env(\"OPENAI_API_KEY\")"
   ]
  },
  {
   "cell_type": "code",
   "execution_count": null,
   "id": "2069b73a",
   "metadata": {},
   "outputs": [],
   "source": [
    "from openai import OpenAI\n",
    "\n",
    "client = OpenAI()\n",
    "\n",
    "speech_file_path = \"speech.mp3\"\n",
    "response = client.audio.speech.create(\n",
    "    model=\"tts-1\",\n",
    "    voice=\"alloy\",\n",
    "    input=\"Today is a wonderful day to build something people love!\",\n",
    ")\n",
    "\n",
    "# Stream the response to a file\n",
    "with open(speech_file_path, \"wb\") as file:\n",
    "    for chunk in response.iter_bytes():\n",
    "        file.write(chunk)"
   ]
  },
  {
   "cell_type": "code",
   "execution_count": 9,
   "id": "10880085",
   "metadata": {},
   "outputs": [
    {
     "name": "stderr",
     "output_type": "stream",
     "text": [
      "USER_AGENT environment variable not set, consider setting it to identify your requests.\n"
     ]
    }
   ],
   "source": [
    "# Let's automate a BBC News Article and Generate The Audio for It:\n",
    "from langchain_community.document_loaders import WebBaseLoader\n",
    "\n",
    "url = 'https://www.bbc.com/sport/live/cvg1zx59kgjt'\n",
    "\n",
    "loader = WebBaseLoader(url)\n",
    "\n",
    "# Extract the text:\n",
    "data = loader.load()"
   ]
  },
  {
   "cell_type": "code",
   "execution_count": 10,
   "id": "4a2854b9",
   "metadata": {},
   "outputs": [],
   "source": [
    "# Joining all of the documents and removing any redundant characters:\n",
    "web_text = \" \".join([doc.page_content for doc in data]).replace('\\n', '')"
   ]
  },
  {
   "cell_type": "code",
   "execution_count": 11,
   "id": "493ed311",
   "metadata": {},
   "outputs": [
    {
     "data": {
      "text/plain": [
       "20650"
      ]
     },
     "execution_count": 11,
     "metadata": {},
     "output_type": "execute_result"
    }
   ],
   "source": [
    "len(web_text) # Checking the character length."
   ]
  },
  {
   "cell_type": "code",
   "execution_count": null,
   "id": "bf0546ca",
   "metadata": {},
   "outputs": [],
   "source": [
    "from langchain_openai import ChatOpenAI\n",
    "from langchain.chains.summarize import load_summarize_chain\n",
    "from langchain_core.documents import Document\n",
    "from langchain_core.prompts import ChatPromptTemplate\n",
    "\n",
    "# Map\n",
    "map_template = \"\"\"The following is a set of documents for a BBC News Article:\n",
    "{text}\n",
    "Based on this list of docs, please extract the story and make it sound engaging:\n",
    "\"\"\"\n",
    "map_prompt = ChatPromptTemplate.from_template(map_template)\n",
    "\n",
    "# If over 4090 characters, then summarize:\n",
    "if len(web_text) > 4090:\n",
    "    chain = load_summarize_chain(ChatOpenAI(), \n",
    "                                 chain_type=\"map_reduce\", \n",
    "                                 map_prompt=map_prompt, \n",
    "                                 combine_prompt=map_prompt)\n",
    "    \n",
    "    result = chain.invoke({\"input_documents\": [Document(page_content=web_text)]})\n",
    "    web_text = result['output_text']\n",
    "\n",
    "# TODO - You might also want to clean up the text anyway to ensure an effective story is generated through the \n",
    "# text to speech"
   ]
  },
  {
   "cell_type": "code",
   "execution_count": 20,
   "id": "cb0e1cc6",
   "metadata": {},
   "outputs": [
    {
     "name": "stdout",
     "output_type": "stream",
     "text": [
      "Max Verstappen stole the show at the F1 Japanese Grand Prix, delivering a breathtaking performance to claim victory for Red Bull. In a thrilling race filled with fierce competition, the Dutch driver held off strong challenges from McLaren's Lando Norris and Oscar Piastri to secure his first win of the season. With a masterful display of composure and skill, Verstappen's dominance on the track was undeniable.\n",
      "\n",
      "Despite a close call when Norris was forced onto the grass at the pit-lane exit, Verstappen's stellar pole position lap on Saturday proved to be a game-changer. McLaren's Piastri also put up a valiant effort, finishing in third place. Verstappen's triumph in Japan not only brings him within striking distance of Norris in the drivers' championship but also marks his fourth consecutive win at Suzuka.\n",
      "\n",
      "As the F1 circuit gears up for the next race in Bahrain, the stage is set for an exciting battle between Verstappen and Norris as they continue their quest for the championship title. The rivalry between these two drivers is heating up, promising fans thrilling racing action in the races to come. Don't miss a moment of the action as Verstappen and Norris go head-to-head in their bid for F1 glory.\n"
     ]
    }
   ],
   "source": [
    "print(web_text)"
   ]
  },
  {
   "cell_type": "code",
   "execution_count": 22,
   "id": "3cd5542d",
   "metadata": {},
   "outputs": [],
   "source": [
    "speech_file_path = \"speech.mp3\"\n",
    "response = client.audio.speech.create(\n",
    "    model=\"tts-1\",\n",
    "    voice=\"alloy\",\n",
    "    input=web_text,\n",
    ")\n",
    "\n",
    "# Stream the response to a file\n",
    "with open(speech_file_path, \"wb\") as file:\n",
    "    for chunk in response.iter_bytes():\n",
    "        file.write(chunk)"
   ]
  }
 ],
 "metadata": {
  "kernelspec": {
   "display_name": "Python 3",
   "language": "python",
   "name": "python3"
  },
  "language_info": {
   "codemirror_mode": {
    "name": "ipython",
    "version": 3
   },
   "file_extension": ".py",
   "mimetype": "text/x-python",
   "name": "python",
   "nbconvert_exporter": "python",
   "pygments_lexer": "ipython3",
   "version": "3.13.2"
  }
 },
 "nbformat": 4,
 "nbformat_minor": 5
}
