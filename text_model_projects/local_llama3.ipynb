{
 "cells": [
  {
   "cell_type": "markdown",
   "id": "ec247624",
   "metadata": {},
   "source": [
    "You must run this notebook locally after creating an LMStudio Server (download it here):\n",
    "- https://lmstudio.ai/"
   ]
  },
  {
   "cell_type": "code",
   "execution_count": null,
   "id": "72e0615e",
   "metadata": {},
   "outputs": [],
   "source": [
    "%pip install langchain langchain_openai --upgrade"
   ]
  },
  {
   "cell_type": "code",
   "execution_count": 15,
   "id": "f86948a7",
   "metadata": {},
   "outputs": [],
   "source": [
    "from langchain_core.messages import SystemMessage, HumanMessage\n",
    "from langchain_openai import ChatOpenAI\n",
    "from langchain.output_parsers import PydanticOutputParser\n",
    "from pydantic import Field, BaseModel\n",
    "from typing import List"
   ]
  },
  {
   "cell_type": "code",
   "execution_count": 20,
   "id": "8103ff99",
   "metadata": {},
   "outputs": [],
   "source": [
    "# Article Outline:\n",
    "class ArticleSectionOutline(BaseModel):\n",
    "    title: str = Field(description=\"The title of the section\")\n",
    "\n",
    "class ArticleOutline(BaseModel):\n",
    "    title: str = Field(description=\"The title of the article\")\n",
    "    sections: List[ArticleSectionOutline] = Field(description=\"All of the sections of the article\")\n",
    "\n",
    "parser = PydanticOutputParser(pydantic_object=ArticleOutline)\n",
    "format_instructions = parser.get_format_instructions()\n",
    "\n",
    "llm: ChatOpenAI = ChatOpenAI(\n",
    "    base_url=\"http://localhost:1234/v1\",\n",
    "    temperature=0,\n",
    "    api_key=\"not-needed\"\n",
    ")\n",
    "\n",
    "article_plan = llm.invoke(\n",
    "    [\n",
    "        SystemMessage(\n",
    "            content=f\"\"\"Act as a SEO specialist. \n",
    "                  You are very specialised in generating highly optimized SEO briefs for content marketers. \n",
    "                  {format_instructions}\n",
    "                  \"\"\"\n",
    "        ),\n",
    "        HumanMessage(\n",
    "            content=\"\"\"I want you to generate an effective article plan for me on Digital Marketing\n",
    "            \\n```\"\"\"\n",
    "        ),\n",
    "    ]\n",
    ")"
   ]
  },
  {
   "cell_type": "code",
   "execution_count": 21,
   "id": "b93bbe45",
   "metadata": {},
   "outputs": [],
   "source": [
    "article_outline = parser.parse(article_plan.content)"
   ]
  },
  {
   "cell_type": "code",
   "execution_count": 22,
   "id": "60847196",
   "metadata": {},
   "outputs": [
    {
     "data": {
      "text/plain": [
       "[ArticleSectionOutline(title='Introduction to Digital Marketing'),\n",
       " ArticleSectionOutline(title='Understanding Your Target Audience'),\n",
       " ArticleSectionOutline(title='Developing a Digital Marketing Strategy'),\n",
       " ArticleSectionOutline(title='Content Creation and Distribution'),\n",
       " ArticleSectionOutline(title='Search Engine Optimization (SEO)'),\n",
       " ArticleSectionOutline(title='Pay-Per-Click Advertising (PPC) and Google Ads'),\n",
       " ArticleSectionOutline(title='Social Media Marketing'),\n",
       " ArticleSectionOutline(title='Email Marketing and Automation'),\n",
       " ArticleSectionOutline(title='Measuring Success: Analytics and Reporting')]"
      ]
     },
     "execution_count": 22,
     "metadata": {},
     "output_type": "execute_result"
    }
   ],
   "source": [
    "article_outline.sections"
   ]
  }
 ],
 "metadata": {
  "kernelspec": {
   "display_name": "Python 3",
   "language": "python",
   "name": "python3"
  },
  "language_info": {
   "codemirror_mode": {
    "name": "ipython",
    "version": 3
   },
   "file_extension": ".py",
   "mimetype": "text/x-python",
   "name": "python",
   "nbconvert_exporter": "python",
   "pygments_lexer": "ipython3",
   "version": "3.13.2"
  }
 },
 "nbformat": 4,
 "nbformat_minor": 5
}
