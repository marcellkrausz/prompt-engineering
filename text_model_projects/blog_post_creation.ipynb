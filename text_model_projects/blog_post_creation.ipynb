{
 "cells": [
  {
   "cell_type": "code",
   "execution_count": null,
   "id": "007cfd3c",
   "metadata": {},
   "outputs": [],
   "source": [
    "%pip install langchain langchain-openai langchain-community pydantic --upgrade --quiet"
   ]
  },
  {
   "cell_type": "code",
   "execution_count": 1,
   "id": "a20968cd",
   "metadata": {},
   "outputs": [],
   "source": [
    "from typing import List\n",
    "from langchain_openai import ChatOpenAI\n",
    "from langchain_core.prompts import ChatPromptTemplate, SystemMessagePromptTemplate\n",
    "from langchain_core.output_parsers import StrOutputParser\n",
    "from pydantic import BaseModel, Field"
   ]
  },
  {
   "cell_type": "code",
   "execution_count": 3,
   "id": "a6efb4f5",
   "metadata": {},
   "outputs": [],
   "source": [
    "import getpass\n",
    "import os\n",
    "\n",
    "def _set_env(var: str):\n",
    "    if not os.environ.get(var):\n",
    "        os.environ[var] = getpass.getpass(f\"{var}: \")\n",
    "\n",
    "_set_env(\"OPENAI_API_KEY\")"
   ]
  },
  {
   "cell_type": "code",
   "execution_count": 27,
   "id": "7be34d2c",
   "metadata": {},
   "outputs": [],
   "source": [
    "model = ChatOpenAI(model=\"gpt-4o\")"
   ]
  },
  {
   "cell_type": "code",
   "execution_count": 5,
   "id": "4976cda1",
   "metadata": {},
   "outputs": [],
   "source": [
    "class Sections(BaseModel):\n",
    "    outline_sections: List[str] = Field(description=\"The sections of the blog post outline. If the point is a nested point, then add a number to the start of it.\")"
   ]
  },
  {
   "cell_type": "code",
   "execution_count": 28,
   "id": "5594c9c4",
   "metadata": {},
   "outputs": [],
   "source": [
    "# 1. Blog post outline chain:\n",
    "blog_post_outline_system_prompt = SystemMessagePromptTemplate.from_template(\n",
    "    '''You are a helpful assistant that writes blog post outlines. The outline must be incredibly long, extensive and detailed.\n",
    "    You are writing an article on the topic of: {topic}.\n",
    "    '''\n",
    ")\n",
    "blog_post_outline_chat_prompt = ChatPromptTemplate.from_messages([blog_post_outline_system_prompt])\n",
    "blog_post_outline_runnable = blog_post_outline_chat_prompt | model.with_structured_output(Sections)"
   ]
  },
  {
   "cell_type": "code",
   "execution_count": 29,
   "id": "e2b3d72a",
   "metadata": {},
   "outputs": [],
   "source": [
    "# 2. Create the blog post chain:\n",
    "blog_post_generation_system_prompt = SystemMessagePromptTemplate.from_template(\n",
    "    \"\"\"You are a helpful assistant that writes blog posts, the blog post must be detailed.\n",
    "    Here is the article topic: {topic}.\n",
    "    Here are the last 3 sections of the article that have been generated: {previous_article_sections}\n",
    "    Here are the next 3 sections of the article to be generated: {next_three_article_sections}\n",
    "    You must render the article in structured .md content.\n",
    "    You must only produce the content, never include the section headings as these are added later.\n",
    "    Current section content: \"\"\"\n",
    ")\n",
    "blog_post_generation_chat_prompt = ChatPromptTemplate.from_messages(\n",
    "    [blog_post_generation_system_prompt]\n",
    ")\n",
    "blog_post_generation_runnable = (\n",
    "    blog_post_generation_chat_prompt | model | StrOutputParser()\n",
    ")"
   ]
  },
  {
   "cell_type": "code",
   "execution_count": 30,
   "id": "10a249f1",
   "metadata": {},
   "outputs": [],
   "source": [
    "# 3. Generate the blog post outline:\n",
    "outline_result = blog_post_outline_runnable.invoke({\n",
    "    'topic': 'What is data engineering?'\n",
    "})"
   ]
  },
  {
   "cell_type": "code",
   "execution_count": 31,
   "id": "6d11787a",
   "metadata": {},
   "outputs": [
    {
     "data": {
      "text/plain": [
       "Sections(outline_sections=['1. Introduction', '  1.1. Definition of Data Engineering', '  1.2. Importance of Data Engineering in the Modern Data Ecosystem', '  1.3. Overview of the Article', '2. Historical Context of Data Engineering', '  2.1. Evolution of Data Management', '  2.2. Key Milestones in Data Engineering', '  2.3. Rise of Big Data and the Need for Modern Data Engineering', '3. Fundamental Concepts in Data Engineering', '  3.1. Data Infrastructure', '    3.1.1. Data Warehousing', '    3.1.2. Data Lakes', '    3.1.3. Cloud vs. On-Premises Solutions', '  3.2. Data Pipelines', '    3.2.1. ETL (Extract, Transform, Load)', '    3.2.2. ELT (Extract, Load, Transform)', '    3.2.3. Real-Time vs. Batch Processing', '  3.3. Data Transformation and Cleaning', '    3.3.1. Data Quality and Integrity', '    3.3.2. Data Normalization and Aggregation', '    3.3.3. Handling Missing Data and Anomalies', '4. Tools and Technologies in Data Engineering', '  4.1. Data Engineering Platforms', '    4.1.1. Apache Hadoop', '    4.1.2. Apache Spark', '    4.1.3. Airflow and Workflow Scheduling', '  4.2. Data Management Tools', '    4.2.1. Database Systems (SQL vs. NoSQL)', '    4.2.2. Data Storage Solutions', '  4.3. Visualization and Reporting', '    4.3.1. Integration with BI Tools', '    4.3.2. Dashboards and Reporting Platforms', '5. The Role of a Data Engineer', '  5.1. Key Responsibilities', '  5.2. Required Skills and Competencies', '  5.3. Collaboration with Other Roles in Data Science', '6. Challenges in Data Engineering', '  6.1. Scalability and Performance', '  6.2. Data Privacy and Security', '  6.3. Managing Diverse Data Sources', '7. Best Practices in Data Engineering', '  7.1. Designing Robust Data Pipelines', '  7.2. Ensuring Data Quality', '  7.3. Automating Data Engineering Processes', '8. Future Trends in Data Engineering', '  8.1. Integration of AI and Machine Learning', '  8.2. The Rise of DataOps', '  8.3. Increasing Importance of Streaming Data Solutions', '9. Conclusion', '  9.1. Recap of Key Points', '  9.2. The Growing Demand for Data Engineers', '  9.3. Final Thoughts and Recommendations'])"
      ]
     },
     "execution_count": 31,
     "metadata": {},
     "output_type": "execute_result"
    }
   ],
   "source": [
    "outline_result"
   ]
  },
  {
   "cell_type": "code",
   "execution_count": null,
   "id": "3370e9e5",
   "metadata": {},
   "outputs": [],
   "source": [
    "# 4. Sequentially generate all of the sections for an article, including the a window size of 3x sections, before and after\n",
    "history = []\n",
    "\n",
    "for i, current_section in enumerate(outline_result.outline_sections):\n",
    "    previous_sections = outline_result.outline_sections[max(0, i - 3) : i]\n",
    "    previous_content = \"\\n\".join(history[max(0, i - 3) : i])\n",
    "    next_sections = outline_result.outline_sections[i + 1 : i + 4]\n",
    "\n",
    "    section_content = blog_post_generation_runnable.invoke(\n",
    "        {\n",
    "            \"topic\": \"What is data engineering?\",\n",
    "            \"previous_article_sections\": f\"{previous_sections}\\n\\n{previous_content}\",\n",
    "            \"next_three_article_sections\": next_sections,\n",
    "        }\n",
    "    )\n",
    "\n",
    "    history.append(f\"## {current_section}\\n\\n{section_content}\\n\\n\")\n",
    "    print(f\"Generated section: {current_section}\")\n",
    "\n",
    "# Print or save the full blog post\n",
    "full_blog_post = \"\\n\".join(history)\n",
    "print(full_blog_post)"
   ]
  }
 ],
 "metadata": {
  "kernelspec": {
   "display_name": "Python 3",
   "language": "python",
   "name": "python3"
  },
  "language_info": {
   "codemirror_mode": {
    "name": "ipython",
    "version": 3
   },
   "file_extension": ".py",
   "mimetype": "text/x-python",
   "name": "python",
   "nbconvert_exporter": "python",
   "pygments_lexer": "ipython3",
   "version": "3.13.2"
  }
 },
 "nbformat": 4,
 "nbformat_minor": 5
}
