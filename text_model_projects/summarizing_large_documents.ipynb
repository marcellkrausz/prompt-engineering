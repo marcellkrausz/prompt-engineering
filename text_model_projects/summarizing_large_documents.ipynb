{
 "cells": [
  {
   "cell_type": "code",
   "execution_count": null,
   "metadata": {},
   "outputs": [],
   "source": [
    "%pip install langchain langchain_openai pypdf langchain-community --quiet --upgrade"
   ]
  },
  {
   "cell_type": "code",
   "execution_count": 17,
   "metadata": {},
   "outputs": [],
   "source": [
    "import getpass\n",
    "import os\n",
    "\n",
    "def _set_env(var: str):\n",
    "    if not os.environ.get(var):\n",
    "        os.environ[var] = getpass.getpass(f\"{var}: \")\n",
    "\n",
    "_set_env(\"OPENAI_API_KEY\")"
   ]
  },
  {
   "cell_type": "code",
   "execution_count": 18,
   "metadata": {},
   "outputs": [],
   "source": [
    "from langchain_openai.chat_models import ChatOpenAI\n",
    "from langchain_community.document_loaders import PyPDFLoader\n",
    "from langchain.text_splitter import RecursiveCharacterTextSplitter\n",
    "from langchain.chains.summarize import load_summarize_chain\n",
    "import requests"
   ]
  },
  {
   "cell_type": "code",
   "execution_count": 19,
   "metadata": {},
   "outputs": [],
   "source": [
    "# Download the PDF from blob storage:\n",
    "url = (\n",
    "    \"https://storage.googleapis.com/strapi_cms_assets/principles_of_marketing_book.pdf\"\n",
    ")\n",
    "response = requests.get(url)\n",
    "with open(\"principles_of_marketing_book.pdf\", \"wb\") as f:\n",
    "    f.write(response.content)"
   ]
  },
  {
   "cell_type": "code",
   "execution_count": 20,
   "metadata": {},
   "outputs": [],
   "source": [
    "# Create a text splitter, load the PDF and split it:\n",
    "text_splitter = RecursiveCharacterTextSplitter(chunk_size=200)\n",
    "loader = PyPDFLoader(\"principles_of_marketing_book.pdf\")\n",
    "pages = loader.load_and_split()"
   ]
  },
  {
   "cell_type": "code",
   "execution_count": 21,
   "metadata": {},
   "outputs": [
    {
     "data": {
      "text/plain": [
       "Document(metadata={'producer': 'Prince 12.5 (www.princexml.com)', 'creator': 'Pressbooks 5.18.1', 'creationdate': '2021-02-19T19:06:37+00:00', 'moddate': '2021-02-19T19:06:37+00:00', 'title': 'Principles of Marketing', 'gts_pdfxversion': 'PDF/X-4', 'trapped': '/False', 'source': 'principles_of_marketing_book.pdf', 'total_pages': 497, 'page': 0, 'page_label': '1'}, page_content='Principles of Marketing')"
      ]
     },
     "execution_count": 21,
     "metadata": {},
     "output_type": "execute_result"
    }
   ],
   "source": [
    "pages[0]"
   ]
  },
  {
   "cell_type": "code",
   "execution_count": 28,
   "metadata": {},
   "outputs": [
    {
     "name": "stdout",
     "output_type": "stream",
     "text": [
      "The PDF contains 229005 token.\n"
     ]
    }
   ],
   "source": [
    "import PyPDF2\n",
    "import tiktoken\n",
    "\n",
    "def extract_text_from_pdf(pdf_path):\n",
    "    with open(pdf_path, 'rb') as file:\n",
    "        reader = PyPDF2.PdfReader(file)\n",
    "        text = \"\"\n",
    "        for page in reader.pages:\n",
    "            text += page.extract_text() or \"\"\n",
    "    return text\n",
    "\n",
    "def count_tokens(text, model=\"gpt-4o-mini\"):\n",
    "    encoding = tiktoken.encoding_for_model(model)\n",
    "    tokens = encoding.encode(text)\n",
    "    return len(tokens)\n",
    "\n",
    "# Fő rész\n",
    "pdf_path = \"principles_of_marketing_book.pdf\"\n",
    "text = extract_text_from_pdf(pdf_path)\n",
    "num_tokens = count_tokens(text)\n",
    "\n",
    "print(f\"The PDF contains {num_tokens} token.\")"
   ]
  },
  {
   "cell_type": "code",
   "execution_count": 22,
   "metadata": {},
   "outputs": [],
   "source": [
    "llm = ChatOpenAI(model=\"gpt-4o-mini\")"
   ]
  },
  {
   "cell_type": "markdown",
   "metadata": {},
   "source": [
    "```python\n",
    "def load_summarize_chain(\n",
    "    llm: BaseLanguageModel,\n",
    "    chain_type: str = \"stuff\",\n",
    "    verbose: bool | None = None,\n",
    "    **kwargs: Any\n",
    ") -> BaseCombineDocumentsChain\n",
    "```\n",
    "\n",
    "The chain type can be either:\n",
    "\n",
    "- stuff: Combine all of the documents into a single LLM call and then summarize.\n",
    "- map_reduce: Summarize each document individually and then combine the summaries.\n",
    "- refine: Summarize each document sequentially, refining the previous summary with each new document."
   ]
  },
  {
   "cell_type": "code",
   "execution_count": 23,
   "metadata": {},
   "outputs": [],
   "source": [
    "summarization_chain = load_summarize_chain(llm=llm, chain_type=\"map_reduce\")"
   ]
  },
  {
   "cell_type": "code",
   "execution_count": null,
   "metadata": {},
   "outputs": [],
   "source": [
    "# Summarize the document using the summarization chain:\n",
    "result = summarization_chain.invoke(pages)"
   ]
  },
  {
   "cell_type": "code",
   "execution_count": 29,
   "metadata": {},
   "outputs": [],
   "source": [
    "# Doing a smaller summarization using the same chain:\n",
    "smaller_amount_of_pages = pages[:10]\n",
    "second_result = summarization_chain.invoke(smaller_amount_of_pages)"
   ]
  },
  {
   "cell_type": "code",
   "execution_count": 30,
   "metadata": {},
   "outputs": [
    {
     "data": {
      "text/plain": [
       "{'input_documents': [Document(metadata={'producer': 'Prince 12.5 (www.princexml.com)', 'creator': 'Pressbooks 5.18.1', 'creationdate': '2021-02-19T19:06:37+00:00', 'moddate': '2021-02-19T19:06:37+00:00', 'title': 'Principles of Marketing', 'gts_pdfxversion': 'PDF/X-4', 'trapped': '/False', 'source': 'principles_of_marketing_book.pdf', 'total_pages': 497, 'page': 0, 'page_label': '1'}, page_content='Principles of Marketing'),\n",
       "  Document(metadata={'producer': 'Prince 12.5 (www.princexml.com)', 'creator': 'Pressbooks 5.18.1', 'creationdate': '2021-02-19T19:06:37+00:00', 'moddate': '2021-02-19T19:06:37+00:00', 'title': 'Principles of Marketing', 'gts_pdfxversion': 'PDF/X-4', 'trapped': '/False', 'source': 'principles_of_marketing_book.pdf', 'total_pages': 497, 'page': 1, 'page_label': '2'}, page_content='Principles of Marketing\\n[Author remo ved at request of original publisher]\\nUNIVERSITY OF MINNESO TA LIBRARIES PUBLISHING EDITION, 2015. THIS EDITION AD APTED\\nFR OM A WORK ORIGINALL Y PR ODUCED IN 2010 BY A PUBLISHER WHO HAS REQUESTED THA T IT\\nNO T RECEIVE ATTRIBUTION.\\nMINNEAPOLIS, MN'),\n",
       "  Document(metadata={'producer': 'Prince 12.5 (www.princexml.com)', 'creator': 'Pressbooks 5.18.1', 'creationdate': '2021-02-19T19:06:37+00:00', 'moddate': '2021-02-19T19:06:37+00:00', 'title': 'Principles of Marketing', 'gts_pdfxversion': 'PDF/X-4', 'trapped': '/False', 'source': 'principles_of_marketing_book.pdf', 'total_pages': 497, 'page': 2, 'page_label': '3'}, page_content='Principles of Marketing by University of Minnesota is licensed under a Creative Commons Attribution-NonCommercial-ShareAlike 4.0\\nInternational License, except where otherwise noted.'),\n",
       "  Document(metadata={'producer': 'Prince 12.5 (www.princexml.com)', 'creator': 'Pressbooks 5.18.1', 'creationdate': '2021-02-19T19:06:37+00:00', 'moddate': '2021-02-19T19:06:37+00:00', 'title': 'Principles of Marketing', 'gts_pdfxversion': 'PDF/X-4', 'trapped': '/False', 'source': 'principles_of_marketing_book.pdf', 'total_pages': 497, 'page': 4, 'page_label': '5'}, page_content='Contents\\nPublisher Information ix\\nChapter 1: What is Marketing?\\n1.1 Defining Marketing 2\\n1.2 Who Does Marketing? 10\\n1.3 Why Study Marketing? 13\\n1.4 Themes and Organization of This Book 17\\n1.5 Discussion Questions and Activities 23\\nChapter 2: Strategic Planning\\n2.1 The Value Proposition 26\\n2.2 Components of the Strategic Planning Process 29\\n2.3 Developing Organizational Objectives and Formulating Strategies 41\\n2.4 Where Strategic Planning Occurs within Firms 46\\n2.5 Strategic Portfolio Planning Approaches 51\\n2.6 Discussion Questions and Activities 55\\nChapter 3: Consumer Behavior: How People Make Buying Decisions\\n3.1 Factors That Influence Consumers’ Buying Behavior 57\\n3.2 Low-Involvement Versus High-Involvement Buying Decisions and the Consumer’s\\nDecision-Making Process\\n76\\n3.3 Discussion Questions and Activities 85\\nChapter 4: Business Buying Behavior\\n4.1 The Characteristics of Business-to-Business (B2B) Markets 87\\n4.2 Types of B2B Buyers 91\\n4.3 Buying Centers 97\\n4.4 Stages in the B2B Buying Process and B2B Buying Situations 102\\n4.5 International B2B Markets and E-commerce 108\\n4.6 Ethics in B2B Markets 115\\n4.7 Discussion Questions and Activities 119'),\n",
       "  Document(metadata={'producer': 'Prince 12.5 (www.princexml.com)', 'creator': 'Pressbooks 5.18.1', 'creationdate': '2021-02-19T19:06:37+00:00', 'moddate': '2021-02-19T19:06:37+00:00', 'title': 'Principles of Marketing', 'gts_pdfxversion': 'PDF/X-4', 'trapped': '/False', 'source': 'principles_of_marketing_book.pdf', 'total_pages': 497, 'page': 5, 'page_label': '6'}, page_content='Chapter 5: Market Segmenting, Targeting, and Positioning\\n5.1 Targeted Marketing versus Mass Marketing 122\\n5.2 How Markets Are Segmented 130\\n5.3 Selecting Target Markets and Target-Market Strategies 148\\n5.4 Positioning and Repositioning Offerings 154\\n5.5 Discussion Questions and Activities 157\\nChapter 6: Creating Offerings\\n6.1 What Composes an Offering? 159\\n6.2 Types of Consumer Offerings 170\\n6.3 Types of Business-to-Business (B2B) Offerings 175\\n6.4 Branding, Labeling, and Packaging 179\\n6.5 Managing the Offering 184\\n6.6 Discussion Questions and Activities 186\\nChapter 7: Developing and Managing Offerings\\n7.1 The New Offering Development Process 188\\n7.2 Managing New Products: The Product Life Cycle 197\\n7.3 Discussion Questions and Activities 211\\nChapter 8: Using Marketing Channels to Create Value for Customers\\n8.1 Marketing Channels and Channel Partners 214\\n8.2 Typical Marketing Channels 223\\n8.3 Functions Performed by Channel Partners 235\\n8.4 Marketing Channel Strategies 240\\n8.5 Channel Dynamics 245\\n8.6 Discussion Questions and Activities 252\\nChapter 9: Using Supply Chains to Create Value for Customers\\n9.1 Sourcing and Procurement 254\\n9.2 Demand Planning and Inventory Control 261\\n9.3 Warehousing and Transportation 269\\n9.4 Track and Trace Systems and Reverse Logistics 277\\n9.5 Discussion Questions and Activities 280'),\n",
       "  Document(metadata={'producer': 'Prince 12.5 (www.princexml.com)', 'creator': 'Pressbooks 5.18.1', 'creationdate': '2021-02-19T19:06:37+00:00', 'moddate': '2021-02-19T19:06:37+00:00', 'title': 'Principles of Marketing', 'gts_pdfxversion': 'PDF/X-4', 'trapped': '/False', 'source': 'principles_of_marketing_book.pdf', 'total_pages': 497, 'page': 6, 'page_label': '7'}, page_content='Chapter 10: Gathering and Using Information: Marketing Research and Market\\nIntelligence\\n10.1 Marketing Information Systems 282\\n10.2 Steps in the Marketing Research Process 293\\n10.3 Discussion Questions and Activities 317\\nChapter 11: Integrated Marketing Communications and the Changing Media Landscape\\n11.1 Integrated Marketing Communications (IMC) 320\\n11.2 The Promotion (Communication) Mix 325\\n11.3 Factors Influencing the Promotion Mix, Communication Process, and Message Problems 328\\n11.4 Advertising and Direct Marketing 332\\n11.5 Message Strategies 334\\n11.6 The Promotion Budget 341\\n11.7 Sales Promotions 343\\n11.8 Discussion Questions and Activities 350\\nChapter 12: Public Relations, Social Media, and Sponsorships\\n12.1 Public Relations Activities and Tools 352\\n12.2 Social Media 359\\n12.3 Discussion Questions and Activities 362\\nChapter 13: Professional Selling\\n13.1 The Role Professional Salespeople Play 364\\n13.2 Customer Relationships and Selling Strategies 371\\n13.3 Sales Metrics (Measures) 379\\n13.4 Ethics in Sales and Sales Management 387\\n13.5 Integrating Sales and Marketing 392\\n13.6 Outsourcing the Sales Function 399\\n13.7 Discussion Questions and Activities 402\\nChapter 14: Customer Satisfaction, Loyalty, and Empowerment\\n14.1 Customer Communities 405\\n14.2 Loyalty Management 412\\n14.3 Customer Satisfaction 421\\n14.4 Ethics, Laws, and Customer Empowerment 429\\n14.5 Discussion Questions and Activities 436'),\n",
       "  Document(metadata={'producer': 'Prince 12.5 (www.princexml.com)', 'creator': 'Pressbooks 5.18.1', 'creationdate': '2021-02-19T19:06:37+00:00', 'moddate': '2021-02-19T19:06:37+00:00', 'title': 'Principles of Marketing', 'gts_pdfxversion': 'PDF/X-4', 'trapped': '/False', 'source': 'principles_of_marketing_book.pdf', 'total_pages': 497, 'page': 7, 'page_label': '8'}, page_content='Chapter 15: Price, the Only Revenue Generator\\n15.1 The Pricing Framework and a Firm’s Pricing Objectives 439\\n15.2 Factors That Affect Pricing Decisions 443\\n15.3 Pricing Strategies 448\\n15.4 Discussion Questions and Activities 455\\nChapter 16: The Marketing Plan\\n16. The Marketing Plan 457\\n16.1 Marketing Planning Roles 459\\n16.2 Functions of the Marketing Plan 461\\n16.3 Forecasting 475\\n16.4 Ongoing Marketing Planning and Evaluation 482\\n16.5 Discussion Questions and Activities 487\\nSupplementary Material 488'),\n",
       "  Document(metadata={'producer': 'Prince 12.5 (www.princexml.com)', 'creator': 'Pressbooks 5.18.1', 'creationdate': '2021-02-19T19:06:37+00:00', 'moddate': '2021-02-19T19:06:37+00:00', 'title': 'Principles of Marketing', 'gts_pdfxversion': 'PDF/X-4', 'trapped': '/False', 'source': 'principles_of_marketing_book.pdf', 'total_pages': 497, 'page': 8, 'page_label': '9'}, page_content='Publisher Information\\nPrinciples of Marketing is adapted\\nfrom a work produced and distributed\\nunder a Creative Commons license\\n(CC BY -NC-SA) in 2010 by a\\npublisher who has requested that they\\nand the original author not receive\\nattribution. This adapted edition is\\nproduced by the University of Minnesota Libraries Publishing through the eLearning Support Initiative.\\nThis adaptation has reformatted the original text, and replaced some images and figures to make the resulting\\nwhole more shareable. This adaptation has not significantly altered or updated the original 2010 text. This work\\nis made available under the terms of a Creative Commons Attribution-NonCommercial-ShareAlike license.\\nFor questions about this textbook please contact textbookuse@umn.edu\\nix'),\n",
       "  Document(metadata={'producer': 'Prince 12.5 (www.princexml.com)', 'creator': 'Pressbooks 5.18.1', 'creationdate': '2021-02-19T19:06:37+00:00', 'moddate': '2021-02-19T19:06:37+00:00', 'title': 'Principles of Marketing', 'gts_pdfxversion': 'PDF/X-4', 'trapped': '/False', 'source': 'principles_of_marketing_book.pdf', 'total_pages': 497, 'page': 9, 'page_label': '10'}, page_content='Chapter 1: What is Marketing?\\n1.1 Defining Marketing\\n1.2 Who Does Marketing?\\n1.3 Why Study Marketing?\\n1.4 Themes and Organization of This Book\\n1.5 Discussion Questions and Activities\\n1'),\n",
       "  Document(metadata={'producer': 'Prince 12.5 (www.princexml.com)', 'creator': 'Pressbooks 5.18.1', 'creationdate': '2021-02-19T19:06:37+00:00', 'moddate': '2021-02-19T19:06:37+00:00', 'title': 'Principles of Marketing', 'gts_pdfxversion': 'PDF/X-4', 'trapped': '/False', 'source': 'principles_of_marketing_book.pdf', 'total_pages': 497, 'page': 10, 'page_label': '11'}, page_content='1.1 Defining Marketing\\nLearning Objective\\n1. Define marketing and outline its components.\\nMarketing is defined by the American Marketing Association as “the activity , set of institutions, and processes\\nfor creating, communicating, delivering, and exchanging offerings that have value for customers, clients, partners,\\nand society at large1.” If you read the definition closely, you see that there are four activities, or components, of\\nmarketing:\\n1. Creating. The process of collaborating with suppliers and customers to create offerings that have value.\\n2. Communicating. Broadly, describing those offerings, as well as learning from customers.\\n3. Delivering. Getting those offerings to the consumer in a way that optimizes value.\\n4. Exchanging. Trading value for those offerings.\\nThe traditional way of viewing the components of marketing is via the four Ps:\\n1. Product. Goods and services (creating offerings).\\n2. Promotion. Communication.\\n3. Place. Getting the product to a point at which the customer can purchase it (delivering).\\n4. Price. The monetary amount charged for the product (exchanging).\\nIntroduced in the early 1950s, the four Ps were called the marketing mix, meaning that a marketing plan is a mix\\nof these four components.\\nIf the four Ps are the same as creating, communicating, delivering, and exchanging, you might be wondering\\nwhy there was a change. The answer is that they are not exactly the same. Product, price, place, and promotion\\nare nouns. As such, these words fail to capture all the activities of marketing. For example, exchanging requires\\nmechanisms for a transaction, which consist of more than simply a price or place. Exchanging requires, among\\nother things, the transfer of ownership. For example, when you buy a car , you sign documents that transfer the\\ncar’s title from the seller to you. That’s part of the exchange process.\\nEven the term product, which seems pretty obvious, is limited. Does the product include services that come with\\nyour new car purchase (such as free maintenance for a certain period of time on some models)? Or does the\\nproduct mean only the car itself?\\nFinally, none of the four Ps describes particularly well what marketing people do. However , one of the goals of\\nthis book is to focus on exactly what it is that marketing professionals do.\\n2')],\n",
       " 'output_text': '\"Principles of Marketing\" is a foundational text published by the University of Minnesota Libraries that outlines essential marketing concepts, including the marketing mix (product, price, place, promotion), market research, consumer behavior, and digital marketing. The book is structured into 16 chapters, each delving into various aspects of marketing, such as strategic planning, consumer purchasing decisions, B2B markets, and integrated marketing communications. It emphasizes the importance of understanding target audiences, building relationships, and creating value for business success. Discussion questions and activities at the end of each chapter reinforce learning. Licensed under Creative Commons, this text serves as a comprehensive guide for marketers in crafting effective strategies.'}"
      ]
     },
     "execution_count": 30,
     "metadata": {},
     "output_type": "execute_result"
    }
   ],
   "source": [
    "second_result"
   ]
  },
  {
   "cell_type": "markdown",
   "metadata": {},
   "source": [
    "# Doing a custom `MapReduceChain` to generate a summary in Hungarian:"
   ]
  },
  {
   "cell_type": "code",
   "execution_count": 40,
   "metadata": {},
   "outputs": [],
   "source": [
    "from langchain.chains.combine_documents.map_reduce import MapReduceDocumentsChain\n",
    "from langchain.chains.combine_documents.stuff import StuffDocumentsChain\n",
    "from langchain.chains import LLMChain\n",
    "from langchain_core.prompts import PromptTemplate\n",
    "from langchain.chains.mapreduce import MapReduceChain\n",
    "from langchain.text_splitter import CharacterTextSplitter\n",
    "\n",
    "\n",
    "map_template_string = \"\"\"Give the following pages of a marketing book. Generate a summary in Hungarian:\n",
    "Pages:\n",
    "{pages}\n",
    "\n",
    "Summary:\n",
    "\"\"\"\n",
    "\n",
    "reduce_template_string = \"\"\"Given the following Hungarian summaries of pages of a marketing book, generate a high level description of the book in Hungarian:\n",
    "Summaries:\n",
    "{summaries}\n",
    "\"\"\"\n",
    "\n",
    "# Prompt to use in map and reduce stages\n",
    "MAP_PROMPT = PromptTemplate(input_variables=[\"pages\"], template=map_template_string)\n",
    "REDUCE_PROMPT = PromptTemplate(\n",
    "    input_variables=[\"summaries\"], template=reduce_template_string\n",
    ")\n",
    "\n",
    "# LLM to use in map and reduce stages\n",
    "map_llm_chain = LLMChain(llm=llm, prompt=MAP_PROMPT)\n",
    "reduce_llm_chain = LLMChain(llm=llm, prompt=REDUCE_PROMPT)\n",
    "\n",
    "# Takes a list of documents and combines them into a single string\n",
    "combine_documents_chain = StuffDocumentsChain(\n",
    "    llm_chain=reduce_llm_chain,\n",
    "    document_variable_name=\"summaries\",\n",
    ")\n",
    "\n",
    "# Combining documents by mapping a chain over them, then combining results with reduce chain\n",
    "combine_documents = MapReduceDocumentsChain(\n",
    "    # Map chain\n",
    "    llm_chain=map_llm_chain,\n",
    "    # Reduce chain\n",
    "    # The variable name in the llm_chain to put the documents in:\n",
    "    document_variable_name=\"pages\",\n",
    "    combine_document_chain=combine_documents_chain,\n",
    ")\n",
    "\n",
    "map_reduce = MapReduceChain(\n",
    "    combine_documents_chain=combine_documents,\n",
    "    text_splitter=CharacterTextSplitter(\n",
    "        separator=\"\\n##\\n\", chunk_size=100, chunk_overlap=0\n",
    "    ),\n",
    ")"
   ]
  },
  {
   "cell_type": "code",
   "execution_count": 36,
   "metadata": {},
   "outputs": [],
   "source": [
    "map_reduce_result = map_reduce.invoke(\n",
    "    {\"input_text\": \"\\n\".join([doc.page_content for doc in pages])[0:100]}\n",
    ")"
   ]
  },
  {
   "cell_type": "code",
   "execution_count": 37,
   "metadata": {},
   "outputs": [
    {
     "data": {
      "text/plain": [
       "{'output_text': 'A \"Marketing Elvei\" című könyv átfogó áttekintést nyújt a marketing alapjairól, amely elengedhetetlen a vállalatok sikeres termék- és szolgáltatásértékesítéséhez. Részletesen elemzi a piackutatás szerepét, a célcsoportok azonosítását, valamint a marketing-mix négy fő elemét: terméket, árat, helyszínt és promóciót. A könyv hangsúlyozza a fogyasztói magatartás megértésének fontosságát, továbbá a márkaépítés jelentőségét a versenyképes piacon. Praktikus tanácsokat ad a hatékony marketingkommunikációhoz és a digitális marketing lehetőségeinek kihasználásához, így ideális útmutató mindazok számára, akik szeretnék elmélyíteni marketingismereteiket és fejleszteni stratégiáikat.'}"
      ]
     },
     "execution_count": 37,
     "metadata": {},
     "output_type": "execute_result"
    }
   ],
   "source": [
    "map_reduce_result"
   ]
  }
 ],
 "metadata": {
  "kernelspec": {
   "display_name": "Python 3",
   "language": "python",
   "name": "python3"
  },
  "language_info": {
   "codemirror_mode": {
    "name": "ipython",
    "version": 3
   },
   "file_extension": ".py",
   "mimetype": "text/x-python",
   "name": "python",
   "nbconvert_exporter": "python",
   "pygments_lexer": "ipython3",
   "version": "3.13.2"
  }
 },
 "nbformat": 4,
 "nbformat_minor": 2
}
