{
 "cells": [
  {
   "cell_type": "code",
   "execution_count": 1,
   "metadata": {},
   "outputs": [],
   "source": [
    "import os\n",
    "\n",
    "openai_api_key = os.getenv(\"OPENAI_API_KEY\")"
   ]
  },
  {
   "cell_type": "code",
   "execution_count": 2,
   "metadata": {},
   "outputs": [],
   "source": [
    "from operator import itemgetter\n",
    "from langchain_openai.chat_models import ChatOpenAI\n",
    "from langchain_core.prompts import ChatPromptTemplate\n",
    "from langchain_core.output_parsers import StrOutputParser\n",
    "from langchain_core.runnables import RunnableBranch, RunnablePassthrough"
   ]
  },
  {
   "cell_type": "code",
   "execution_count": 3,
   "metadata": {},
   "outputs": [
    {
     "name": "stdout",
     "output_type": "stream",
     "text": [
      "hello\n",
      "This is the default case, in case no above lambda functions match.\n"
     ]
    }
   ],
   "source": [
    "branch = RunnableBranch(\n",
    "                (lambda x: x == 'hello', lambda x: x),\n",
    "                (lambda x: isinstance(x, str), lambda x: x.upper()),\n",
    "                (lambda x: \"This is the default case, in case no above lambda functions match.\"),\n",
    "            )\n",
    "\n",
    "print(branch.invoke(\"hello\")) # \"hello\"\n",
    "print(branch.invoke(None)) # \"This is the default case\""
   ]
  },
  {
   "cell_type": "code",
   "execution_count": 4,
   "metadata": {},
   "outputs": [],
   "source": [
    "planner = (\n",
    "    ChatPromptTemplate.from_template(\"Generate an argument about: {input}\")\n",
    "    | ChatOpenAI(model = \"gpt-4o-mini\")\n",
    "    | StrOutputParser()\n",
    "    | {\"base_response\": RunnablePassthrough()}\n",
    ")\n",
    "\n",
    "arguments_for = (\n",
    "    ChatPromptTemplate.from_template(\n",
    "        \"List the pros or positive aspects of {base_response}\"\n",
    "    )\n",
    "    | ChatOpenAI(model = \"gpt-4o-mini\")\n",
    "    | StrOutputParser()\n",
    ")\n",
    "\n",
    "arguments_against = (\n",
    "    ChatPromptTemplate.from_template(\n",
    "        \"List the cons or negative aspects of {base_response}\"\n",
    "    )\n",
    "    | ChatOpenAI(model = \"gpt-4o-mini\")\n",
    "    | StrOutputParser()\n",
    ")\n",
    "\n",
    "final_responder = (\n",
    "    ChatPromptTemplate.from_messages(\n",
    "        [\n",
    "            (\"ai\", \"{original_response}\"),\n",
    "            (\"human\", \"Pros:\\n{results_1}\\n\\nCons:\\n{results_2}\"),\n",
    "            (\"system\", \"Generate a final response given the critique\"),\n",
    "        ]\n",
    "    )\n",
    "    | ChatOpenAI(model = \"gpt-4o-mini\")\n",
    "    | StrOutputParser()\n",
    ")\n",
    "\n",
    "chain = (\n",
    "    planner\n",
    "    | {\n",
    "        \"results_1\": arguments_for,\n",
    "        \"results_2\": arguments_against,\n",
    "        \"original_response\": itemgetter(\"base_response\"),\n",
    "    }\n",
    "    | final_responder\n",
    ")"
   ]
  },
  {
   "cell_type": "code",
   "execution_count": 5,
   "metadata": {},
   "outputs": [
    {
     "data": {
      "text/plain": [
       "\"In evaluating the adoption of Scrum as a project management framework, it is crucial to consider both its advantages and disadvantages comprehensively. The positive aspects of Scrum—including enhanced collaboration, incremental delivery, flexibility, transparency, and a focus on user needs—demonstrate its potential to significantly improve project outcomes in dynamic environments. However, acknowledging the inherent challenges is equally important for successful implementation.\\n\\n**Addressing the Critique of Scrum** \\n\\n1. **Training and Initial Learning Curve**: To mitigate the steep learning curve associated with Scrum, organizations should invest in comprehensive training programs and workshops. Providing access to resources and experienced Scrum trainers can help teams transition smoothly and quickly become proficient in the framework.\\n\\n2. **Overemphasis on Meetings**: While regular meetings are integral to Scrum, organizations should strive to ensure they are purposeful and efficient. Setting clear agendas, defining objectives for each meeting, and continuously evaluating the necessity of meetings can help minimize meeting fatigue.\\n\\n3. **Requires Full Team Commitment**: Building a strong team culture around Scrum is essential. Leadership should foster commitment through engagement initiatives and by encouraging team ownership of the Scrum process. Addressing any disengagement issues proactively is necessary to maintain momentum.\\n\\n4. **Potential for Scope Creep**: To prevent scope creep, teams must establish disciplined practices around managing changes to the backlog. Employing clear criteria for evaluating and prioritizing new requirements will help maintain project focus and control over timelines.\\n\\n5. **Risk of Inadequate Documentation**: Organizations should find a balance between the value of documentation and the agile philosophy. Developing concise, meaningful documentation frameworks that capture essential information while remaining manageable can enhance knowledge retention without sacrificing agility.\\n\\n6. **Dependency on the Product Owner**: Clarifying the role and empowering the Product Owner is vital for Scrum's success. Providing support and training can enhance the Product Owner's effectiveness in prioritizing tasks and engaging with the team.\\n\\n7. **Misalignment with Organizational Culture**: Successful implementation of Scrum requires a cultural shift. Leadership should actively promote the agile mindset and encourage collaboration, fostering an environment where Scrum can thrive amid traditional structures.\\n\\n8. **Difficulty with Remote Teams**: To address the challenges faced by remote teams, organizations can utilize digital collaboration tools that facilitate communication and engagement. Implementing strategies for effective virtual meetings can improve team dynamics across distances.\\n\\n9. **Limited Focus on Long-Term Planning**: While Scrum encourages short-term focus, it is important for teams to allocate time for long-term strategy discussions. Incorporating long-term goals into sprint planning sessions can ensure alignment with broader project visions.\\n\\n10. **Management Resistance**: Engaging management through education about the benefits of Scrum can reduce resistance. Showcasing successful case studies and establishing metrics to demonstrate improved outcomes may facilitate greater acceptance.\\n\\n**Conclusion**\\n\\nScrum represents a powerful framework for agile project management, offering numerous advantages that can lead to superior project results. However, its successful implementation requires a strategic approach to address challenges proactively. By understanding and responding effectively to the critiques of Scrum, organizations can create an environment conducive to agile practices that boosts team collaboration, productivity, and ultimately, project success. Embracing Scrum with awareness of its limitations equips teams to navigate the complexities of modern project management effectively.\""
      ]
     },
     "execution_count": 5,
     "metadata": {},
     "output_type": "execute_result"
    }
   ],
   "source": [
    "chain.invoke({\"input\": \"scrum\"})"
   ]
  },
  {
   "cell_type": "code",
   "execution_count": 7,
   "metadata": {},
   "outputs": [
    {
     "data": {
      "text/plain": [
       "'**Analysis**: The joke \"Why do bears have hairy coats? Because they look silly in sweaters!\" operates on multiple levels to deliver humor effectively.\\n\\n1. **Play on Words**: The setup creates an expectation for a sensible, biological explanation for why bears are covered in fur. However, the punchline surprises the audience with a whimsical reason, attributing fashion sense and human concerns about appearance to bears, which is inherently absurd.\\n\\n2. **Imagery**: The mental image of a bear attempting to wear a sweater is amusing due to the stark contrast between the majestic, wild nature of bears and the mundane concept of wearing clothing. This juxtaposition amplifies the humor as it defies the audience\\'s expectations of animal behavior.\\n\\n3. **Subversion of Expectations**: The joke cleverly subverts the listener\\'s anticipation of a straightforward biological answer by offering a silly and illogical response instead. This twist creates an element of surprise, which is a fundamental aspect of effective joke-telling.\\n\\n4. **Anthropomorphism**: By suggesting that bears consider fashion, the joke anthropomorphizes them, allowing listeners to connect with the concept in a playful manner. It makes the idea of animals in human-like situations relatable and entertaining.\\n\\nOverall, the joke succeeds in engaging audiences through its playful language, vivid imagery, and unexpected twists, fostering laughter while highlighting the silliness of imagining wild animals navigating human social norms.'"
      ]
     },
     "execution_count": 7,
     "metadata": {},
     "output_type": "execute_result"
    }
   ],
   "source": [
    "joke_chain = (\n",
    "    ChatPromptTemplate.from_template(\"Tell me a joke about {topic}\")\n",
    "    | ChatOpenAI(model=\"gpt-4o-mini\")\n",
    "    | StrOutputParser()\n",
    "    | {\"joke\": RunnablePassthrough(), \"topic\": RunnablePassthrough()}\n",
    ")\n",
    "\n",
    "explain_joke = (\n",
    "    ChatPromptTemplate.from_template(\"Explain the joke: {joke}\")\n",
    "    | ChatOpenAI(model=\"gpt-4o-mini\")\n",
    "    | StrOutputParser()\n",
    ")\n",
    "\n",
    "benefits_of_joke = (\n",
    "    ChatPromptTemplate.from_template(\"List the benefits of this joke: {joke}\")\n",
    "    | ChatOpenAI(model=\"gpt-4o-mini\")\n",
    "    | StrOutputParser()\n",
    ")\n",
    "\n",
    "final_responder = (\n",
    "    ChatPromptTemplate.from_messages(\n",
    "        [   \n",
    "            (\"system\", \"You are responsible for generating a small analysis of a joke. The topic will be: {topic}\"),\n",
    "            (\"ai\", \"{joke}. The benefits of this joke are: {benefits}\"),\n",
    "            (\"human\", \"The explanation of the joke is: {explanation}\"),\n",
    "            (\"human\", \"Generate a small analysis of the joke. Analysis: \"),\n",
    "        ]\n",
    "    )\n",
    "    | ChatOpenAI(model=\"gpt-4o-mini\")\n",
    "    | StrOutputParser()\n",
    ")\n",
    "\n",
    "final_chain = (\n",
    "    {\"topic\": RunnablePassthrough()}\n",
    "    | joke_chain\n",
    "    | {\n",
    "        \"explanation\": explain_joke,\n",
    "        \"benefits\": benefits_of_joke,\n",
    "        \"joke\": itemgetter(\"joke\"),\n",
    "        \"topic\": itemgetter(\"topic\"),\n",
    "    }\n",
    "    | final_responder\n",
    ")\n",
    "\n",
    "final_chain.invoke({\"topic\": \"bears\"})"
   ]
  }
 ],
 "metadata": {
  "kernelspec": {
   "display_name": "Python 3",
   "language": "python",
   "name": "python3"
  },
  "language_info": {
   "codemirror_mode": {
    "name": "ipython",
    "version": 3
   },
   "file_extension": ".py",
   "mimetype": "text/x-python",
   "name": "python",
   "nbconvert_exporter": "python",
   "pygments_lexer": "ipython3",
   "version": "3.13.2"
  }
 },
 "nbformat": 4,
 "nbformat_minor": 2
}
