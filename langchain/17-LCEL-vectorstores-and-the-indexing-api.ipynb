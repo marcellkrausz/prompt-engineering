{
 "cells": [
  {
   "cell_type": "code",
   "execution_count": null,
   "metadata": {},
   "outputs": [],
   "source": [
    "%pip install langchain langchain_openai langchain_elasticsearch faiss-cpu langchain-community --upgrade"
   ]
  },
  {
   "cell_type": "code",
   "execution_count": 2,
   "metadata": {},
   "outputs": [],
   "source": [
    "import os\n",
    "\n",
    "openai_api_key = os.getenv(\"OPENAI_API_KEY\")"
   ]
  },
  {
   "cell_type": "code",
   "execution_count": 156,
   "metadata": {},
   "outputs": [],
   "source": [
    "from langchain_community.document_loaders import TextLoader\n",
    "from langchain_openai import OpenAIEmbeddings\n",
    "from langchain_text_splitters import CharacterTextSplitter\n",
    "from langchain_community.vectorstores.faiss import FAISS"
   ]
  },
  {
   "cell_type": "code",
   "execution_count": 157,
   "metadata": {},
   "outputs": [],
   "source": [
    "raw_text = \"\"\"\n",
    "Strength training, also known as resistance training, involves using weights or other forms of resistance to build muscle strength and endurance. This type of training is essential for anyone looking to improve their physical fitness, whether they are aiming for general health, athletic performance, or muscle growth. Strength training works by targeting specific muscle groups through a variety of exercises, including squats, deadlifts, bench presses, and overhead presses. These exercises can be done using free weights, machines, resistance bands, or even bodyweight exercises, making them adaptable to any fitness level or training goal.\n",
    "One of the main benefits of strength training is its ability to increase muscle mass, which in turn boosts metabolism and promotes fat loss. It also plays a key role in improving bone density, reducing the risk of osteoporosis, and enhancing joint stability. Additionally, regular strength training has been shown to improve posture, balance, and overall functional movement, making everyday tasks easier and more efficient. For athletes, strength training is an essential component of their training regimen, as it enhances power, agility, and endurance, all of which contribute to better performance in their sport.\n",
    "Strength training is also crucial for injury prevention. By strengthening muscles, ligaments, and tendons, it helps to protect the body from overuse injuries, strains, and sprains. This is particularly important for individuals who engage in repetitive physical activities, such as runners or cyclists. Furthermore, strength training can improve mental health by releasing endorphins, which are natural mood boosters. It has been linked to reduced symptoms of anxiety, depression, and stress, contributing to a more positive mindset and overall well-being. Whether you're new to exercise or a seasoned athlete, incorporating strength training into your routine can offer a wide range of physical and mental health benefits, helping you achieve your fitness goals and maintain a healthy lifestyle.\n",
    "\"\"\"\n",
    "\n",
    "with open(\"test.txt\", \"w\") as f:\n",
    "    f.write(raw_text)"
   ]
  },
  {
   "cell_type": "code",
   "execution_count": 158,
   "metadata": {},
   "outputs": [],
   "source": [
    "# Load the document, split it into chunks, embed each chunk and load it into the vector store.\n",
    "raw_documents = TextLoader('test.txt').load()\n",
    "text_splitter = CharacterTextSplitter(chunk_size=1000, chunk_overlap=0)\n",
    "documents = text_splitter.split_documents(raw_documents)\n",
    "db = FAISS.from_documents(documents, OpenAIEmbeddings())"
   ]
  },
  {
   "cell_type": "code",
   "execution_count": 159,
   "metadata": {},
   "outputs": [
    {
     "data": {
      "text/plain": [
       "[(Document(id='35d8bb8e-16f3-4a01-a9b2-e0c3351e055d', metadata={'source': 'test.txt'}, page_content=\"Strength training, also known as resistance training, involves using weights or other forms of resistance to build muscle strength and endurance. This type of training is essential for anyone looking to improve their physical fitness, whether they are aiming for general health, athletic performance, or muscle growth. Strength training works by targeting specific muscle groups through a variety of exercises, including squats, deadlifts, bench presses, and overhead presses. These exercises can be done using free weights, machines, resistance bands, or even bodyweight exercises, making them adaptable to any fitness level or training goal.\\nOne of the main benefits of strength training is its ability to increase muscle mass, which in turn boosts metabolism and promotes fat loss. It also plays a key role in improving bone density, reducing the risk of osteoporosis, and enhancing joint stability. Additionally, regular strength training has been shown to improve posture, balance, and overall functional movement, making everyday tasks easier and more efficient. For athletes, strength training is an essential component of their training regimen, as it enhances power, agility, and endurance, all of which contribute to better performance in their sport.\\nStrength training is also crucial for injury prevention. By strengthening muscles, ligaments, and tendons, it helps to protect the body from overuse injuries, strains, and sprains. This is particularly important for individuals who engage in repetitive physical activities, such as runners or cyclists. Furthermore, strength training can improve mental health by releasing endorphins, which are natural mood boosters. It has been linked to reduced symptoms of anxiety, depression, and stress, contributing to a more positive mindset and overall well-being. Whether you're new to exercise or a seasoned athlete, incorporating strength training into your routine can offer a wide range of physical and mental health benefits, helping you achieve your fitness goals and maintain a healthy lifestyle.\"),\n",
       "  np.float32(0.7773043))]"
      ]
     },
     "execution_count": 159,
     "metadata": {},
     "output_type": "execute_result"
    }
   ],
   "source": [
    "db.similarity_search_with_relevance_scores(\"build muscle strength\", k=1)"
   ]
  },
  {
   "cell_type": "code",
   "execution_count": 161,
   "metadata": {},
   "outputs": [],
   "source": [
    "# Adding on extra documents directly within LangChain:\n",
    "from langchain_core.documents import Document\n",
    "\n",
    "docs = [Document(page_content='Marcell has been practicing sports and fitness for 5 years.', metadata={'source': 'Marcell Krausz'}),\n",
    "        Document(page_content='Fitness is a rapidly growing industry.', metadata={'source': 'Wikipedia'}),\n",
    "        ]"
   ]
  },
  {
   "cell_type": "code",
   "execution_count": 162,
   "metadata": {},
   "outputs": [
    {
     "data": {
      "text/plain": [
       "{'source': 'Marcell Krausz'}"
      ]
     },
     "execution_count": 162,
     "metadata": {},
     "output_type": "execute_result"
    }
   ],
   "source": [
    "docs[0].metadata"
   ]
  },
  {
   "cell_type": "code",
   "execution_count": 163,
   "metadata": {},
   "outputs": [
    {
     "data": {
      "text/plain": [
       "{'source': 'Wikipedia'}"
      ]
     },
     "execution_count": 163,
     "metadata": {},
     "output_type": "execute_result"
    }
   ],
   "source": [
    "docs[1].metadata"
   ]
  },
  {
   "cell_type": "code",
   "execution_count": 164,
   "metadata": {},
   "outputs": [
    {
     "data": {
      "text/plain": [
       "['245bfeda-6762-427d-bbcd-6f1ae6f0cf34',\n",
       " '8df7558a-07c8-49cc-abbf-a3219b94e073']"
      ]
     },
     "execution_count": 164,
     "metadata": {},
     "output_type": "execute_result"
    }
   ],
   "source": [
    "db.add_documents(docs)"
   ]
  },
  {
   "cell_type": "code",
   "execution_count": 165,
   "metadata": {},
   "outputs": [
    {
     "data": {
      "text/plain": [
       "[Document(id='245bfeda-6762-427d-bbcd-6f1ae6f0cf34', metadata={'source': 'Marcell Krausz'}, page_content='Marcell has been practicing sports and fitness for 5 years.')]"
      ]
     },
     "execution_count": 165,
     "metadata": {},
     "output_type": "execute_result"
    }
   ],
   "source": [
    "db.similarity_search(\"Marcell\", k=1)"
   ]
  },
  {
   "cell_type": "code",
   "execution_count": null,
   "metadata": {},
   "outputs": [],
   "source": [
    "# `docker run -p 9200:9200 -e \"discovery.type=single-node\" -e \"xpack.security.enabled=false\" -e \"xpack.security.http.ssl.enabled=false\" docker.elastic.co/elasticsearch/elasticsearch:8.9.0`\n",
    "# https://python.langchain.com/docs/how_to/indexing/"
   ]
  },
  {
   "cell_type": "code",
   "execution_count": 166,
   "metadata": {},
   "outputs": [],
   "source": [
    "from langchain.indexes import SQLRecordManager, index\n",
    "from langchain_elasticsearch import ElasticsearchStore\n",
    "\n",
    "collection_name = \"test_index\"\n",
    "\n",
    "embedding = OpenAIEmbeddings()\n",
    "\n",
    "#store in the local docker elasticsearch\n",
    "vectorstore = ElasticsearchStore(\n",
    "    es_url=\"http://localhost:9200\", index_name=\"test_index\", embedding=embedding\n",
    ")"
   ]
  },
  {
   "cell_type": "code",
   "execution_count": 167,
   "metadata": {},
   "outputs": [],
   "source": [
    "namespace = f\"elasticsearch/{collection_name}\"\n",
    "record_manager = SQLRecordManager(\n",
    "    namespace, db_url=\"sqlite:///record_manager_cache.sql\"\n",
    ")\n",
    "record_manager.create_schema()"
   ]
  },
  {
   "cell_type": "code",
   "execution_count": 168,
   "metadata": {},
   "outputs": [],
   "source": [
    "updated_docs = [\n",
    "    Document(\n",
    "        page_content=\"Marcell has been practicing sports and fitness since he was a child.\",\n",
    "        metadata={\"source\": \"Marcell Krausz\"},\n",
    "    ),\n",
    "   \n",
    "]"
   ]
  },
  {
   "cell_type": "code",
   "execution_count": 169,
   "metadata": {},
   "outputs": [],
   "source": [
    "def _clear():\n",
    "    \"\"\"Hacky helper method to clear content. See the `full` mode section to to understand why it works.\"\"\"\n",
    "    index([], record_manager, vectorstore, cleanup=\"full\", source_id_key=\"source\")"
   ]
  },
  {
   "cell_type": "code",
   "execution_count": 170,
   "metadata": {},
   "outputs": [],
   "source": [
    "_clear()"
   ]
  },
  {
   "cell_type": "code",
   "execution_count": 171,
   "metadata": {},
   "outputs": [
    {
     "data": {
      "text/plain": [
       "[Document(metadata={'source': 'Marcell Krausz'}, page_content='Marcell has been practicing sports and fitness for 5 years.'),\n",
       " Document(metadata={'source': 'Wikipedia'}, page_content='Fitness is a rapidly growing industry.')]"
      ]
     },
     "execution_count": 171,
     "metadata": {},
     "output_type": "execute_result"
    }
   ],
   "source": [
    "docs"
   ]
  },
  {
   "cell_type": "code",
   "execution_count": 172,
   "metadata": {},
   "outputs": [
    {
     "data": {
      "text/plain": [
       "{'num_added': 2, 'num_updated': 0, 'num_skipped': 0, 'num_deleted': 0}"
      ]
     },
     "execution_count": 172,
     "metadata": {},
     "output_type": "execute_result"
    }
   ],
   "source": [
    "# Indexing all of the documents:\n",
    "index(\n",
    "    docs,\n",
    "    record_manager,\n",
    "    vectorstore,\n",
    "    cleanup=\"incremental\",\n",
    "    source_id_key=\"source\",\n",
    ")"
   ]
  },
  {
   "cell_type": "code",
   "execution_count": 173,
   "metadata": {},
   "outputs": [
    {
     "data": {
      "text/plain": [
       "{'num_added': 1, 'num_updated': 0, 'num_skipped': 0, 'num_deleted': 1}"
      ]
     },
     "execution_count": 173,
     "metadata": {},
     "output_type": "execute_result"
    }
   ],
   "source": [
    "# Updating a single document:\n",
    "index(\n",
    "    updated_docs,\n",
    "    record_manager,\n",
    "    vectorstore,\n",
    "    cleanup=\"incremental\",\n",
    "    source_id_key=\"source\",\n",
    ")"
   ]
  },
  {
   "cell_type": "code",
   "execution_count": 174,
   "metadata": {},
   "outputs": [
    {
     "data": {
      "text/plain": [
       "{'num_added': 1, 'num_updated': 0, 'num_skipped': 0, 'num_deleted': 0}"
      ]
     },
     "execution_count": 174,
     "metadata": {},
     "output_type": "execute_result"
    }
   ],
   "source": [
    "# Adding on a new document:\n",
    "index(\n",
    "    [Document(page_content=\"Fitness is a rapidly growing industry.\", metadata={\"source\": \"Wikipedia - Fitness Industry\"})],\n",
    "    record_manager,\n",
    "    vectorstore,\n",
    "    cleanup=\"incremental\",\n",
    "    source_id_key=\"source\",\n",
    ")"
   ]
  },
  {
   "cell_type": "code",
   "execution_count": 177,
   "metadata": {},
   "outputs": [
    {
     "data": {
      "text/plain": [
       "{'num_added': 0, 'num_updated': 0, 'num_skipped': 1, 'num_deleted': 0}"
      ]
     },
     "execution_count": 177,
     "metadata": {},
     "output_type": "execute_result"
    }
   ],
   "source": [
    "# Skipping documents because the document hash is exactly the same:\n",
    "index(\n",
    "    [Document(page_content=\"Fitness is a rapidly growing industry.\", metadata={\"source\": \"Wikipedia - Fitness Industry\"})],\n",
    "    record_manager,\n",
    "    vectorstore,\n",
    "    cleanup=\"incremental\",\n",
    "    source_id_key=\"source\",\n",
    ")"
   ]
  },
  {
   "cell_type": "code",
   "execution_count": 200,
   "metadata": {},
   "outputs": [
    {
     "data": {
      "text/plain": [
       "[Document(metadata={'source': 'Marcell Krausz'}, page_content='Marcell has been practicing sports and fitness since he was a child.')]"
      ]
     },
     "execution_count": 200,
     "metadata": {},
     "output_type": "execute_result"
    }
   ],
   "source": [
    "vectorstore.similarity_search(\"Marcell Krausz\", k=1)"
   ]
  }
 ],
 "metadata": {
  "kernelspec": {
   "display_name": "Python 3",
   "language": "python",
   "name": "python3"
  },
  "language_info": {
   "codemirror_mode": {
    "name": "ipython",
    "version": 3
   },
   "file_extension": ".py",
   "mimetype": "text/x-python",
   "name": "python",
   "nbconvert_exporter": "python",
   "pygments_lexer": "ipython3",
   "version": "3.13.2"
  }
 },
 "nbformat": 4,
 "nbformat_minor": 2
}
