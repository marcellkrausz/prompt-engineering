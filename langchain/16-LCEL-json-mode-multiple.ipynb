{
 "cells": [
  {
   "cell_type": "code",
   "execution_count": 1,
   "metadata": {},
   "outputs": [],
   "source": [
    "import os\n",
    "\n",
    "openai_api_key = os.getenv(\"OPENAI_API_KEY\")"
   ]
  },
  {
   "cell_type": "code",
   "execution_count": 2,
   "metadata": {},
   "outputs": [],
   "source": [
    "from langchain_openai.chat_models import ChatOpenAI\n",
    "from langchain_core.prompts import ChatPromptTemplate\n",
    "from langchain_core.output_parsers.json import SimpleJsonOutputParser "
   ]
  },
  {
   "cell_type": "code",
   "execution_count": 3,
   "metadata": {},
   "outputs": [],
   "source": [
    "chat = ChatOpenAI(model=\"gpt-4o-mini\", model_kwargs={'response_format': {\"type\": \"json_object\"}})"
   ]
  },
  {
   "cell_type": "code",
   "execution_count": 4,
   "metadata": {},
   "outputs": [],
   "source": [
    "chat_prompt = ChatPromptTemplate.from_messages(\n",
    "    (\"system\", \"\"\"I want you to extract the person name, age and a description from the following text.\n",
    "    Here is the JSON schema:\n",
    "    \"name\": string\n",
    "    \"age\": int\n",
    "    \"description\": string\n",
    "    {message_to_extract}\n",
    "    --- \n",
    "    If there are multiple people, then put them in a 'persons' key, which is a list of the above schema.\n",
    "    \"\"\")\n",
    ")"
   ]
  },
  {
   "cell_type": "code",
   "execution_count": 6,
   "metadata": {},
   "outputs": [],
   "source": [
    "chain = (\n",
    "    chat_prompt\n",
    "    | chat\n",
    "    | SimpleJsonOutputParser()\n",
    ")"
   ]
  },
  {
   "cell_type": "code",
   "execution_count": 7,
   "metadata": {},
   "outputs": [
    {
     "name": "stdout",
     "output_type": "stream",
     "text": [
      "{'persons': [{'name': 'Alice', 'age': 28, 'description': 'She is a graphic designer. She enjoys painting and hiking in her free time.'}, {'name': 'Bob', 'age': 45, 'description': 'He works as a project manager, he enjoys reading books and travelling.'}, {'name': 'Charlie', 'age': 32, 'description': 'He is a software developer, he likes playing video games and coding.'}]}\n"
     ]
    }
   ],
   "source": [
    "multiple_results = chain.invoke({\n",
    "    \"message_to_extract\": '''Alice is 28 years old and she is a graphic designer. She enjoys painting and hiking in her free time.\n",
    "    Bob is 45 years old and works as a project manager, he enjoys reading books and travelling.\n",
    "    Charlie is 32 years old and he is a software developer, he likes playing video games and coding.\n",
    "    '''\n",
    "})\n",
    "\n",
    "print(multiple_results)"
   ]
  },
  {
   "cell_type": "code",
   "execution_count": 8,
   "metadata": {},
   "outputs": [],
   "source": [
    "from pydantic.v1 import BaseModel\n",
    "from typing import List\n",
    "from langchain.chains.openai_tools import create_extraction_chain_pydantic"
   ]
  },
  {
   "cell_type": "code",
   "execution_count": 9,
   "metadata": {},
   "outputs": [],
   "source": [
    "class Person(BaseModel):\n",
    "    \"\"\"A person object that we want to extract from the text\"\"\"\n",
    "    name: str\n",
    "    age: int\n",
    "\n",
    "# Previous we had to write this:\n",
    "class Persons(BaseModel):\n",
    "    persons: List[Person]"
   ]
  },
  {
   "cell_type": "code",
   "execution_count": 11,
   "metadata": {},
   "outputs": [],
   "source": [
    "# Make sure to use a recent model that supports tools\n",
    "model = ChatOpenAI(model=\"gpt-3.5-turbo-1106\")"
   ]
  },
  {
   "cell_type": "code",
   "execution_count": 16,
   "metadata": {},
   "outputs": [],
   "source": [
    "chain = create_extraction_chain_pydantic(Person, model)"
   ]
  },
  {
   "cell_type": "code",
   "execution_count": 17,
   "metadata": {},
   "outputs": [
    {
     "data": {
      "text/plain": [
       "[Person(name='Marcell', age=31), Person(name='Zsolt', age=28)]"
      ]
     },
     "execution_count": 17,
     "metadata": {},
     "output_type": "execute_result"
    }
   ],
   "source": [
    "chain.invoke({\"input\":\"Marcell is 31 and Zsolt is 28 years old\"})"
   ]
  }
 ],
 "metadata": {
  "kernelspec": {
   "display_name": "Python 3",
   "language": "python",
   "name": "python3"
  },
  "language_info": {
   "codemirror_mode": {
    "name": "ipython",
    "version": 3
   },
   "file_extension": ".py",
   "mimetype": "text/x-python",
   "name": "python",
   "nbconvert_exporter": "python",
   "pygments_lexer": "ipython3",
   "version": "3.13.2"
  }
 },
 "nbformat": 4,
 "nbformat_minor": 2
}
