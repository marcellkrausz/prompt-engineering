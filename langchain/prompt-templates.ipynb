{
 "cells": [
  {
   "cell_type": "code",
   "execution_count": 1,
   "metadata": {},
   "outputs": [],
   "source": [
    "# Get the openai secret key:\n",
    "import getpass\n",
    "\n",
    "secret_key = getpass.getpass('Please enter your openai key:')"
   ]
  },
  {
   "cell_type": "code",
   "execution_count": 6,
   "metadata": {},
   "outputs": [
    {
     "name": "stdout",
     "output_type": "stream",
     "text": [
      "In programming, the terms \"function\" and \"method\" are often used interchangeably, but they refer to slightly different concepts, particularly in the context of object-oriented programming.\n",
      "\n",
      "### Function:\n",
      "- A **function** is a block of reusable code that performs a specific task. It is defined using a name and can be called from anywhere in the program.\n",
      "- Functions can take input arguments and can return a value.\n",
      "- Functions are not necessarily associated with any object or class, and they exist independently.\n",
      "\n",
      "**Example in Python:**\n",
      "```python\n",
      "def add(a, b):\n",
      "    return a + b\n",
      "\n",
      "result = add(2, 3)  # This calls the function 'add'\n",
      "```\n",
      "\n",
      "### Method:\n",
      "- A **method** is a function that is associated with an object or class. In other words, methods are functions that belong to an instance of a class or the class itself.\n",
      "- Methods can access and modify the data contained within the class (attributes) as well as perform operations related to the class.\n",
      "- They are called on an object and usually take the `self` parameter (in Python) which refers to the instance of the class.\n",
      "\n",
      "**Example in Python:**\n",
      "```python\n",
      "class Calculator:\n",
      "    def add(self, a, b):\n",
      "        return a + b\n",
      "\n",
      "calc = Calculator()  # Creating an instance of the class\n",
      "result = calc.add(2, 3)  # This calls the method 'add'\n",
      "```\n",
      "\n",
      "### Summary:\n",
      "- **Functions** are standalone and can be called without any object reference.\n",
      "- **Methods** are functions that operate within the context of a class and can manipulate the class's data. \n",
      "\n",
      "Understanding the distinction between the two is important for object-oriented programming and helps in organizing and structuring code more efficiently.\n"
     ]
    }
   ],
   "source": [
    "from langchain_openai import ChatOpenAI\n",
    "from langchain_core.prompts.chat import ChatPromptTemplate\n",
    "\n",
    "chat_prompt_template = ChatPromptTemplate.from_messages([\n",
    "     {\"role\": \"system\", \"content\": \"You are a chatbot that can answer questions about programming.\"},\n",
    "     {\"role\": \"human\", \"content\": \"{text}\"}\n",
    "])\n",
    "\n",
    "result = chat_prompt_template.invoke([\n",
    "    {\"text\": \"What is the difference between a function and a method?\"}\n",
    "])\n",
    "\n",
    "model = ChatOpenAI(model=\"gpt-4o-mini\")\n",
    "\n",
    "llm_result = model.invoke(result).content\n",
    "print(llm_result)"
   ]
  }
 ],
 "metadata": {
  "kernelspec": {
   "display_name": "Python 3",
   "language": "python",
   "name": "python3"
  },
  "language_info": {
   "codemirror_mode": {
    "name": "ipython",
    "version": 3
   },
   "file_extension": ".py",
   "mimetype": "text/x-python",
   "name": "python",
   "nbconvert_exporter": "python",
   "pygments_lexer": "ipython3",
   "version": "3.13.2"
  }
 },
 "nbformat": 4,
 "nbformat_minor": 2
}
