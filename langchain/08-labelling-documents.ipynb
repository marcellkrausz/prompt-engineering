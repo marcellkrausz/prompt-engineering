{
 "cells": [
  {
   "cell_type": "code",
   "execution_count": null,
   "metadata": {},
   "outputs": [],
   "source": [
    "%pip install langchain langchain_openai nest_asyncio lxml beautifulsoup4 --upgrade"
   ]
  },
  {
   "cell_type": "code",
   "execution_count": 33,
   "metadata": {},
   "outputs": [],
   "source": [
    "# Get the openai secret key:\n",
    "import getpass\n",
    "\n",
    "secret_key = getpass.getpass('Please enter your openai key:')"
   ]
  },
  {
   "cell_type": "code",
   "execution_count": 4,
   "metadata": {},
   "outputs": [],
   "source": [
    "# fixes a bug with asyncio and jupyter\n",
    "import nest_asyncio\n",
    "\n",
    "nest_asyncio.apply()"
   ]
  },
  {
   "cell_type": "code",
   "execution_count": 25,
   "metadata": {},
   "outputs": [],
   "source": [
    "from langchain.document_loaders.sitemap import SitemapLoader\n",
    "from langchain_openai.chat_models import ChatOpenAI\n",
    "from langchain.chains import openai_functions\n",
    "from langchain.chains import LLMChain\n",
    "from langchain.prompts import PromptTemplate\n",
    "from langchain.output_parsers import StructuredOutputParser\n",
    "\n",
    "import pandas as pd"
   ]
  },
  {
   "cell_type": "code",
   "execution_count": 18,
   "metadata": {},
   "outputs": [
    {
     "name": "stderr",
     "output_type": "stream",
     "text": [
      "Fetching pages: 100%|##########| 166/166 [00:09<00:00, 17.20it/s]\n"
     ]
    }
   ],
   "source": [
    "sitemap_loader = SitemapLoader(web_path=\"https://www.google.com/gmail/sitemap.xml\")\n",
    "sitemap_loader.requests_per_second = 5\n",
    "docs = sitemap_loader.load()"
   ]
  },
  {
   "cell_type": "code",
   "execution_count": 34,
   "metadata": {},
   "outputs": [],
   "source": [
    "# Schema\n",
    "schema = {\n",
    "    \"properties\": {\n",
    "        \"url\": {\"type\": \"string\", \"description\": \"The URL of the page.\"},\n",
    "        \"lastmod\": {\"type\": \"string\", \"description\": \"The last modification date of the page.\"},\n",
    "        \"changefreq\": {\"type\": \"string\", \"description\": \"How frequently the page is likely to change.\"},\n",
    "        \"priority\": {\"type\": \"number\", \"description\": \"The priority of the page relative to other pages on the site.\"},\n",
    "    },\n",
    "    \"required\": [\"url\", \"lastmod\", \"changefreq\", \"priority\"],\n",
    "}\n",
    "\n",
    "\n",
    "# LLM\n",
    "llm = ChatOpenAI(temperature=0, model=\"gpt-4o-mini\", api_key=secret_key)\n",
    "chain = openai_functions.create_tagging_chain(schema, llm, output_key=\"output\")\n",
    "\n"
   ]
  },
  {
   "cell_type": "code",
   "execution_count": null,
   "metadata": {},
   "outputs": [],
   "source": [
    "results = []\n",
    "\n",
    "# Remove the 0:10 to run on all documents:\n",
    "for doc in docs[0:10]:\n",
    "    print(doc)\n",
    "    chain_result = chain.invoke({'input': doc.page_content})\n",
    "    results.append(chain_result['output'])"
   ]
  },
  {
   "cell_type": "code",
   "execution_count": 36,
   "metadata": {},
   "outputs": [
    {
     "data": {
      "text/plain": [
       "[{'url': 'https://www.google.com/gmail/',\n",
       "  'lastmod': '2023-10-01',\n",
       "  'changefreq': 'daily',\n",
       "  'priority': 1},\n",
       " {'url': 'https://workspace.google.com/products/gmail/',\n",
       "  'lastmod': '2023-10-01',\n",
       "  'changefreq': 'monthly',\n",
       "  'priority': 1},\n",
       " {'url': 'https://www.google.com/gmail/about/',\n",
       "  'lastmod': '2023-10-01',\n",
       "  'changefreq': 'monthly',\n",
       "  'priority': 1},\n",
       " {'url': 'https://www.google.com/gmail/',\n",
       "  'lastmod': '2023-10-01',\n",
       "  'changefreq': 'daily',\n",
       "  'priority': 1},\n",
       " {'url': 'https://workspace.google.com/products/gmail/',\n",
       "  'lastmod': '2023-10-01',\n",
       "  'changefreq': 'monthly',\n",
       "  'priority': 1},\n",
       " {'url': 'https://www.google.com/gmail/about/',\n",
       "  'lastmod': '2023-10-01',\n",
       "  'changefreq': 'monthly',\n",
       "  'priority': 1},\n",
       " {'url': 'https://www.google.com/gmail/',\n",
       "  'lastmod': '2023-10-01',\n",
       "  'changefreq': 'daily',\n",
       "  'priority': 1},\n",
       " {'url': 'https://workspace.google.com/products/gmail/',\n",
       "  'lastmod': '2023-10-01',\n",
       "  'changefreq': 'monthly',\n",
       "  'priority': 1},\n",
       " {'url': 'https://www.google.com/gmail/about/',\n",
       "  'lastmod': '2023-10-01',\n",
       "  'changefreq': 'monthly',\n",
       "  'priority': 1},\n",
       " {'url': 'https://www.google.com/gmail/',\n",
       "  'lastmod': '2023-10-01',\n",
       "  'changefreq': 'daily',\n",
       "  'priority': 1}]"
      ]
     },
     "execution_count": 36,
     "metadata": {},
     "output_type": "execute_result"
    }
   ],
   "source": [
    "results"
   ]
  },
  {
   "cell_type": "code",
   "execution_count": null,
   "metadata": {},
   "outputs": [],
   "source": [
    "# Convert the results to a pandas dataframe\n",
    "df = pd.DataFrame(results)"
   ]
  },
  {
   "cell_type": "code",
   "execution_count": 39,
   "metadata": {},
   "outputs": [],
   "source": [
    "# Combine the URLs with the results\n",
    "df['url'] = [doc.metadata['source'] for doc in docs[0:10]]"
   ]
  },
  {
   "cell_type": "code",
   "execution_count": 40,
   "metadata": {},
   "outputs": [
    {
     "data": {
      "text/html": [
       "<div>\n",
       "<style scoped>\n",
       "    .dataframe tbody tr th:only-of-type {\n",
       "        vertical-align: middle;\n",
       "    }\n",
       "\n",
       "    .dataframe tbody tr th {\n",
       "        vertical-align: top;\n",
       "    }\n",
       "\n",
       "    .dataframe thead th {\n",
       "        text-align: right;\n",
       "    }\n",
       "</style>\n",
       "<table border=\"1\" class=\"dataframe\">\n",
       "  <thead>\n",
       "    <tr style=\"text-align: right;\">\n",
       "      <th></th>\n",
       "      <th>url</th>\n",
       "      <th>lastmod</th>\n",
       "      <th>changefreq</th>\n",
       "      <th>priority</th>\n",
       "    </tr>\n",
       "  </thead>\n",
       "  <tbody>\n",
       "    <tr>\n",
       "      <th>0</th>\n",
       "      <td>https://www.google.com/intl/am/gmail/about/</td>\n",
       "      <td>2023-10-01</td>\n",
       "      <td>daily</td>\n",
       "      <td>1</td>\n",
       "    </tr>\n",
       "    <tr>\n",
       "      <th>1</th>\n",
       "      <td>https://www.google.com/intl/am/gmail/about/for...</td>\n",
       "      <td>2023-10-01</td>\n",
       "      <td>monthly</td>\n",
       "      <td>1</td>\n",
       "    </tr>\n",
       "    <tr>\n",
       "      <th>2</th>\n",
       "      <td>https://www.google.com/intl/am/gmail/about/pol...</td>\n",
       "      <td>2023-10-01</td>\n",
       "      <td>monthly</td>\n",
       "      <td>1</td>\n",
       "    </tr>\n",
       "    <tr>\n",
       "      <th>3</th>\n",
       "      <td>https://www.google.com/intl/ar/gmail/about/</td>\n",
       "      <td>2023-10-01</td>\n",
       "      <td>daily</td>\n",
       "      <td>1</td>\n",
       "    </tr>\n",
       "    <tr>\n",
       "      <th>4</th>\n",
       "      <td>https://www.google.com/intl/ar/gmail/about/for...</td>\n",
       "      <td>2023-10-01</td>\n",
       "      <td>monthly</td>\n",
       "      <td>1</td>\n",
       "    </tr>\n",
       "    <tr>\n",
       "      <th>5</th>\n",
       "      <td>https://www.google.com/intl/ar/gmail/about/pol...</td>\n",
       "      <td>2023-10-01</td>\n",
       "      <td>monthly</td>\n",
       "      <td>1</td>\n",
       "    </tr>\n",
       "    <tr>\n",
       "      <th>6</th>\n",
       "      <td>https://www.google.com/intl/bg/gmail/about/</td>\n",
       "      <td>2023-10-01</td>\n",
       "      <td>daily</td>\n",
       "      <td>1</td>\n",
       "    </tr>\n",
       "    <tr>\n",
       "      <th>7</th>\n",
       "      <td>https://www.google.com/intl/bg/gmail/about/for...</td>\n",
       "      <td>2023-10-01</td>\n",
       "      <td>monthly</td>\n",
       "      <td>1</td>\n",
       "    </tr>\n",
       "    <tr>\n",
       "      <th>8</th>\n",
       "      <td>https://www.google.com/intl/bg/gmail/about/pol...</td>\n",
       "      <td>2023-10-01</td>\n",
       "      <td>monthly</td>\n",
       "      <td>1</td>\n",
       "    </tr>\n",
       "    <tr>\n",
       "      <th>9</th>\n",
       "      <td>https://www.google.com/intl/bn/gmail/about/</td>\n",
       "      <td>2023-10-01</td>\n",
       "      <td>daily</td>\n",
       "      <td>1</td>\n",
       "    </tr>\n",
       "  </tbody>\n",
       "</table>\n",
       "</div>"
      ],
      "text/plain": [
       "                                                 url     lastmod changefreq  \\\n",
       "0        https://www.google.com/intl/am/gmail/about/  2023-10-01      daily   \n",
       "1  https://www.google.com/intl/am/gmail/about/for...  2023-10-01    monthly   \n",
       "2  https://www.google.com/intl/am/gmail/about/pol...  2023-10-01    monthly   \n",
       "3        https://www.google.com/intl/ar/gmail/about/  2023-10-01      daily   \n",
       "4  https://www.google.com/intl/ar/gmail/about/for...  2023-10-01    monthly   \n",
       "5  https://www.google.com/intl/ar/gmail/about/pol...  2023-10-01    monthly   \n",
       "6        https://www.google.com/intl/bg/gmail/about/  2023-10-01      daily   \n",
       "7  https://www.google.com/intl/bg/gmail/about/for...  2023-10-01    monthly   \n",
       "8  https://www.google.com/intl/bg/gmail/about/pol...  2023-10-01    monthly   \n",
       "9        https://www.google.com/intl/bn/gmail/about/  2023-10-01      daily   \n",
       "\n",
       "   priority  \n",
       "0         1  \n",
       "1         1  \n",
       "2         1  \n",
       "3         1  \n",
       "4         1  \n",
       "5         1  \n",
       "6         1  \n",
       "7         1  \n",
       "8         1  \n",
       "9         1  "
      ]
     },
     "execution_count": 40,
     "metadata": {},
     "output_type": "execute_result"
    }
   ],
   "source": [
    "df"
   ]
  }
 ],
 "metadata": {
  "kernelspec": {
   "display_name": "Python 3",
   "language": "python",
   "name": "python3"
  },
  "language_info": {
   "codemirror_mode": {
    "name": "ipython",
    "version": 3
   },
   "file_extension": ".py",
   "mimetype": "text/x-python",
   "name": "python",
   "nbconvert_exporter": "python",
   "pygments_lexer": "ipython3",
   "version": "3.13.2"
  }
 },
 "nbformat": 4,
 "nbformat_minor": 2
}
