{
 "cells": [
  {
   "cell_type": "code",
   "execution_count": 1,
   "metadata": {},
   "outputs": [],
   "source": [
    "# Get the openai secret key:\n",
    "import getpass\n",
    "\n",
    "secret_key = getpass.getpass('Please enter your openai key:')"
   ]
  },
  {
   "cell_type": "code",
   "execution_count": 2,
   "metadata": {},
   "outputs": [],
   "source": [
    "from langchain_openai import ChatOpenAI\n",
    "from langchain_core.messages import HumanMessage"
   ]
  },
  {
   "cell_type": "code",
   "execution_count": null,
   "metadata": {},
   "outputs": [
    {
     "name": "stdout",
     "output_type": "stream",
     "text": [
      "A myofibril is a long, thread-like structure found within muscle cells (muscle fibers) that is essential for muscle contraction. Myofibrils are composed of repeating units called sarcomeres, which are the basic functional units of muscle contraction. Each sarcomere contains thick filaments made primarily of myosin and thin filaments made primarily of actin, along with other proteins that regulate contraction.\n",
      "\n",
      "Myofibrils are arranged in parallel within the muscle fiber and extend the length of the fiber. When a muscle receives a signal to contract, the myofibrils shorten, causing the muscle as a whole to contract. This process is known as the sliding filament theory. Myofibrils are crucial for the overall function of skeletal and cardiac muscles, enabling movement and the generation of force."
     ]
    }
   ],
   "source": [
    "model = ChatOpenAI(api_key=secret_key, model=\"gpt-4o-mini\", max_completion_tokens=400, streaming=True)\n",
    "\n",
    "import sys\n",
    "\n",
    "for chunk in model.stream(\"What is a myofibril?\"):\n",
    "    print(chunk.content, end='', flush=True)\n",
    "    sys.stdout.flush()"
   ]
  },
  {
   "cell_type": "code",
   "execution_count": 4,
   "metadata": {},
   "outputs": [
    {
     "name": "stdout",
     "output_type": "stream",
     "text": [
      "A myofibril is a long, thread-like structure found within muscle cells (muscle fibers) that is essential for muscle contraction. Myofibrils are composed of repeating units called sarcomeres, which contain the contractile proteins actin (thin filaments) and myosin (thick filaments). These proteins interact with each other during the contraction process, allowing muscles to shorten and generate force.\n",
      "\n",
      "Myofibrils are surrounded by the sarcoplasmic reticulum, which stores calcium ions that are critical for muscle contraction. The arrangement of myofibrils in muscle fibers creates the striated appearance characteristic of skeletal and cardiac muscle. In summary, myofibrils are fundamental components of muscle tissue, playing a key role in the mechanics of muscle movement."
     ]
    }
   ],
   "source": [
    "for chunk in model.stream([HumanMessage(content=\"What is a myofibril?\")]):\n",
    "    print(chunk.content, end='', flush=True)\n",
    "    sys.stdout.flush()"
   ]
  }
 ],
 "metadata": {
  "kernelspec": {
   "display_name": "Python 3",
   "language": "python",
   "name": "python3"
  },
  "language_info": {
   "codemirror_mode": {
    "name": "ipython",
    "version": 3
   },
   "file_extension": ".py",
   "mimetype": "text/x-python",
   "name": "python",
   "nbconvert_exporter": "python",
   "pygments_lexer": "ipython3",
   "version": "3.13.2"
  }
 },
 "nbformat": 4,
 "nbformat_minor": 2
}
