{
 "cells": [
  {
   "cell_type": "code",
   "execution_count": null,
   "metadata": {},
   "outputs": [],
   "source": [
    "%pip install langchain langchain_openai langchain-community --upgrade"
   ]
  },
  {
   "cell_type": "code",
   "execution_count": 3,
   "metadata": {},
   "outputs": [
    {
     "name": "stdout",
     "output_type": "stream",
     "text": [
      "✅ All API keys are set successfully.\n",
      "LANGCHAIN_PROJECT: Prompt Tracing Walkthrough - a779fcec\n"
     ]
    }
   ],
   "source": [
    "import os\n",
    "from uuid import uuid4\n",
    "\n",
    "unique_id = uuid4().hex[0:8]\n",
    "os.environ[\"LANGCHAIN_PROJECT\"] = f\"Prompt Tracing Walkthrough - {unique_id}\"\n",
    "os.environ[\"LANGCHAIN_TRACING_V2\"] = \"true\"\n",
    "os.environ[\"LANGCHAIN_ENDPOINT\"] = \"https://api.smith.langchain.com\"\n",
    "\n",
    "# Retrieve API keys with validation\n",
    "langsmith_api_key = os.getenv(\"LANGSMITH_API_KEY\")\n",
    "openai_api_key = os.getenv(\"OPENAI_API_KEY\")\n",
    "serpapi_api_key = os.getenv(\"SERPAPI_API_KEY\")\n",
    "\n",
    "if not langsmith_api_key:\n",
    "    raise ValueError(\"❌ LANGSMITH_API_KEY is not set!\")\n",
    "if not openai_api_key:\n",
    "    raise ValueError(\"❌ OPENAI_API_KEY is not set!\")\n",
    "if not serpapi_api_key:\n",
    "    raise ValueError(\"❌ SERPAPI_API_KEY is not set!\")\n",
    "\n",
    "os.environ[\"LANGSMITH_API_KEY\"] = langsmith_api_key\n",
    "os.environ[\"OPENAI_API_KEY\"] = openai_api_key\n",
    "os.environ[\"SERPAPI_API_KEY\"] = serpapi_api_key\n",
    "\n",
    "print(\"✅ All API keys are set successfully.\")\n",
    "print(f\"LANGCHAIN_PROJECT: {os.environ['LANGCHAIN_PROJECT']}\")"
   ]
  },
  {
   "cell_type": "code",
   "execution_count": 10,
   "metadata": {},
   "outputs": [],
   "source": [
    "from langsmith import Client\n",
    "\n",
    "langsmith_client = Client(api_key=langsmith_api_key)"
   ]
  },
  {
   "cell_type": "code",
   "execution_count": null,
   "metadata": {},
   "outputs": [],
   "source": [
    "%pip install google-search-results"
   ]
  },
  {
   "cell_type": "code",
   "execution_count": 7,
   "metadata": {},
   "outputs": [
    {
     "name": "stderr",
     "output_type": "stream",
     "text": [
      "C:\\Users\\User\\AppData\\Local\\Temp\\ipykernel_12008\\1682705739.py:6: LangChainDeprecationWarning: LangChain agents will continue to be supported, but it is recommended for new use cases to be built with LangGraph. LangGraph offers a more flexible and full-featured framework for building agents, including support for tool-calling, persistence of state, and human-in-the-loop workflows. For details, refer to the `LangGraph documentation <https://langchain-ai.github.io/langgraph/>`_ as well as guides for `Migrating from AgentExecutor <https://python.langchain.com/docs/how_to/migrate_agent/>`_ and LangGraph's `Pre-built ReAct agent <https://langchain-ai.github.io/langgraph/how-tos/create-react-agent/>`_.\n",
      "  agent = initialize_agent(\n"
     ]
    }
   ],
   "source": [
    "from langchain_openai.chat_models import ChatOpenAI\n",
    "from langchain.agents import AgentType, initialize_agent, load_tools\n",
    "\n",
    "llm = ChatOpenAI(model=\"gpt-4o-mini\", temperature=0)\n",
    "tools = load_tools([\"serpapi\", \"llm-math\"], llm=llm, serpapi_api_key = serpapi_api_key)\n",
    "agent = initialize_agent(\n",
    "    tools, llm, agent=AgentType.ZERO_SHOT_REACT_DESCRIPTION, verbose=False\n",
    ")"
   ]
  },
  {
   "cell_type": "code",
   "execution_count": 8,
   "metadata": {},
   "outputs": [],
   "source": [
    "import asyncio\n",
    "\n",
    "inputs = [\n",
    "    \"How many active satellites are orbiting Earth as of 2024?\",\n",
    "    \"Who won the Nobel Prize in Physics in 2023?\",\n",
    "    \"What is the tallest building in the world, and what is its height raised to the power of 0.27?\",\n",
    "    \"How many episodes are there in the anime One Piece as of 2024?\",\n",
    "    \"What is the distance between the Earth and Mars in miles?\",\n",
    "    \"What is the inflation rate in the United States in 2024?\",\n",
    "    \"How many gold medals did China win in the 2024 Olympics?\",\n",
    "    \"What is the population of India multiplied by 0.0025?\",\n",
    "    \"Who is the author of Dune and what year was it published?\",\n",
    "    \"What is the melting point of iron in Kelvin?\"\n",
    "]\n",
    "\n",
    "results = []\n",
    "\n",
    "\n",
    "async def arun(agent, input_example):\n",
    "    try:\n",
    "        return await agent.ainvoke(input_example)\n",
    "    except Exception as e:\n",
    "        # The agent sometimes makes mistakes! These will be captured by the tracing.\n",
    "        return e\n",
    "\n",
    "\n",
    "for input_example in inputs:\n",
    "    results.append(arun(agent, input_example))\n",
    "results = await asyncio.gather(*results)"
   ]
  },
  {
   "cell_type": "code",
   "execution_count": 11,
   "metadata": {},
   "outputs": [
    {
     "data": {
      "text/plain": [
       "[{'input': 'How many active satellites are orbiting Earth as of 2024?',\n",
       "  'output': 'As of 2024, there are more than 10,400 actively functioning satellites orbiting Earth.'},\n",
       " {'input': 'Who won the Nobel Prize in Physics in 2023?',\n",
       "  'output': \"Pierre Agostini, Ferenc Krausz, and Anne L'Huillier.\"},\n",
       " {'input': 'What is the tallest building in the world, and what is its height raised to the power of 0.27?',\n",
       "  'output': '6.14 (rounded to two decimal places)'},\n",
       " {'input': 'How many episodes are there in the anime One Piece as of 2024?',\n",
       "  'output': 'As of 2024, there are 1,122 episodes of the anime One Piece.'},\n",
       " {'input': 'What is the distance between the Earth and Mars in miles?',\n",
       "  'output': 'The distance between Earth and Mars varies from about 37 million miles at closest approach to approximately 140 million miles on average, and can reach up to about 250 million miles at its farthest.'},\n",
       " {'input': 'What is the inflation rate in the United States in 2024?',\n",
       "  'output': 'The inflation rate in the United States in 2024 is 2.9%.'},\n",
       " {'input': 'How many gold medals did China win in the 2024 Olympics?',\n",
       "  'output': 'The 2024 Olympics have not yet occurred, so no gold medals have been won by China.'},\n",
       " {'input': 'What is the population of India multiplied by 0.0025?',\n",
       "  'output': '3,595,000'},\n",
       " {'input': 'Who is the author of Dune and what year was it published?',\n",
       "  'output': 'The author of \"Dune\" is Frank Herbert, and it was published in 1965.'},\n",
       " {'input': 'What is the melting point of iron in Kelvin?',\n",
       "  'output': 'The melting point of iron is approximately 1811.15 Kelvin.'}]"
      ]
     },
     "execution_count": 11,
     "metadata": {},
     "output_type": "execute_result"
    }
   ],
   "source": [
    "results"
   ]
  },
  {
   "cell_type": "code",
   "execution_count": 9,
   "metadata": {},
   "outputs": [],
   "source": [
    "from langchain.callbacks.tracers.langchain import wait_for_all_tracers\n",
    "\n",
    "# Logs are submitted in a background thread to avoid blocking execution.\n",
    "# For the sake of this tutorial, we want to make sure\n",
    "# they've been submitted before moving on. This is also\n",
    "# useful for serverless deployments.\n",
    "wait_for_all_tracers()"
   ]
  }
 ],
 "metadata": {
  "kernelspec": {
   "display_name": "Python 3",
   "language": "python",
   "name": "python3"
  },
  "language_info": {
   "codemirror_mode": {
    "name": "ipython",
    "version": 3
   },
   "file_extension": ".py",
   "mimetype": "text/x-python",
   "name": "python",
   "nbconvert_exporter": "python",
   "pygments_lexer": "ipython3",
   "version": "3.13.2"
  }
 },
 "nbformat": 4,
 "nbformat_minor": 2
}
