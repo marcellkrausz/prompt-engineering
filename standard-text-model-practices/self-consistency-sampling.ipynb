{
 "cells": [
  {
   "cell_type": "code",
   "execution_count": 1,
   "metadata": {},
   "outputs": [],
   "source": [
    "# Get the openai secret key:\n",
    "import getpass\n",
    "\n",
    "secret_key = getpass.getpass('Please enter your openai key:')"
   ]
  },
  {
   "cell_type": "code",
   "execution_count": 6,
   "metadata": {},
   "outputs": [],
   "source": [
    "import asyncio\n",
    "from openai import AsyncOpenAI\n",
    "import nest_asyncio\n",
    "from collections import Counter\n",
    "import json"
   ]
  },
  {
   "cell_type": "code",
   "execution_count": 20,
   "metadata": {},
   "outputs": [
    {
     "name": "stdout",
     "output_type": "stream",
     "text": [
      "The most consistent answer is: 600\n",
      "List of answers:\n",
      "Answer 1: 660\n",
      "Answer 2: 600\n",
      "Answer 3: 650\n",
      "Answer 4: 600\n",
      "Answer 5: 650\n",
      "\n",
      "Reasoning paths:\n",
      "\n",
      "Path 1:\n",
      "{\"step_by_step_reasoning\": \"Let x be the number of muffins and y be the number of cakes. The constraints based on flour and sugar are: 2x + 3y <= 200 (for flour) and x + 2y <= 150 (for sugar). The profit function to maximize is P = 5x + 8y. To find the maximum profit, we can solve the inequalities: 1. From 2x + 3y <= 200, we can express y in terms of x: y <= (200 - 2x)/3. 2. From x + 2y <= 150, we can express y in terms of x: y <= (150 - x)/2. We will graph these inequalities to find the feasible region. The vertices of the feasible region will give us the potential maximum profits. The vertices can be found by solving the equations where the lines intersect: 2x + 3y = 200 and x + 2y = 150. Solving these gives us the points (0, 66.67), (100, 0), and (60, 30). Evaluating the profit function at these points: At (0, 66.67): P = 5(0) + 8(66.67) = 533.36; At (100, 0): P = 5(100) + 8(0) = 500; At (60, 30): P = 5(60) + 8(30) = 660. The maximum profit occurs at (60, 30) with a profit of $660.\", \"final_answer\": \"660\"}\n",
      "\n",
      "Path 2:\n",
      "{\n",
      "  \"step_by_step_reasoning\": \"Let x represent the number of muffins and y represent the number of cakes. The constraints based on the available ingredients can be expressed as follows: For flour, 2x + 3y ≤ 200, and for sugar, x + 2y ≤ 150. The profit function to maximize is P = 5x + 8y. We will first find the feasible region defined by the constraints. 1. From the flour constraint: 2x + 3y ≤ 200. If x=0, y=66.67; if y=0, x=100. 2. From the sugar constraint: x + 2y ≤ 150. If x=0, y=75; if y=0, x=150. Now we will find the intersection points of these lines. Setting 2x + 3y = 200 and x + 2y = 150, we can solve these equations simultaneously to find the intersection points. Solving gives us x = 30, y = 45. The feasible corner points to check for maximum profit are (0, 75), (100, 0), (30, 45), and the intercepts. Evaluating the profit function at these points: P(0, 75) = 5(0) + 8(75) = 600; P(100, 0) = 5(100) + 8(0) = 500; P(30, 45) = 5(30) + 8(45) = 150 + 360 = 510. Therefore, the maximum profit occurs at (0, 75) with a profit of $600.\", \n",
      "  \"final_answer\": \"600\"\n",
      "}\n",
      "\n",
      "Path 3:\n",
      "{\n",
      "    \"step_by_step_reasoning\": \"Let x be the number of muffins and y be the number of cakes. The constraints based on the flour and sugar are: 2x + 3y ≤ 200 (flour constraint) and x + 2y ≤ 150 (sugar constraint). The profit equation is 5x + 8y. We will solve this using the constraints to find the maximum profit. \\n\\n1. Solve the first constraint for y: 3y ≤ 200 - 2x, y ≤ (200 - 2x)/3. \\n2. Solve the second constraint for y: 2y ≤ 150 - x, y ≤ (150 - x)/2. \\n3. Find intersection points by solving the equations: \\n   - Set (200 - 2x)/3 = (150 - x)/2. \\n   - Cross-multiply to get 2(200 - 2x) = 3(150 - x). \\n   - This simplifies to 400 - 4x = 450 - 3x, leading to x = 50. \\n4. Substitute x = 50 in either constraint to find y: y = (150 - 50)/2 = 50. \\n5. Calculate profit: Profit = 5(50) + 8(50) = 250 + 400 = 650. \\n\\n6. Check corner points (0, 75), (100, 0), and (50, 50) \\n   - For (0, 75): Profit = 8(75) = 600. \\n   - For (100, 0): Profit = 5(100) = 500. \\n   - For (50, 50): Profit = 650. \\n\\nThe maximum profit occurs at (50, 50), which is 650.\",\n",
      "    \"final_answer\": \"650\"\n",
      "}\n",
      "\n",
      "Path 4:\n",
      "{\n",
      "  \"step_by_step_reasoning\": \"Let x be the number of muffins and y be the number of cakes. The constraints based on the ingredients are: 2x + 3y <= 200 (flour) and x + 2y <= 150 (sugar). The profit function is P = 5x + 8y. We need to find the maximum profit while satisfying the constraints. First, we will find the feasible region by solving the inequalities.\\n\\n1. 2x + 3y <= 200: \\n   If x = 0, y = 200/3 ≈ 66.67 (point A)\\n   If y = 0, x = 200/2 = 100 (point B)\\n\\n2. x + 2y <= 150:\\n   If x = 0, y = 150/2 = 75 (point C)\\n   If y = 0, x = 150 (point D)\\n\\nNow we find the feasible region defined by the intersection of these constraints.\\n\\nNext, we find the intersection of the two lines:\\n1. From 2x + 3y = 200 and x + 2y = 150, we can solve these equations:\\n   Multiply the second equation by 2: 2x + 4y = 300\\n   Now subtract the first from the second:\\n   4y - 3y = 300 - 200 => y = 100.\\n   Substitute y back into the second equation:\\n   x + 2(100) = 150 => x = -50 (not feasible)\\n   So we must check other corner points: (0, 75), (100, 0), (0, 66.67).\\n\\n3. Calculate profit at each corner point:\\n   - At (0, 75): Profit = 5(0) + 8(75) = 600\\n   - At (100, 0): Profit = 5(100) + 8(0) = 500\\n   - At (0, 66.67): Profit = 5(0) + 8(66.67) = 533.36\\n\\nThe maximum profit is at (0, 75) where profit = 600. Thus, the maximum profit the bakery can make is $600.\",\n",
      "  \"final_answer\": \"$600\"\n",
      "}\n",
      "\n",
      "Path 5:\n",
      "{\n",
      "  \"step_by_step_reasoning\": \"Let x be the number of muffins and y be the number of cakes. The constraints based on the ingredients are: 2x + 3y <= 200 (flour constraint) and x + 2y <= 150 (sugar constraint). The profit function to maximize is P = 5x + 8y. We can solve for feasible values of x and y within these constraints.\\n\\n1. From the flour constraint: 2x + 3y <= 200, we can express y in terms of x: y <= (200 - 2x) / 3.\\n2. From the sugar constraint: x + 2y <= 150, we can express y in terms of x: y <= (150 - x) / 2.\\n\\nTo find the maximum profit, we need to determine the corner points of the feasible region defined by these inequalities. \\n\\nSetting the equations equal: (200 - 2x) / 3 = (150 - x) / 2.\\nCross-multiplying gives: 2(200 - 2x) = 3(150 - x).\\nExpanding both sides: 400 - 4x = 450 - 3x.\\nRearranging yields: x = 50. Substituting x = 50 back into the sugar constraint gives y = (150 - 50) / 2 = 50.\\n\\nNow we check the profit at this point: P = 5(50) + 8(50) = 250 + 400 = 650.\\n\\nNext, we check the intercepts of the constraints to see if higher profits can be achieved:\\n- For the flour constraint, if x = 0, y = 200/3 ≈ 66.67 (not an integer).\\n- For x = 0, y = 66, profit = 8(66) = 528.\\n- For y = 0, x = 100, profit = 5(100) = 500.\\n- For the sugar constraint, if x = 0, y = 75, profit = 8(75) = 600.\\n- If y = 0, x = 150, profit = 5(150) = 750 (but violates flour constraint).\\n\\nAfter evaluating these points, the maximum profit is achieved with 50 muffins and 50 cakes, yielding a maximum profit of $650.\", \n",
      "  \"final_answer\": \"650\"\n",
      "}\n"
     ]
    }
   ],
   "source": [
    "client = AsyncOpenAI(api_key=secret_key)\n",
    "\n",
    "nest_asyncio.apply()\n",
    "\n",
    "async def generate_reasoning_path(question, temperature=0.7):\n",
    "    \"\"\"Generates a reasoning path using the OpenAI API asynchronously.\"\"\"\n",
    "    response = await client.chat.completions.create(\n",
    "        model=\"gpt-4o-mini\",\n",
    "        messages=[\n",
    "            {\"role\": \"system\", \"content\": \"\"\"You are a helpful assistant that provides step-by-step reasoning for questions. Provide a step-by-step reasoning and final answer as keys in JSON step_by_step_reasoning, and final_answer.\"\"\"},\n",
    "            {\"role\": \"user\", \"content\": f\"{question}\"}\n",
    "        ],\n",
    "        temperature=temperature,\n",
    "        max_tokens=1000\n",
    "    )\n",
    "    return response.choices[0].message.content\n",
    "\n",
    "def extract_answer(reasoning_path):\n",
    "    \"\"\"Extracts the final answer from a reasoning path.\"\"\"\n",
    "    try:\n",
    "        parsed_json = json.loads(reasoning_path)\n",
    "        return parsed_json.get('final_answer', '').replace('$', '')\n",
    "    except json.JSONDecodeError:\n",
    "        return \"\"\n",
    "    \n",
    "async def self_consistency(question, num_samples=5):\n",
    "    \"\"\"Implements the self-consistency method using the OpenAI API asynchronously.\"\"\"\n",
    "    tasks = [generate_reasoning_path(question) for _ in range(num_samples)]\n",
    "    sampled_paths = await asyncio.gather(*tasks)\n",
    "    answers = [extract_answer(path) for path in sampled_paths]\n",
    "    most_common_answer = Counter(answers).most_common(1)[0][0]\n",
    "    return most_common_answer, answers, sampled_paths\n",
    "\n",
    "# Example usage\n",
    "async def main():\n",
    "    question = \"\"\"Q: There are 5 apples in a basket. If 3 more apples are added, how many apples are in the basket now?\n",
    "    A: {\"step_by_step_reasoning\": \"There are 5 apples in the basket already. 3 more apples are added. Now there are 5 + 3 = 8 apples. The answer is 8.\", \"final_answer\": \"8\"}\"\"\n",
    "\n",
    "    Q: A bakery sells muffins and cakes. Each muffin requires 2 cups of flour and 1 cup of sugar. Each cake requires 3 cups of flour and 2 cups of sugar. The bakery has 200 cups of flour and 150 cups of sugar available. If the profit on each muffin is $5 and on each cake is $8, what is the maximum profit the bakery can make?\n",
    "    A:\"\"\"\n",
    "    final_answer, answers, reasoning_paths = await self_consistency(question, num_samples=5)\n",
    "\n",
    "    print(f\"The most consistent answer is: {final_answer}\")\n",
    "    print(\"List of answers:\")\n",
    "    for i, answer in enumerate(answers, 1):\n",
    "        print(f\"Answer {i}: {answer}\")\n",
    "    print(\"\\nReasoning paths:\")\n",
    "    for i, path in enumerate(reasoning_paths, 1):\n",
    "        print(f\"\\nPath {i}:\")\n",
    "        print(path)\n",
    "\n",
    "# Run the async main function\n",
    "asyncio.run(main())    "
   ]
  }
 ],
 "metadata": {
  "kernelspec": {
   "display_name": "Python 3",
   "language": "python",
   "name": "python3"
  },
  "language_info": {
   "codemirror_mode": {
    "name": "ipython",
    "version": 3
   },
   "file_extension": ".py",
   "mimetype": "text/x-python",
   "name": "python",
   "nbconvert_exporter": "python",
   "pygments_lexer": "ipython3",
   "version": "3.13.2"
  }
 },
 "nbformat": 4,
 "nbformat_minor": 2
}
