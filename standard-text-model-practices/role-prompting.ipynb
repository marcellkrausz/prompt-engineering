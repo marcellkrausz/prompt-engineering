{
 "cells": [
  {
   "cell_type": "code",
   "execution_count": null,
   "metadata": {},
   "outputs": [],
   "source": [
    "# Get the openai secret key:\n",
    "import getpass\n",
    "\n",
    "secret_key = getpass.getpass('Please enter your openai key:')"
   ]
  },
  {
   "cell_type": "code",
   "execution_count": 105,
   "metadata": {},
   "outputs": [
    {
     "data": {
      "text/markdown": [
       "To estimate the market capitalization of NVIDIA, we can use the price-to-earnings (P/E) ratio, which is a common metric utilized in valuing companies, particularly in the technology sector. \n",
       "\n",
       "First, we will calculate the Earnings Per Share (EPS):\n",
       "\n",
       "EPS = Net Income / Number of Shares Outstanding  \n",
       "EPS = 9,755,000,000 / 2,500,000,000  \n",
       "EPS = 3.902\n",
       "\n",
       "Next, we need to determine an appropriate P/E ratio for NVIDIA. As of October 2023, P/E ratios for technology companies can vary significantly based on growth prospects, market sentiment, and trends within the sector. Technology companies often have higher P/E ratios, typically ranging from 20 to 50 or even above for high-growth firms.\n",
       "\n",
       "Let’s consider a conservative P/E ratio of 30 for NVIDIA, given its strong position in the semiconductor market and prospects in AI and gaming.\n",
       "\n",
       "Market Capitalization = EPS * P/E Ratio * Number of Shares Outstanding  \n",
       "Market Capitalization = 3.902 * 30 * 2500000000  \n",
       "Market Capitalization = 292650000000\n",
       "\n",
       "Thus, the estimated market capitalization of NVIDIA is approximately $292.65 billion.\n",
       "\n",
       "### Insights and Recommendations:\n",
       "\n",
       "1. **Growth Potential**: NVIDIA operates in high-growth segments like AI, gaming, and data centers. This presents strong long-term growth potential that could justify a higher P/E ratio.\n",
       "\n",
       "2. **Market Trends**: Keep an eye on the broader technology market and any specific trends within the semiconductor industry, including supply chain dynamics and competitive positioning, which could imply volatility and opportunities for NVIDIA.\n",
       "\n",
       "3. **Investment Strategy**: If you're considering investing, assess NVIDIA’s valuation relative to its historical P/E ratios, peers in the semiconductor space, and future growth projections. \n",
       "\n",
       "4. **Risk Factors**: Watch out for potential risks such as market competition, shifts in consumer preferences, and regulatory changes which could impact EPS and, consequently, market cap estimations.\n",
       "\n",
       "5. **Regular Updates**: Maintain regular analysis with updated financial data and market conditions, as these factors can change rapidly in the tech sector.\n",
       "\n",
       "This approach provides a foundational strategy to valuate NVIDIA’s market capitalization and consider future investment decisions."
      ],
      "text/plain": [
       "<IPython.core.display.Markdown object>"
      ]
     },
     "metadata": {},
     "output_type": "display_data"
    }
   ],
   "source": [
    "from openai import OpenAI\n",
    "from IPython.display import display, Math, Markdown\n",
    "\n",
    "client = OpenAI(api_key=secret_key)\n",
    "\n",
    "company_name = \"NVIDIA\"\n",
    "industry = \"Technology\"\n",
    "revenue_amount = 27587000000\n",
    "net_income_amount = 9755000000\n",
    "total_assets_amount = 52128000000\n",
    "total_liabilities_amount = 13056000000\n",
    "shares_outstanding = 2500000000\n",
    "\n",
    "text = f\"\"\"\n",
    "I am analyzing a company called {company_name} and would like to estimate its market capitalization. The company operates in the {industry} sector and has recently reported the following financial data:\n",
    "\n",
    "- Revenue: {revenue_amount}\n",
    "- Net Income: {net_income_amount}\n",
    "- Total Assets: {total_assets_amount}\n",
    "- Total Liabilities: {total_liabilities_amount}\n",
    "- Number of Shares Outstanding: {shares_outstanding}\n",
    "\n",
    "Based on this information and relevant industry trends, could you help me estimate the market capitalization of {company_name} and provide any relevant insights or recommendations?\n",
    "\n",
    "The maximum lenght of the answer should be 500 token and do not use Latex, please.\n",
    "\"\"\"\n",
    "\n",
    "\n",
    "response = client.chat.completions.create(\n",
    "  model=\"gpt-4o-mini\",\n",
    "  messages=[\n",
    "    {\n",
    "      \"role\": \"system\",\n",
    "      \"content\": \"You are a professional Financial Analyst.\"\n",
    "     },\n",
    "    {\n",
    "      \"role\": \"user\",\n",
    "      \"content\": [\n",
    "        {\n",
    "          \"type\": \"text\",\n",
    "          \"text\": text\n",
    "        }\n",
    "      ]\n",
    "    },\n",
    "  ],\n",
    "  response_format={\n",
    "    \"type\": \"text\"\n",
    "  },\n",
    "  temperature=1,\n",
    "  max_completion_tokens=500,\n",
    "  top_p=1,\n",
    "  frequency_penalty=0,\n",
    "  presence_penalty=0\n",
    ")\n",
    "\n",
    "answer = response.choices[0].message.content\n",
    "display(Markdown(answer))\n"
   ]
  }
 ],
 "metadata": {
  "kernelspec": {
   "display_name": "Python 3",
   "language": "python",
   "name": "python3"
  },
  "language_info": {
   "codemirror_mode": {
    "name": "ipython",
    "version": 3
   },
   "file_extension": ".py",
   "mimetype": "text/x-python",
   "name": "python",
   "nbconvert_exporter": "python",
   "pygments_lexer": "ipython3",
   "version": "3.13.2"
  }
 },
 "nbformat": 4,
 "nbformat_minor": 2
}
