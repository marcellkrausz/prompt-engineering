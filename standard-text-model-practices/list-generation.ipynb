{
 "cells": [
  {
   "cell_type": "code",
   "execution_count": 1,
   "metadata": {},
   "outputs": [
    {
     "name": "stdout",
     "output_type": "stream",
     "text": [
      "Requirement already satisfied: openai in c:\\users\\user\\appdata\\local\\programs\\python\\python313\\lib\\site-packages (1.65.2)\n",
      "Collecting openai\n",
      "  Downloading openai-1.65.3-py3-none-any.whl.metadata (27 kB)\n",
      "Requirement already satisfied: anyio<5,>=3.5.0 in c:\\users\\user\\appdata\\local\\programs\\python\\python313\\lib\\site-packages (from openai) (4.8.0)\n",
      "Requirement already satisfied: distro<2,>=1.7.0 in c:\\users\\user\\appdata\\local\\programs\\python\\python313\\lib\\site-packages (from openai) (1.9.0)\n",
      "Requirement already satisfied: httpx<1,>=0.23.0 in c:\\users\\user\\appdata\\local\\programs\\python\\python313\\lib\\site-packages (from openai) (0.28.1)\n",
      "Requirement already satisfied: jiter<1,>=0.4.0 in c:\\users\\user\\appdata\\local\\programs\\python\\python313\\lib\\site-packages (from openai) (0.8.2)\n",
      "Requirement already satisfied: pydantic<3,>=1.9.0 in c:\\users\\user\\appdata\\local\\programs\\python\\python313\\lib\\site-packages (from openai) (2.10.6)\n",
      "Requirement already satisfied: sniffio in c:\\users\\user\\appdata\\local\\programs\\python\\python313\\lib\\site-packages (from openai) (1.3.1)\n",
      "Requirement already satisfied: tqdm>4 in c:\\users\\user\\appdata\\local\\programs\\python\\python313\\lib\\site-packages (from openai) (4.67.1)\n",
      "Requirement already satisfied: typing-extensions<5,>=4.11 in c:\\users\\user\\appdata\\local\\programs\\python\\python313\\lib\\site-packages (from openai) (4.12.2)\n",
      "Requirement already satisfied: idna>=2.8 in c:\\users\\user\\appdata\\local\\programs\\python\\python313\\lib\\site-packages (from anyio<5,>=3.5.0->openai) (3.10)\n",
      "Requirement already satisfied: certifi in c:\\users\\user\\appdata\\local\\programs\\python\\python313\\lib\\site-packages (from httpx<1,>=0.23.0->openai) (2025.1.31)\n",
      "Requirement already satisfied: httpcore==1.* in c:\\users\\user\\appdata\\local\\programs\\python\\python313\\lib\\site-packages (from httpx<1,>=0.23.0->openai) (1.0.7)\n",
      "Requirement already satisfied: h11<0.15,>=0.13 in c:\\users\\user\\appdata\\local\\programs\\python\\python313\\lib\\site-packages (from httpcore==1.*->httpx<1,>=0.23.0->openai) (0.14.0)\n",
      "Requirement already satisfied: annotated-types>=0.6.0 in c:\\users\\user\\appdata\\local\\programs\\python\\python313\\lib\\site-packages (from pydantic<3,>=1.9.0->openai) (0.7.0)\n",
      "Requirement already satisfied: pydantic-core==2.27.2 in c:\\users\\user\\appdata\\local\\programs\\python\\python313\\lib\\site-packages (from pydantic<3,>=1.9.0->openai) (2.27.2)\n",
      "Requirement already satisfied: colorama in c:\\users\\user\\appdata\\roaming\\python\\python313\\site-packages (from tqdm>4->openai) (0.4.6)\n",
      "Downloading openai-1.65.3-py3-none-any.whl (472 kB)\n",
      "Installing collected packages: openai\n",
      "  Attempting uninstall: openai\n",
      "    Found existing installation: openai 1.65.2\n",
      "    Uninstalling openai-1.65.2:\n",
      "      Successfully uninstalled openai-1.65.2\n",
      "Successfully installed openai-1.65.3\n",
      "Note: you may need to restart the kernel to use updated packages.\n"
     ]
    },
    {
     "name": "stderr",
     "output_type": "stream",
     "text": [
      "  WARNING: The script openai.exe is installed in 'c:\\Users\\User\\AppData\\Local\\Programs\\Python\\Python313\\Scripts' which is not on PATH.\n",
      "  Consider adding this directory to PATH or, if you prefer to suppress this warning, use --no-warn-script-location.\n",
      "\n",
      "[notice] A new release of pip is available: 24.3.1 -> 25.0.1\n",
      "[notice] To update, run: python.exe -m pip install --upgrade pip\n"
     ]
    }
   ],
   "source": [
    "%pip install openai --upgrade"
   ]
  },
  {
   "cell_type": "code",
   "execution_count": 3,
   "metadata": {},
   "outputs": [],
   "source": [
    "import openai\n",
    "import re\n",
    "import getpass\n",
    "\n",
    "\n",
    "openai.api_key = getpass.getpass(\"Please enter your OpenAI Key:\")"
   ]
  },
  {
   "cell_type": "code",
   "execution_count": 12,
   "metadata": {},
   "outputs": [],
   "source": [
    "def complete(prompt, max_tokens=2000):\n",
    "    response = openai.chat.completions.create(\n",
    "        model=\"gpt-4o-mini\",\n",
    "        messages=[\n",
    "            {\"role\": \"system\", \"content\": \"You are a helpful assistant.\"},\n",
    "            {\"role\": \"user\", \"content\": prompt},\n",
    "        ],\n",
    "        max_tokens=max_tokens\n",
    "    )\n",
    "    return response.choices[0].message.content"
   ]
  },
  {
   "cell_type": "code",
   "execution_count": 32,
   "metadata": {},
   "outputs": [
    {
     "name": "stdout",
     "output_type": "stream",
     "text": [
      "# Outline for the Article: \"What is Prompt Engineering?\"\n",
      "\n",
      "1. **Introduction**\n",
      "   a. Definition of prompt engineering  \n",
      "   b. Importance in the context of AI and natural language processing  \n",
      "   c. Overview of the article’s structure  \n",
      "\n",
      "2. **Key Aspects of Prompt Engineering**\n",
      "   a. Principles of effective prompting  \n",
      "      i. Clarity and specificity  \n",
      "      ii. Context and relevance  \n",
      "   b. Types of prompts  \n",
      "      i. Open-ended prompts  \n",
      "      ii. Instruction-based prompts  \n",
      "   c. Evaluation of prompts  \n",
      "      i. Measuring effectiveness  \n",
      "      ii. Iterative refinement  \n",
      "\n",
      "3. **Applications of Prompt Engineering**\n",
      "   a. Enhancing AI-generated content  \n",
      "      i. Creative writing  \n",
      "      ii. Technical documentation  \n",
      "   b. Chatbots and virtual assistants  \n",
      "      i. Customer service applications  \n",
      "      ii. Personal assistant functionalities  \n",
      "   c. Research and data analysis  \n",
      "      i. Summarization of studies  \n",
      "      ii. Generating insights from data  \n",
      "\n",
      "4. **Tools and Technologies Used in Prompt Engineering**\n",
      "   a. Language models (e.g., GPT-3, GPT-4)  \n",
      "   b. Prompt engineering platforms and interfaces  \n",
      "      i. OpenAI Playground  \n",
      "      ii. Hugging Face transformers  \n",
      "   c. APIs for integrating prompting with applications  \n",
      "\n",
      "5. **Future of Prompt Engineering**\n",
      "   a. Emerging trends  \n",
      "      i. Advances in AI language models  \n",
      "      ii. Increased demand for personalized AI interactions  \n",
      "   b. Role in industry evolution  \n",
      "      i. Impact on content creation industries  \n",
      "      ii. Transformation of customer engagement strategies  \n",
      "\n",
      "6. **Conclusion**\n",
      "   a. Recap of key points  \n",
      "   b. Significance of prompt engineering in today's AI landscape  \n",
      "   c. Future implications for AI and human interaction  \n"
     ]
    }
   ],
   "source": [
    "article = \"What is Prompt Engineering?\"\n",
    "example = \"1.Introduction\\n    a. Definition of [TOPIC]\\n 2.Key Aspects of [TOPIC]\\n    a. First important aspect\\n    b. Second important aspect\\n    c. Third important aspect\\n3.Applications of [TOPIC]\\n    a. Use case 1\\n    b. Use case 2\\n4.Tools and Technologies Used in [TOPIC]\\n    a. Tool 1\\n    b. Tool 2\\n5.Future of [TOPIC]\\n    a. Emerging trends\\n    b. Role in industry evolution\\n6.Conclusion\\n    a. Recap of key points\\n    b. Why [TOPIC] is important in today's world\"\n",
    "base_prompt = f'\"Write a numbered, hierarchical outline for an article on \"{article}\". The outline should be structured as follows: each main section should be numbered (1, 2, 3, etc.), and each subsection should be represented by a lowercase letter (a, b, c, etc.). The content should be relevant to the topic and logically organized. Here is an example of the structure:\"{example}'\n",
    "result = complete(base_prompt)\n",
    "print(result)"
   ]
  },
  {
   "cell_type": "code",
   "execution_count": null,
   "metadata": {},
   "outputs": [],
   "source": [
    "# Extract main sections\n",
    "# This finds all main sections using a regex pattern that looks for numbers followed by a dot (e.g., \"1.\", \"2.\") \n",
    "# and captures everything until the next main section starts or the string ends.\n",
    "main_sections = re.findall(r'\\d+\\..*?(?=^\\d+|\\Z)', result, re.MULTILINE | re.DOTALL)\n",
    "\n",
    "# Extract sub-sections\n",
    "sections = {}\n",
    "for section in main_sections:\n",
    "    # Extract the main section title using a regex pattern that captures the first occurrence of a numbered section (e.g., \"1. Introduction\")\n",
    "    section_title = re.search(r'\\d+\\..+', section).group(0)\n",
    "    # Extract sub-sections by finding lowercase lettered subsections (e.g., \"a.\", \"b.\") within the main section\n",
    "    sub_sections = re.findall(r'\\s+[a-z]\\..+', section, re.MULTILINE)\n",
    "    # Store the main section title as the key and the list of stripped sub-section titles as the value\n",
    "    sections[section_title] = [heading.strip() for heading in  sub_sections]"
   ]
  },
  {
   "cell_type": "code",
   "execution_count": 17,
   "metadata": {},
   "outputs": [
    {
     "name": "stdout",
     "output_type": "stream",
     "text": [
      "{'1. Introduction  ': ['a. Definition of Prompt Engineering', 'b. Importance of Prompt Engineering in AI and NLP'], '2. Historical Context  ': ['a. Evolution of Natural Language Processing', 'b. Emergence of Generative AI Models', 'c. Role of User Inputs in AI Interactions'], '3. Core Concepts of Prompt Engineering  ': ['a. Prompts: Definition and Examples', 'b. Types of Prompts', 'i. Instructional Prompts', 'c. Characteristics of Effective Prompts', 'i. Clarity'], '4. Techniques in Prompt Engineering  ': ['a. Iterative Refinement of Prompts', 'b. Use of Contextual Clues', 'c. Experimentation and Tuning', 'd. Incorporating User Feedback'], '5. Applications of Prompt Engineering  ': ['a. Content Creation', 'b. Customer Support Automation', 'c. Educational Tools', 'd. Creative Writing and Art Generation'], '6. Challenges in Prompt Engineering  ': ['a. Ambiguity and Misinterpretation', 'b. Limitations of AI Models', 'c. Ethical Considerations and Bias'], '7. Future Trends in Prompt Engineering  ': ['a. Evolving AI Capabilities', 'b. Increased User Customization', 'c. Integration with Other Technologies'], '8. Conclusion  ': ['a. Summary of Key Points', 'b. The Growing Importance of Prompt Engineering in AI Development']}\n"
     ]
    }
   ],
   "source": [
    "print(sections)"
   ]
  },
  {
   "cell_type": "code",
   "execution_count": 18,
   "metadata": {},
   "outputs": [],
   "source": [
    "prompt = \"Produce an article outline for \\\"What is Prompt Engineering?\\\"\\n\\nHere is an example, of the structure. Always return valid JSON.\\n\\n{\\n\\\"top_heading_one:\\\": [\\\"subheading_one\\\", \\\"subheading_two\\\"],\\n\\\"top_heading_two:\\\": [\\\"subheading_one\\\", \\\"subheading_two\\\"],\\n} \\n\\nRemember that the ouput must be like the above, and must be parsable JSON.\\n\\n----\\n\\n\"\n",
    "result = complete(prompt)"
   ]
  },
  {
   "cell_type": "code",
   "execution_count": 19,
   "metadata": {},
   "outputs": [],
   "source": [
    "import json"
   ]
  },
  {
   "cell_type": "code",
   "execution_count": 20,
   "metadata": {},
   "outputs": [
    {
     "data": {
      "text/plain": [
       "{'Introduction': ['Definition of Prompt Engineering',\n",
       "  'Importance in AI and NLP'],\n",
       " 'Core Concepts': ['Understanding Prompts',\n",
       "  'Types of Prompts',\n",
       "  'Prompt Structures'],\n",
       " 'Applications': ['Use in Chatbots',\n",
       "  'Integration with Machine Learning Models',\n",
       "  'Creative Content Generation'],\n",
       " 'Techniques': ['Prompt Tuning',\n",
       "  'Few-Shot and Zero-Shot Learning',\n",
       "  'Iterative Prompt Design'],\n",
       " 'Challenges': ['Ambiguity in Prompts',\n",
       "  'Model Limitations',\n",
       "  'Ethical Considerations'],\n",
       " 'Future of Prompt Engineering': ['Trends in Research',\n",
       "  'Impact on AI Development',\n",
       "  'Potential Innovations'],\n",
       " 'Conclusion': ['Summary of Key Points',\n",
       "  'Final Thoughts on Prompt Engineering']}"
      ]
     },
     "execution_count": 20,
     "metadata": {},
     "output_type": "execute_result"
    }
   ],
   "source": [
    "json.loads(result)"
   ]
  },
  {
   "cell_type": "code",
   "execution_count": 21,
   "metadata": {},
   "outputs": [
    {
     "name": "stdout",
     "output_type": "stream",
     "text": [
      "{'Introduction': ['Definition of Prompt Engineering', 'Importance in AI and NLP'], 'Core Concepts': ['Understanding Prompts', 'Types of Prompts', 'Prompt Structures'], 'Applications': ['Use in Chatbots', 'Integration with Machine Learning Models', 'Creative Content Generation'], 'Techniques': ['Prompt Tuning', 'Few-Shot and Zero-Shot Learning', 'Iterative Prompt Design'], 'Challenges': ['Ambiguity in Prompts', 'Model Limitations', 'Ethical Considerations'], 'Future of Prompt Engineering': ['Trends in Research', 'Impact on AI Development', 'Potential Innovations'], 'Conclusion': ['Summary of Key Points', 'Final Thoughts on Prompt Engineering']}\n"
     ]
    }
   ],
   "source": [
    "try:\n",
    "  print(json.loads(result))\n",
    "except Exception as e:\n",
    "  # Re-running the gpt-4\n",
    "  pass\n",
    "  # Parsing the text and trying to extract the data from the string"
   ]
  },
  {
   "cell_type": "code",
   "execution_count": 27,
   "metadata": {},
   "outputs": [],
   "source": [
    "import yaml"
   ]
  },
  {
   "cell_type": "code",
   "execution_count": 28,
   "metadata": {},
   "outputs": [
    {
     "data": {
      "text/plain": [
       "\"- name: What is Prompt Engineering?\\n  description: An exploration of the concept and importance of prompt engineering in AI and machine learning.\\n  sections:\\n    - title: Introduction\\n      content: |\\n        Prompt engineering is an emerging field in artificial intelligence that focuses on the design and optimization of prompts to elicit desired responses from language models. This section provides an overview of what prompt engineering is and its relevance in today's AI landscape.\\n    - title: Understanding Prompts\\n      content: |\\n        This section defines prompts and explains their role in interacting with language models. It discusses different types of prompts, such as natural language queries, instructions, and examples.\\n    - title: Importance of Prompt Engineering\\n      content: |\\n        Here, we highlight the significance of prompt engineering in enhancing the performance of AI systems. We explore how well-crafted prompts can lead to more accurate and contextually relevant outputs.\\n    - title: Techniques in Prompt Engineering\\n      content: |\\n        This section delves into various techniques utilized in prompt engineering, including:\\n        - Few-shot prompting\\n        - Zero-shot prompting\\n        - Chain-of-thought prompting\\n        - Instruction-based prompting\\n    - title: Challenges in Prompt Engineering\\n      content: |\\n        Here we discuss common challenges faced during prompt engineering, such as ambiguity in language, context understanding, and the limitation of language models.\\n    - title: Practical Applications of Prompt Engineering\\n      content: |\\n        This section explores real-world applications of prompt engineering in various fields, including customer service, education, content generation, and more.\\n    - title: Future of Prompt Engineering\\n      content: |\\n        An analysis of the future trends in prompt engineering, including advancements in AI technology and the potential evolution of prompt design to meet complex use cases.\\n    - title: Conclusion\\n      content: |\\n        The conclusion summarizes the key points discussed in the article and emphasizes the importance of prompt engineering in maximizing the effectiveness of AI responses.\""
      ]
     },
     "execution_count": 28,
     "metadata": {},
     "output_type": "execute_result"
    }
   ],
   "source": [
    "prompt = \"Produce an article outline in the format a .yml file for \\\"What is Prompt Engineering?\\\"\\n\\nAlways return valid YML and remove the yaml tag from the beginning.\\n\\nHere is an example:\\n\\n- name: Example YAML File\\n  description: This is an example YAML file.\\n  sections:\\n    - title: Introduction\\n      content: |\\n        This is the introduction.\\n    - title: Conclusion\\n      content: |\\n        This is the conclusion.\\n\\n----\\n\\n\\n\"\n",
    "text = complete(prompt)\n",
    "text"
   ]
  },
  {
   "cell_type": "code",
   "execution_count": 29,
   "metadata": {},
   "outputs": [
    {
     "name": "stdout",
     "output_type": "stream",
     "text": [
      "- name: What is Prompt Engineering?\n",
      "  description: An exploration of the concept and importance of prompt engineering in AI and machine learning.\n",
      "  sections:\n",
      "    - title: Introduction\n",
      "      content: |\n",
      "        Prompt engineering is an emerging field in artificial intelligence that focuses on the design and optimization of prompts to elicit desired responses from language models. This section provides an overview of what prompt engineering is and its relevance in today's AI landscape.\n",
      "    - title: Understanding Prompts\n",
      "      content: |\n",
      "        This section defines prompts and explains their role in interacting with language models. It discusses different types of prompts, such as natural language queries, instructions, and examples.\n",
      "    - title: Importance of Prompt Engineering\n",
      "      content: |\n",
      "        Here, we highlight the significance of prompt engineering in enhancing the performance of AI systems. We explore how well-crafted prompts can lead to more accurate and contextually relevant outputs.\n",
      "    - title: Techniques in Prompt Engineering\n",
      "      content: |\n",
      "        This section delves into various techniques utilized in prompt engineering, including:\n",
      "        - Few-shot prompting\n",
      "        - Zero-shot prompting\n",
      "        - Chain-of-thought prompting\n",
      "        - Instruction-based prompting\n",
      "    - title: Challenges in Prompt Engineering\n",
      "      content: |\n",
      "        Here we discuss common challenges faced during prompt engineering, such as ambiguity in language, context understanding, and the limitation of language models.\n",
      "    - title: Practical Applications of Prompt Engineering\n",
      "      content: |\n",
      "        This section explores real-world applications of prompt engineering in various fields, including customer service, education, content generation, and more.\n",
      "    - title: Future of Prompt Engineering\n",
      "      content: |\n",
      "        An analysis of the future trends in prompt engineering, including advancements in AI technology and the potential evolution of prompt design to meet complex use cases.\n",
      "    - title: Conclusion\n",
      "      content: |\n",
      "        The conclusion summarizes the key points discussed in the article and emphasizes the importance of prompt engineering in maximizing the effectiveness of AI responses.\n"
     ]
    }
   ],
   "source": [
    "print(text)"
   ]
  },
  {
   "cell_type": "code",
   "execution_count": 30,
   "metadata": {},
   "outputs": [],
   "source": [
    "# Load the YAML string into a Python object\n",
    "data = yaml.load(text, Loader=yaml.FullLoader)"
   ]
  },
  {
   "cell_type": "code",
   "execution_count": 31,
   "metadata": {},
   "outputs": [
    {
     "name": "stdout",
     "output_type": "stream",
     "text": [
      "[{'name': 'What is Prompt Engineering?', 'description': 'An exploration of the concept and importance of prompt engineering in AI and machine learning.', 'sections': [{'title': 'Introduction', 'content': \"Prompt engineering is an emerging field in artificial intelligence that focuses on the design and optimization of prompts to elicit desired responses from language models. This section provides an overview of what prompt engineering is and its relevance in today's AI landscape.\\n\"}, {'title': 'Understanding Prompts', 'content': 'This section defines prompts and explains their role in interacting with language models. It discusses different types of prompts, such as natural language queries, instructions, and examples.\\n'}, {'title': 'Importance of Prompt Engineering', 'content': 'Here, we highlight the significance of prompt engineering in enhancing the performance of AI systems. We explore how well-crafted prompts can lead to more accurate and contextually relevant outputs.\\n'}, {'title': 'Techniques in Prompt Engineering', 'content': 'This section delves into various techniques utilized in prompt engineering, including:\\n- Few-shot prompting\\n- Zero-shot prompting\\n- Chain-of-thought prompting\\n- Instruction-based prompting\\n'}, {'title': 'Challenges in Prompt Engineering', 'content': 'Here we discuss common challenges faced during prompt engineering, such as ambiguity in language, context understanding, and the limitation of language models.\\n'}, {'title': 'Practical Applications of Prompt Engineering', 'content': 'This section explores real-world applications of prompt engineering in various fields, including customer service, education, content generation, and more.\\n'}, {'title': 'Future of Prompt Engineering', 'content': 'An analysis of the future trends in prompt engineering, including advancements in AI technology and the potential evolution of prompt design to meet complex use cases.\\n'}, {'title': 'Conclusion', 'content': 'The conclusion summarizes the key points discussed in the article and emphasizes the importance of prompt engineering in maximizing the effectiveness of AI responses.'}]}]\n"
     ]
    }
   ],
   "source": [
    "print(data)"
   ]
  }
 ],
 "metadata": {
  "kernelspec": {
   "display_name": "Python 3",
   "language": "python",
   "name": "python3"
  },
  "language_info": {
   "codemirror_mode": {
    "name": "ipython",
    "version": 3
   },
   "file_extension": ".py",
   "mimetype": "text/x-python",
   "name": "python",
   "nbconvert_exporter": "python",
   "pygments_lexer": "ipython3",
   "version": "3.13.2"
  }
 },
 "nbformat": 4,
 "nbformat_minor": 2
}
