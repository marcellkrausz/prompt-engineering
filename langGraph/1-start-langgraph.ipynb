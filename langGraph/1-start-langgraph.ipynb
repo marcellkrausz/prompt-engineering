{
 "cells": [
  {
   "cell_type": "code",
   "execution_count": 1,
   "metadata": {},
   "outputs": [
    {
     "name": "stderr",
     "output_type": "stream",
     "text": [
      "\n",
      "[notice] A new release of pip is available: 24.3.1 -> 25.0.1\n",
      "[notice] To update, run: python.exe -m pip install --upgrade pip\n"
     ]
    }
   ],
   "source": [
    "%%capture --no-stderr\n",
    "%pip install -U langgraph langsmith langchain-openai langchain-community"
   ]
  },
  {
   "cell_type": "code",
   "execution_count": 2,
   "metadata": {},
   "outputs": [],
   "source": [
    "import getpass\n",
    "import os\n",
    "\n",
    "def _set_env(var: str):\n",
    "    if not os.environ.get(var):\n",
    "        os.environ[var] = getpass.getpass(f\"{var}: \")\n",
    "\n",
    "_set_env(\"OPENAI_API_KEY\")"
   ]
  },
  {
   "cell_type": "code",
   "execution_count": 3,
   "metadata": {},
   "outputs": [],
   "source": [
    "_set_env(\"LANGSMITH_API_KEY\")\n",
    "os.environ[\"LANGCHAIN_TRACING_V2\"] = \"true\"\n",
    "os.environ[\"LANGCHAIN_PROJECT\"] = \"LangGraph Tutorial\""
   ]
  },
  {
   "cell_type": "code",
   "execution_count": 4,
   "metadata": {},
   "outputs": [],
   "source": [
    "#Basic Chatbot\n",
    "from typing import Annotated\n",
    "from typing_extensions import TypedDict\n",
    "\n",
    "from langgraph.graph import StateGraph\n",
    "from langgraph.graph.message import add_messages\n",
    "\n",
    "class State(TypedDict):\n",
    "    # Messages have the type \"list\". The `add_messages` function\n",
    "    # in the annotation defines how this state key should be updated\n",
    "    # (in this case, it appends messages to the list, rather than overwriting them)\n",
    "    messages: Annotated[list, add_messages]\n",
    "\n",
    "graph_builder = StateGraph(State)"
   ]
  },
  {
   "cell_type": "markdown",
   "metadata": {},
   "source": [
    "**Notice** that we've defined our `State` as a TypedDict with a single key: `messages`. The `messages` key is annotated with the [`add_messages`](https://langchain-ai.github.io/langgraph/reference/graphs/?h=add+messages#add_messages) function, which tells LangGraph to append new messages to the existing list, rather than overwriting it."
   ]
  },
  {
   "cell_type": "code",
   "execution_count": 5,
   "metadata": {},
   "outputs": [
    {
     "data": {
      "text/plain": [
       "<langgraph.graph.state.StateGraph at 0x17639120ec0>"
      ]
     },
     "execution_count": 5,
     "metadata": {},
     "output_type": "execute_result"
    }
   ],
   "source": [
    "from langchain_openai import ChatOpenAI\n",
    "\n",
    "llm = ChatOpenAI(model=\"gpt-4o\")\n",
    "\n",
    "def chatbot(state: State):\n",
    "    return {\"messages\": [llm.invoke(state[\"messages\"])]}\n",
    "\n",
    "# The first argument is the unique node name\n",
    "# The second argument is the function or object that will be called whenever\n",
    "# the node is used.\n",
    "graph_builder.add_node(\"chatbot\", chatbot)"
   ]
  },
  {
   "cell_type": "code",
   "execution_count": 6,
   "metadata": {},
   "outputs": [
    {
     "data": {
      "text/plain": [
       "<langgraph.graph.state.StateGraph at 0x17639120ec0>"
      ]
     },
     "execution_count": 6,
     "metadata": {},
     "output_type": "execute_result"
    }
   ],
   "source": [
    "#Next, add an `entry` point. This tells our graph **where to start its work** each time we run it.\n",
    "graph_builder.set_entry_point(\"chatbot\")"
   ]
  },
  {
   "cell_type": "code",
   "execution_count": 8,
   "metadata": {},
   "outputs": [
    {
     "data": {
      "text/plain": [
       "<langgraph.graph.state.StateGraph at 0x17639120ec0>"
      ]
     },
     "execution_count": 8,
     "metadata": {},
     "output_type": "execute_result"
    }
   ],
   "source": [
    "#Similarly, set a `finish` point. This instructs the graph **\"any time this node is run, you can exit.\"**\n",
    "graph_builder.set_finish_point(\"chatbot\")"
   ]
  },
  {
   "cell_type": "code",
   "execution_count": 9,
   "metadata": {},
   "outputs": [],
   "source": [
    "graph = graph_builder.compile()"
   ]
  },
  {
   "cell_type": "code",
   "execution_count": 10,
   "metadata": {},
   "outputs": [
    {
     "data": {
      "image/png": "[encoded data removed]",
      "text/plain": [
       "<IPython.core.display.Image object>"
      ]
     },
     "metadata": {},
     "output_type": "display_data"
    }
   ],
   "source": [
    "from IPython.display import Image, display\n",
    "\n",
    "try:\n",
    "    display(Image(graph.get_graph().draw_mermaid_png()))\n",
    "except Exception:\n",
    "    # This requires some extra dependencies and is optional\n",
    "    pass"
   ]
  },
  {
   "cell_type": "code",
   "execution_count": 12,
   "metadata": {},
   "outputs": [
    {
     "name": "stdout",
     "output_type": "stream",
     "text": [
      "[AIMessage(content='Hello! How can I assist you today?', additional_kwargs={'refusal': None}, response_metadata={'token_usage': {'completion_tokens': 10, 'prompt_tokens': 9, 'total_tokens': 19, 'completion_tokens_details': {'accepted_prediction_tokens': 0, 'audio_tokens': 0, 'reasoning_tokens': 0, 'rejected_prediction_tokens': 0}, 'prompt_tokens_details': {'audio_tokens': 0, 'cached_tokens': 0}}, 'model_name': 'gpt-4o-2024-08-06', 'system_fingerprint': 'fp_90d33c15d4', 'id': 'chatcmpl-BCXCeOvHVWN92QCfMIhMIkXsI1Q9B', 'finish_reason': 'stop', 'logprobs': None}, id='run-80cc6862-0884-426e-8cec-1307912a581f-0', usage_metadata={'input_tokens': 9, 'output_tokens': 10, 'total_tokens': 19, 'input_token_details': {'audio': 0, 'cache_read': 0}, 'output_token_details': {'audio': 0, 'reasoning': 0}})]\n",
      "Assistant: Hello! How can I assist you today?\n",
      "[AIMessage(content=\"Budapest, the capital city of Hungary, experiences a temperate continental climate with distinct seasons. Here's a brief overview of what you can expect:\\n\\n1. **Spring (March to May):** Spring in Budapest starts off cool in March but gradually warms up by May. Temperatures range from 5°C (41°F) in early spring to about 20°C (68°F) by late May. Rainfall can be somewhat unpredictable, so it's advisable to carry a light jacket or umbrella.\\n\\n2. **Summer (June to August):** Summers in Budapest are quite warm and can sometimes get hot, with average temperatures ranging from 20°C to 30°C (68°F to 86°F). July and August are the hottest months. Occasional thunderstorms can occur, providing relief from the heat.\\n\\n3. **Autumn (September to November):** Autumn sees a gradual cooling, with September still retaining some summer warmth. By November, temperatures often drop to around 5°C (41°F). The fall foliage makes this a beautiful time to visit the city.\\n\\n4. **Winter (December to February):** Winters are cold, with temperatures often dropping below freezing. Average temperatures range from -1°C to 4°C (30°F to 39°F). Snowfall occurs but not in excessive amounts, and the city can be quite scenic under a blanket of snow.\\n\\nOverall, Budapest's weather is characterized by its seasonal variation, so the best time to visit depends on your preference for weather conditions. Summer is ideal for enjoying the outdoors and festivals, while spring and autumn offer milder temperatures and fewer tourists. Winter is great if you enjoy holiday markets and cozy indoor activities.\", additional_kwargs={'refusal': None}, response_metadata={'token_usage': {'completion_tokens': 338, 'prompt_tokens': 18, 'total_tokens': 356, 'completion_tokens_details': {'accepted_prediction_tokens': 0, 'audio_tokens': 0, 'reasoning_tokens': 0, 'rejected_prediction_tokens': 0}, 'prompt_tokens_details': {'audio_tokens': 0, 'cached_tokens': 0}}, 'model_name': 'gpt-4o-2024-08-06', 'system_fingerprint': 'fp_6ec83003ad', 'id': 'chatcmpl-BCXCzCkBu3DitVSYKhLNzIF3rRt1X', 'finish_reason': 'stop', 'logprobs': None}, id='run-8c619d32-ae72-4a94-a590-92aace089926-0', usage_metadata={'input_tokens': 18, 'output_tokens': 338, 'total_tokens': 356, 'input_token_details': {'audio': 0, 'cache_read': 0}, 'output_token_details': {'audio': 0, 'reasoning': 0}})]\n",
      "Assistant: Budapest, the capital city of Hungary, experiences a temperate continental climate with distinct seasons. Here's a brief overview of what you can expect:\n",
      "\n",
      "1. **Spring (March to May):** Spring in Budapest starts off cool in March but gradually warms up by May. Temperatures range from 5°C (41°F) in early spring to about 20°C (68°F) by late May. Rainfall can be somewhat unpredictable, so it's advisable to carry a light jacket or umbrella.\n",
      "\n",
      "2. **Summer (June to August):** Summers in Budapest are quite warm and can sometimes get hot, with average temperatures ranging from 20°C to 30°C (68°F to 86°F). July and August are the hottest months. Occasional thunderstorms can occur, providing relief from the heat.\n",
      "\n",
      "3. **Autumn (September to November):** Autumn sees a gradual cooling, with September still retaining some summer warmth. By November, temperatures often drop to around 5°C (41°F). The fall foliage makes this a beautiful time to visit the city.\n",
      "\n",
      "4. **Winter (December to February):** Winters are cold, with temperatures often dropping below freezing. Average temperatures range from -1°C to 4°C (30°F to 39°F). Snowfall occurs but not in excessive amounts, and the city can be quite scenic under a blanket of snow.\n",
      "\n",
      "Overall, Budapest's weather is characterized by its seasonal variation, so the best time to visit depends on your preference for weather conditions. Summer is ideal for enjoying the outdoors and festivals, while spring and autumn offer milder temperatures and fewer tourists. Winter is great if you enjoy holiday markets and cozy indoor activities.\n",
      "Goodbye!\n"
     ]
    }
   ],
   "source": [
    "while True:\n",
    "    user_input = input(\"User: \")\n",
    "    if user_input.lower() in [\"quit\", \"exit\", \"q\"]:\n",
    "        print(\"Goodbye!\")\n",
    "        break\n",
    "    for event in graph.stream({\"messages\": (\"user\", user_input)}):\n",
    "        print(event['chatbot']['messages'])\n",
    "        for value in event.values():\n",
    "            print(\"Assistant:\", value[\"messages\"][-1].content)"
   ]
  },
  {
   "cell_type": "code",
   "execution_count": 13,
   "metadata": {},
   "outputs": [
    {
     "data": {
      "text/plain": [
       "{'messages': [HumanMessage(content='Hello, world!', additional_kwargs={}, response_metadata={}, id='8dfbfb13-22e6-44a5-a599-95b9a7492fae'),\n",
       "  AIMessage(content='Hello! How can I assist you today?', additional_kwargs={'refusal': None}, response_metadata={'token_usage': {'completion_tokens': 10, 'prompt_tokens': 11, 'total_tokens': 21, 'completion_tokens_details': {'accepted_prediction_tokens': 0, 'audio_tokens': 0, 'reasoning_tokens': 0, 'rejected_prediction_tokens': 0}, 'prompt_tokens_details': {'audio_tokens': 0, 'cached_tokens': 0}}, 'model_name': 'gpt-4o-2024-08-06', 'system_fingerprint': 'fp_90d33c15d4', 'id': 'chatcmpl-BCXDSLY4fX1j4jx9C27lD2CqYznE8', 'finish_reason': 'stop', 'logprobs': None}, id='run-1ce0c493-9f9d-48c9-9656-60f232614d86-0', usage_metadata={'input_tokens': 11, 'output_tokens': 10, 'total_tokens': 21, 'input_token_details': {'audio': 0, 'cache_read': 0}, 'output_token_details': {'audio': 0, 'reasoning': 0}})]}"
      ]
     },
     "execution_count": 13,
     "metadata": {},
     "output_type": "execute_result"
    }
   ],
   "source": [
    "from langchain_core.messages import HumanMessage\n",
    "graph.invoke({\"messages\": [HumanMessage(content=\"Hello, world!\")]})"
   ]
  }
 ],
 "metadata": {
  "kernelspec": {
   "display_name": "Python 3",
   "language": "python",
   "name": "python3"
  },
  "language_info": {
   "codemirror_mode": {
    "name": "ipython",
    "version": 3
   },
   "file_extension": ".py",
   "mimetype": "text/x-python",
   "name": "python",
   "nbconvert_exporter": "python",
   "pygments_lexer": "ipython3",
   "version": "3.13.2"
  }
 },
 "nbformat": 4,
 "nbformat_minor": 2
}
