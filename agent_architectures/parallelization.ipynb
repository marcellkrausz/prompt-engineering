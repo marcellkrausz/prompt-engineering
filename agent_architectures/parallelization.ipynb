{
 "cells": [
  {
   "cell_type": "markdown",
   "id": "61a7128c",
   "metadata": {},
   "source": [
    "## Workflow: **Parallelization**\n",
    "\n",
    "Parallelization takes advantage of tasks that can broken up into discrete independent parts.\n",
    "\n",
    "The user's prompt is passed to multiple LLMs simultaneously. Once all the LLMs respond, their answers are all sent to a final LLM call to be aggregated for the final answer.\n",
    "\n",
    "![parallelization](resources/parallelization.jpg)"
   ]
  },
  {
   "cell_type": "markdown",
   "id": "bb9683c4",
   "metadata": {},
   "source": [
    "## **Use Cases:**\n",
    "\n",
    "- Using one LLM to answer a user's question, while at the same time using another to screen the question for inappropriate content or requests.\n",
    "- Reviewing a piece of code for both security vulnerabilities and stylistic improvements at the same time.\n",
    "- Analyzing a lengthy document by dividing it into sections and assigning each section to a separate LLM for summarization, then combining the summaries into a comprehensive overview.\n",
    "- Simultaneously analyzing a text for emotional tone, intent, and potential biases, with each aspect handled by a dedicated LLM.\n",
    "- Translating a document into multiple languages at the same time by assigning each language to a separate LLM, then aggregating the results for multilingual output."
   ]
  },
  {
   "cell_type": "code",
   "execution_count": null,
   "id": "8ecc1457",
   "metadata": {},
   "outputs": [],
   "source": [
    "%pip install openai pydantic nest-asyncio --upgrade"
   ]
  },
  {
   "cell_type": "code",
   "execution_count": 2,
   "id": "d7328f50",
   "metadata": {},
   "outputs": [],
   "source": [
    "import nest_asyncio\n",
    "nest_asyncio.apply()"
   ]
  },
  {
   "cell_type": "code",
   "execution_count": 3,
   "id": "5a5d336d",
   "metadata": {},
   "outputs": [],
   "source": [
    "import asyncio\n",
    "from typing import Literal\n",
    "from pydantic import BaseModel\n",
    "from openai import AsyncOpenAI"
   ]
  },
  {
   "cell_type": "code",
   "execution_count": 4,
   "id": "d8981864",
   "metadata": {},
   "outputs": [],
   "source": [
    "import getpass\n",
    "import os\n",
    "\n",
    "def _set_env(var: str):\n",
    "    if not os.environ.get(var):\n",
    "        os.environ[var] = getpass.getpass(f\"{var}: \")\n",
    "\n",
    "_set_env(\"OPENAI_API_KEY\")"
   ]
  },
  {
   "cell_type": "code",
   "execution_count": 6,
   "id": "8953fc6e",
   "metadata": {},
   "outputs": [],
   "source": [
    "client = AsyncOpenAI()\n",
    "MODEL = \"gpt-4o-mini\""
   ]
  },
  {
   "cell_type": "code",
   "execution_count": 7,
   "id": "c1c3c8ed",
   "metadata": {},
   "outputs": [],
   "source": [
    "async def analyze_decision(role: str, context: str) -> str:\n",
    "    prompt = f'''\n",
    "    Act as a {role}.\n",
    "    You are analysing the potential direction of a user, like a career coach. Your goal is to analyse the {context}.\n",
    "    Then to determine the right way for them to move forward. It's critical that you provide a helpful answer about how the user should move forward.\n",
    "    '''\n",
    "    response = await client.beta.chat.completions.parse(\n",
    "        model=MODEL,\n",
    "        messages=[{\"role\": \"user\", \"content\": prompt}],\n",
    "        temperature=0.0,\n",
    "        max_tokens=1000,\n",
    "    )\n",
    "    if response.choices[0].message.content is None:\n",
    "        return \"No answer\"\n",
    "    return response.choices[0].message.content\n",
    "\n",
    "async def aggregate_to_a_final_answer(role: str, context: str, answers: list[str]) -> str:\n",
    "    prompt = f'''\n",
    "    Act as a {role}.\n",
    "    You are analysing the potential direction of a user, like a career coach. Your goal is to analyse the {context}.\n",
    "    Then to determine the right way for them to move forward. It's critical that you provide a helpful answer about how the user should move forward.\n",
    "    You have also received previous answers from {len(answers)} different agents.\n",
    "    Here are the answers:\n",
    "    {answers}\n",
    "    Your job is to aggregate the answers and provide a final answer.\n",
    "    '''\n",
    "    response = await client.beta.chat.completions.parse(\n",
    "        model=MODEL,\n",
    "        messages=[{\"role\": \"user\", \"content\": prompt}],\n",
    "        temperature=0.0,\n",
    "        max_tokens=1000,\n",
    "    )\n",
    "    if response.choices[0].message.content is None:\n",
    "        return \"No answer\"\n",
    "    return response.choices[0].message.content"
   ]
  },
  {
   "cell_type": "code",
   "execution_count": 8,
   "id": "7303d3cb",
   "metadata": {},
   "outputs": [
    {
     "name": "stdout",
     "output_type": "stream",
     "text": [
      "Based on the analysis of your two project ideas—an **AI Blog Posting Assistant (SaaS)** and a **Keyboard Shortcut Application (Desktop App)**—here’s a consolidated recommendation to help you move forward in your career transition:\n",
      "\n",
      "### Project Options Overview\n",
      "\n",
      "1. **AI Blog Posting Assistant (SaaS)**\n",
      "   - **Pros:**\n",
      "     - Leverages your existing AI and web development skills, particularly with Next.js.\n",
      "     - The SaaS model offers potential for recurring revenue and scalability.\n",
      "     - Growing demand for AI-driven content creation tools can lead to a larger user base.\n",
      "   - **Cons:**\n",
      "     - High competition in the market with established players.\n",
      "     - Requires ongoing maintenance, customer support, and marketing efforts.\n",
      "\n",
      "2. **Keyboard Shortcut Application (Desktop App)**\n",
      "   - **Pros:**\n",
      "     - Potentially simpler and quicker to develop, allowing for faster market entry.\n",
      "     - A niche market may have less competition, especially if you focus on unique features.\n",
      "     - You can utilize your Python experience for backend logic and explore frameworks like Electron or PyQt.\n",
      "   - **Cons:**\n",
      "     - Smaller user base compared to web applications, which may limit growth.\n",
      "     - Challenges in monetization and distribution.\n",
      "\n",
      "### Recommendations for Moving Forward\n",
      "\n",
      "1. **Evaluate Your Passion and Interest:**\n",
      "   - Reflect on which project excites you more. Your enthusiasm will be crucial for the long-term success of whichever project you choose.\n",
      "\n",
      "2. **Conduct Market Research:**\n",
      "   - Investigate both ideas to identify competitors, target audiences, and market gaps. Understanding the landscape will help you position your product effectively.\n",
      "\n",
      "3. **Prototype Development:**\n",
      "   - Start with a minimum viable product (MVP) for the AI Blog Posting Assistant, as it aligns closely with your skills and market trends. Alternatively, if you lean towards the keyboard shortcut application, create a simple version focusing on a unique feature.\n",
      "\n",
      "4. **Seek Feedback:**\n",
      "   - Share your prototypes with peers or potential users to gather insights. This feedback can help refine your concept and validate your approach.\n",
      "\n",
      "5. **Consider Long-Term Goals:**\n",
      "   - Think about where you want to be in the next few years. If you see yourself working more in AI and SaaS, the blog assistant may align better with your career aspirations. If you prefer exploring desktop applications, the keyboard shortcut app could be a rewarding challenge.\n",
      "\n",
      "6. **Plan for Growth and Scalability:**\n",
      "   - If you choose the SaaS route, consider how you will market your application and handle user growth. For the desktop app, think about how you will support users and manage updates.\n",
      "\n",
      "### Conclusion\n",
      "\n",
      "Both projects have their merits, but given your background in AI and web development, the **AI Blog Posting Assistant** appears to be the more promising direction. It allows you to leverage your existing skills and tap into a growing market. However, if you feel passionate about the keyboard shortcut application, don’t hesitate to explore that as well, as it could lead to interesting opportunities. Ultimately, choose the project that excites you the most, as your passion will drive your success. Good luck with your new venture!\n"
     ]
    }
   ],
   "source": [
    "async def main():\n",
    "    context = \"\"\"I'm looking to start a new project either building an AI blog posting assistant as a SaaS or building a keyboard shortcut application as a desktop app.\n",
    "    Here is my previous experience:\n",
    "    - I'm a software engineer with 5 years of experience\n",
    "    - I've built a few AI projects in the past\n",
    "    - I'm looking to start a new project either building an AI blog posting assistant as a SaaS or building a keyboard shortcut application as a desktop app.\n",
    "    - 4 years of NextJS experience, 2 years of Python experience, 1 year of AI experience\n",
    "    \"\"\"\n",
    "\n",
    "    # Create a list of tasks to run in parallel\n",
    "    answers = await asyncio.gather(\n",
    "        analyze_decision(\"software engineer\", context),\n",
    "        analyze_decision(\"software engineer\", context),\n",
    "        analyze_decision(\"software engineer\", context),\n",
    "    )\n",
    "    final_answer = await aggregate_to_a_final_answer(\"career coach\", \"the user is looking for a new job\", answers)\n",
    "    print(final_answer)\n",
    "\n",
    "asyncio.run(main())"
   ]
  }
 ],
 "metadata": {
  "kernelspec": {
   "display_name": "Python 3",
   "language": "python",
   "name": "python3"
  },
  "language_info": {
   "codemirror_mode": {
    "name": "ipython",
    "version": 3
   },
   "file_extension": ".py",
   "mimetype": "text/x-python",
   "name": "python",
   "nbconvert_exporter": "python",
   "pygments_lexer": "ipython3",
   "version": "3.9.11"
  }
 },
 "nbformat": 4,
 "nbformat_minor": 5
}
