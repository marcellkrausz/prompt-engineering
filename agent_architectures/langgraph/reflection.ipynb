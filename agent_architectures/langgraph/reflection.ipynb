{
 "cells": [
  {
   "cell_type": "markdown",
   "id": "dc620b50",
   "metadata": {},
   "source": [
    "# Reflection\n",
    "\n",
    "\n",
    "In the context of LLM agent building, reflection refers to the process of prompting an LLM to observe its past steps (along with potential observations from tools/the environment) to assess the quality of the chosen actions.\n",
    "This is then used downstream for things like re-planning, search, or evaluation."
   ]
  },
  {
   "cell_type": "markdown",
   "id": "bd3159a1",
   "metadata": {},
   "source": [
    "#### Prerequisites\n",
    "\n",
    "We will be using a basic agent with a search tool here."
   ]
  },
  {
   "cell_type": "code",
   "execution_count": null,
   "id": "067bbfd2",
   "metadata": {},
   "outputs": [],
   "source": [
    "%pip install -U --quiet langgraph langchain-openai\n",
    "%pip install -U --quiet tavily-python"
   ]
  },
  {
   "cell_type": "code",
   "execution_count": 2,
   "id": "b9559608",
   "metadata": {},
   "outputs": [],
   "source": [
    "import getpass\n",
    "import os\n",
    "from openai import OpenAI\n",
    "\n",
    "def _set_env(var: str):\n",
    "    if not os.environ.get(var):\n",
    "        os.environ[var] = getpass.getpass(f\"{var}: \")\n",
    "\n",
    "_set_env(\"OPENAI_API_KEY\")\n",
    "_set_env(\"TAVILY_API_KEY\")\n",
    "os.environ[\"LANGCHAIN_TRACING_V2\"] = \"true\"\n",
    "os.environ[\"LANGCHAIN_PROJECT\"] = \"Reflection\"\n"
   ]
  },
  {
   "cell_type": "markdown",
   "id": "d2f7335e",
   "metadata": {},
   "source": [
    "## Generate\n",
    "\n",
    "For our example, we will create a \"5 paragraph essay\" generator. First, create the generator:"
   ]
  },
  {
   "cell_type": "code",
   "execution_count": 3,
   "id": "4f20863a",
   "metadata": {},
   "outputs": [],
   "source": [
    "from langchain_core.messages import AIMessage, BaseMessage, HumanMessage\n",
    "from langchain_core.prompts import ChatPromptTemplate, MessagesPlaceholder\n",
    "from langchain_openai import ChatOpenAI\n",
    "\n",
    "prompt = ChatPromptTemplate.from_messages(\n",
    "    [\n",
    "        (\n",
    "            \"system\",\n",
    "            \"You are an essay assistant tasked with writing excellent 5-paragraph essays.\"\n",
    "            \" Generate the best essay possible for the user's request.\"\n",
    "            \" If the user provides critique, respond with a revised version of your previous attempts.\",\n",
    "        ),\n",
    "        MessagesPlaceholder(variable_name=\"messages\"),\n",
    "    ]\n",
    ")\n",
    "llm = ChatOpenAI()\n",
    "generate = prompt | llm"
   ]
  },
  {
   "cell_type": "code",
   "execution_count": 4,
   "id": "f540c9b2",
   "metadata": {},
   "outputs": [
    {
     "name": "stdout",
     "output_type": "stream",
     "text": [
      "In the timeless classic \"The Little Prince\" by Antoine de Saint-Exupéry, the whimsical tale of a young prince's journey through the universe offers profound lessons that are as relevant in modern childhood as they were when the book was first published in 1943. Here are some reasons why \"The Little Prince\" continues to resonate with children today.\n",
      "\n",
      "Firstly, the Little Prince's exploration of different planets and encounters with various characters highlight the importance of curiosity, imagination, and wonder in a child's life. In today's fast-paced world filled with technology and distractions, the book reminds us of the value of slowing down, observing the world around us, and seeking out the beauty in simple things. Children today can learn from the Little Prince's ability to see things with fresh eyes and appreciate the magic and mystery of life.\n",
      "\n",
      "Secondly, the book delves into profound themes such as love, friendship, loss, and the complexities of human relationships, which are universal and timeless. In an era where social media often dictates relationships and communication, the Little Prince's emphasis on genuine connections and emotional depth serves as a poignant reminder for children to prioritize empathy, compassion, and understanding in their interactions with others.\n",
      "\n",
      "Furthermore, the Little Prince's quest for knowledge and search for meaning in the universe resonates with the inquisitive nature of children who are constantly seeking to make sense of the world around them. The book encourages young readers to ask questions, explore their surroundings, and embrace the unknown with a sense of wonder and curiosity.\n",
      "\n",
      "Moreover, the Little Prince's encounters with adults who prioritize material possessions and lack imagination serve as a critique of a society that often values productivity over creativity. In an age where academic achievement and extracurricular activities are highly emphasized, the book encourages children to nurture their imagination, embrace their unique qualities, and prioritize their emotional well-being above external expectations.\n",
      "\n",
      "In conclusion, \"The Little Prince\" remains a relevant and cherished book in modern childhood for its enduring themes, profound insights, and timeless wisdom. Through the Little Prince's adventures and encounters, children learn valuable lessons about the beauty of simplicity, the power of love and friendship, and the importance of staying true to oneself in a world that can sometimes be overwhelming. As children continue to navigate the complexities of growing up in today's world, the Little Prince's gentle reminder to see with the heart and cherish the intangible aspects of life serves as a guiding light for young readers everywhere."
     ]
    }
   ],
   "source": [
    "essay = \"\"\n",
    "request = HumanMessage(\n",
    "    content=\"Write an essay on why the little prince is relevant in modern childhood\"\n",
    ")\n",
    "for chunk in generate.stream({\"messages\": [request]}):\n",
    "    print(chunk.content, end=\"\")\n",
    "    essay += chunk.content"
   ]
  },
  {
   "cell_type": "markdown",
   "id": "01172461",
   "metadata": {},
   "source": [
    "### Reflect"
   ]
  },
  {
   "cell_type": "code",
   "execution_count": 5,
   "id": "546f7d32",
   "metadata": {},
   "outputs": [],
   "source": [
    "reflection_prompt = ChatPromptTemplate.from_messages(\n",
    "    [\n",
    "        (\n",
    "            \"system\",\n",
    "            \"You are a teacher grading an essay submission. Generate critique and recommendations for the user's submission.\"\n",
    "            \" Provide detailed recommendations, including requests for length, depth, style, etc.\",\n",
    "        ),\n",
    "        MessagesPlaceholder(variable_name=\"messages\"),\n",
    "    ]\n",
    ")\n",
    "reflect = reflection_prompt | llm"
   ]
  },
  {
   "cell_type": "code",
   "execution_count": 6,
   "id": "7ef0b863",
   "metadata": {},
   "outputs": [
    {
     "name": "stdout",
     "output_type": "stream",
     "text": [
      "Your essay on why \"The Little Prince\" is relevant in modern childhood is well-argued and insightful. You have effectively highlighted the timeless themes and lessons found in the book that continue to resonate with children today. \n",
      "\n",
      "To enhance your essay, consider the following recommendations:\n",
      "\n",
      "1. **In-depth analysis**: Dig deeper into specific examples from the book that illustrate its relevance in modern childhood. Provide detailed explanations of how these instances connect with contemporary issues or challenges faced by children today. This will help strengthen your argument and provide a more robust foundation for your claims.\n",
      "\n",
      "2. **Childhood in the digital age**: Given the prevalence of technology and digital devices in modern childhood, consider exploring how the themes in \"The Little Prince\" offer a counterbalance to the digital world. Discuss how the book's emphasis on human connection, nature, and emotional depth can serve as a valuable antidote to the distractions and pressures of the digital age.\n",
      "\n",
      "3. **Engage with scholarly sources**: Incorporating scholarly articles, studies, or expert opinions on childhood development and literature can add depth and credibility to your argument. Consider referencing experts in the fields of child psychology, education, or literature to support your claims about the book's relevance in modern childhood.\n",
      "\n",
      "4. **Length and structure**: Expand on each point by providing more detailed explanations and examples to further illustrate your arguments. Consider breaking down your essay into paragraphs focusing on specific themes or aspects of the book to improve clarity and organization.\n",
      "\n",
      "5. **Language and style**: Aim for a more formal and academic tone in your writing to enhance the professionalism of your essay. Ensure that your language is clear, concise, and free of unnecessary repetition to maintain a smooth flow of ideas throughout your essay.\n",
      "\n",
      "By incorporating these recommendations, your essay will become more comprehensive, engaging, and persuasive in highlighting the enduring relevance of \"The Little Prince\" in shaping the experiences and perspectives of modern childhood. Great job overall!"
     ]
    }
   ],
   "source": [
    "reflection = \"\"\n",
    "for chunk in reflect.stream({\"messages\": [request, HumanMessage(content=essay)]}):\n",
    "    print(chunk.content, end=\"\")\n",
    "    reflection += chunk.content"
   ]
  },
  {
   "cell_type": "markdown",
   "id": "6f090932",
   "metadata": {},
   "source": [
    "### Repeat\n",
    "\n",
    "And... that's all there is too it! You can repeat in a loop for a fixed number of steps, or use an LLM (or other check) to decide when the finished product is good enough."
   ]
  },
  {
   "cell_type": "code",
   "execution_count": 7,
   "id": "f52b0ce7",
   "metadata": {},
   "outputs": [
    {
     "name": "stdout",
     "output_type": "stream",
     "text": [
      "In the timeless classic \"The Little Prince\" by Antoine de Saint-Exupéry, the whimsical tale of a young prince's journey through the universe offers profound lessons that are as relevant in modern childhood as they were when the book was first published in 1943. Here are some reasons why \"The Little Prince\" continues to resonate with children today.\n",
      "\n",
      "\"The Little Prince\" is relevant in modern childhood as it emphasizes the importance of curiosity, imagination, and wonder. In a world dominated by technology and instant gratification, children often find themselves disconnected from the magic of the world around them. The Little Prince's exploration of different planets and encounters with various characters remind children to slow down, observe the beauty in simple things, and approach life with a sense of wonder and curiosity.\n",
      "\n",
      "Additionally, the themes of love, friendship, loss, and human relationships in the book are universally relevant and particularly poignant in today's society. In an era where social media can distort perceptions of relationships and communication, the book serves as a valuable reminder for children to prioritize empathy, genuine connections, and emotional depth in their interactions with others.\n",
      "\n",
      "Moreover, \"The Little Prince\" encourages children to ask questions, seek knowledge, and find meaning in the universe. In a time when information is readily available at the touch of a button, the book inspires young readers to explore the unknown, embrace the mysteries of life, and approach the world with a sense of curiosity and openness.\n",
      "\n",
      "The Little Prince's encounters with adults who prioritize material possessions over imagination serve as a critique of a society that often values productivity over creativity. In an age where academic achievement and extracurricular activities are highly emphasized, the book urges children to nurture their imaginations, celebrate their uniqueness, and prioritize emotional well-being over external pressures and expectations.\n",
      "\n",
      "In conclusion, \"The Little Prince\" remains a relevant and cherished book in modern childhood for its enduring themes, profound insights, and timeless wisdom. By connecting children with the beauty of simplicity, the power of love and friendship, and the importance of staying true to oneself, the Little Prince continues to offer guidance and inspiration to young readers navigating the complexities of growing up in today's world."
     ]
    }
   ],
   "source": [
    "for chunk in generate.stream(\n",
    "    {\"messages\": [request, AIMessage(content=essay), HumanMessage(content=reflection)]}\n",
    "):\n",
    "    print(chunk.content, end=\"\")"
   ]
  },
  {
   "cell_type": "markdown",
   "id": "49f3af77",
   "metadata": {},
   "source": [
    "## Define graph"
   ]
  },
  {
   "cell_type": "code",
   "execution_count": 20,
   "id": "f37f0e00",
   "metadata": {},
   "outputs": [],
   "source": [
    "from typing import List, Sequence\n",
    "\n",
    "from langgraph.graph import END, MessageGraph\n",
    "\n",
    "\n",
    "async def generation_node(state: Sequence[BaseMessage]):\n",
    "    return await generate.ainvoke({\"messages\": state})\n",
    "\n",
    "\n",
    "async def reflection_node(messages: Sequence[BaseMessage]) -> List[BaseMessage]:\n",
    "    # Other messages we need to adjust\n",
    "    cls_map = {\"ai\": HumanMessage, \"human\": AIMessage}\n",
    "    # First message is the original user request. We hold it the same for all nodes\n",
    "    translated = [messages[0]] + [\n",
    "        cls_map[msg.type](content=msg.content) for msg in messages[1:]\n",
    "    ]\n",
    "    res = await reflect.ainvoke({\"messages\": translated})\n",
    "    # We treat the output of this as human feedback for the generator\n",
    "    return HumanMessage(content=res.content)\n",
    "\n",
    "\n",
    "builder = MessageGraph()\n",
    "builder.add_node(\"generate\", generation_node)\n",
    "builder.add_node(\"reflect\", reflection_node)\n",
    "builder.set_entry_point(\"generate\")\n",
    "\n",
    "\n",
    "def should_continue(state: List[BaseMessage]):\n",
    "    if len(state) >= 5: # 5 iterations of generation and reflection\n",
    "        return END\n",
    "    return \"reflect\"\n",
    "\n",
    "\n",
    "builder.add_conditional_edges(\"generate\", should_continue)\n",
    "builder.add_edge(\"reflect\", \"generate\")\n",
    "graph = builder.compile()"
   ]
  },
  {
   "cell_type": "code",
   "execution_count": 21,
   "id": "22a7426f",
   "metadata": {},
   "outputs": [
    {
     "name": "stdout",
     "output_type": "stream",
     "text": [
      "{'generate': AIMessage(content='\"The Little Prince,\" written by Antoine de Saint-Exupéry, remains a timeless classic that continues to resonate with readers worldwide due to its profound messages and relevance to modern life. The novella, first published in 1943, delves into essential themes such as love, friendship, human nature, and the importance of looking beyond the surface to discover true meaning and beauty in life. In the context of modern society, these messages are perhaps more pertinent than ever, as we grapple with issues of materialism, superficiality, and the loss of connection with what truly matters.\\n\\nOne of the central messages in \"The Little Prince\" is the idea of cherishing the intangible and ephemeral aspects of life over material possessions. In a consumer-driven world where value is often equated with material wealth, the little prince\\'s simple yet profound observations serve as a poignant reminder of what truly matters. Through his encounters with various characters on different planets, the little prince learns that the most essential things in life, such as love, friendship, and human connections, cannot be bought or possessed but must be nurtured and cherished.\\n\\nMoreover, the novella explores the complexities of human nature and relationships, highlighting the importance of empathy, understanding, and communication in fostering meaningful connections. In a world marked by increasing individualism and technological advancement, the little prince\\'s interactions with characters like the fox and the rose underscore the significance of emotional bonds and the need for authentic, heartfelt relationships. As modern society becomes more interconnected yet paradoxically more isolated, the message of cultivating genuine connections with others is a pertinent one that resonates deeply with readers.\\n\\nFurthermore, \"The Little Prince\" encourages readers to adopt a childlike sense of wonder and curiosity towards the world around them. Through the eyes of the little prince, we are reminded of the beauty and magic that surrounds us, often overlooked in the hustle and bustle of everyday life. In an age where cynicism and disillusionment abound, embracing the innocence and pure-heartedness of the little prince can inspire us to see the world with fresh eyes and rediscover its enchanting qualities.\\n\\nIn conclusion, \"The Little Prince\" endures as a timeless classic because of its enduring messages that transcend time and resonate with readers of all ages. In the modern world, where we are often consumed by materialism, superficiality, and disconnection, the novella\\'s themes of love, friendship, empathy, and wonder serve as a guiding light, reminding us of what truly matters in life. Through its charming narrative and profound wisdom, \"The Little Prince\" continues to inspire and provoke reflection, inviting readers to revisit its pages and rediscover its timeless relevance in our ever-changing world.', additional_kwargs={'refusal': None}, response_metadata={'token_usage': {'completion_tokens': 542, 'prompt_tokens': 70, 'total_tokens': 612, 'completion_tokens_details': {'accepted_prediction_tokens': 0, 'audio_tokens': 0, 'reasoning_tokens': 0, 'rejected_prediction_tokens': 0}, 'prompt_tokens_details': {'audio_tokens': 0, 'cached_tokens': 0}}, 'model_name': 'gpt-3.5-turbo-0125', 'system_fingerprint': None, 'id': 'chatcmpl-BOpDEViCRuqOvvc4piP60uABz4LQb', 'finish_reason': 'stop', 'logprobs': None}, id='run-3a4a1fe0-bd89-43a1-813a-b1a818a1bd54-0', usage_metadata={'input_tokens': 70, 'output_tokens': 542, 'total_tokens': 612, 'input_token_details': {'audio': 0, 'cache_read': 0}, 'output_token_details': {'audio': 0, 'reasoning': 0}})}\n",
      "---\n",
      "{'reflect': HumanMessage(content='Your essay on the topicality of \"The Little Prince\" and its message in modern life is thoughtful and well-structured. You effectively touch upon the essential themes of the novella and connect them to the current context of societal challenges. Here are some recommendations to enhance your essay:\\n\\n1. Provide more specific examples: While you discuss the central messages of the book, such as cherishing intangible aspects of life and fostering meaningful connections, consider incorporating specific examples from the novella to illustrate these concepts. By quoting passages or recounting scenes that highlight these themes, you can strengthen your argument and offer a deeper analysis of their significance.\\n\\n2. Explore the relevance of the novella\\'s messages in contemporary issues: To further demonstrate the relevance of \"The Little Prince\" in modern life, consider connecting its messages to specific contemporary issues or trends. For example, you could discuss how the novella\\'s emphasis on empathy and understanding relates to the challenges of social polarization or how its exploration of materialism resonates with consumer culture in today\\'s society.\\n\\n3. Expand on the impact of technology and social media: Given the prevalent role of technology and social media in modern life, you might explore how these aspects influence human relationships and communication patterns. Consider delving into how the themes of authenticity and emotional connection in \"The Little Prince\" contrast with the superficiality often found in online interactions.\\n\\n4. Consider a deeper analysis of the characters: While you mention the interactions of the little prince with characters like the fox and the rose, you could delve deeper into these relationships and their symbolic significance. Analyzing the dynamics between the characters and their implications for understanding human nature and emotional bonds can enrich your discussion.\\n\\n5. Reflect on personal or societal implications: To add a personal touch to your essay, consider reflecting on how the messages of \"The Little Prince\" have impacted you or society at large. You might share personal anecdotes or observations that illustrate how the novella\\'s themes resonate with your own experiences or observations of contemporary life.\\n\\nLengthening your essay to include around 800-1000 words would enable you to delve deeper into the themes and offer a more comprehensive analysis of the novella\\'s relevance in modern life. By incorporating these recommendations and expanding on your insights, you can further enhance the depth and impact of your essay on \"The Little Prince.\"', additional_kwargs={}, response_metadata={}, id='01eaed93-4810-4052-bba5-618b4f4bf315')}\n",
      "---\n",
      "{'generate': AIMessage(content='\"The Little Prince,\" authored by Antoine de Saint-Exupéry, remains a timeless classic that continues to connect with readers across generations because of its profound messages echoing the essence of life and relationships. This essay delves into the enduring relevance of \"The Little Prince\" in modern society, exploring its themes of cherishing intangible aspects of life, fostering genuine connections, and maintaining a childlike wonder in the face of worldly complexities. Through a deeper analysis and incorporation of specific examples, the essay aims to illustrate how the novella\\'s messages resonate with contemporary challenges and societal dynamics.\\n\\nCentral to \"The Little Prince\" is the idea of valuing the intangible and transient aspects of life above material possessions. The little prince\\'s interactions with characters like the merchant and the king on different planets serve as poignant reminders of the emptiness of material accumulation without emotional depth. For instance, the vain rose symbolizes the importance of nurturing and appreciating relationships, transcending mere physical beauty. By reflecting on these relationships, readers are encouraged to reevaluate their priorities and consider the true sources of fulfillment and contentment in a world dominated by consumerism and superficiality.\\n\\nIn today\\'s world, marked by rapid technological advancements and growing social disconnect, the themes of empathy, understanding, and genuine connections explored in \"The Little Prince\" hold particular relevance. The novella\\'s emphasis on emotional bonds and authentic relationships stands in stark contrast to the fleeting and often shallow interactions prevalent in the digital age. As individuals navigate social media platforms and virtual spaces, the importance of meaningful human connections highlighted by the little prince\\'s encounters underscores the enduring significance of emotional depth and sincerity in fostering genuine relationships.\\n\\nFurthermore, \"The Little Prince\" invites readers to rediscover a childlike sense of wonder and curiosity towards the world, encouraging a shift from jaded cynicism to embracing life\\'s enchanting qualities. In a society overwhelmed by information overload and societal pressures, the little prince\\'s quest for understanding and his ability to see beyond the surface provide a compelling narrative to inspire readers to look at the world with fresh eyes. By embracing the innocence and purity of the little prince\\'s perspective, individuals can reignite their appreciation for the beauty and magic present in everyday experiences, fostering a mindset of gratitude and wonder amidst life\\'s uncertainties.\\n\\nBy exploring the nuanced dynamics between the characters in \"The Little Prince,\" such as the transformative relationship between the little prince and the fox and the poignant bond with the elusive rose, readers are prompted to reflect on the complexities of human nature and the significance of emotional connections. The fox\\'s timeless wisdom on taming and the essence of relationships serves as a poignant metaphor for the nurturing of bonds based on trust and mutual understanding, transcending mere appearances. These character interactions deepen the novella\\'s message on the importance of empathy, sincerity, and vulnerability in forging meaningful connections that endure beyond superficial encounters.\\n\\nIn conclusion, \"The Little Prince\" continues to resonate with readers as a profound exploration of life\\'s essential truths and enduring values. Through its timeless messages of cherishing the intangible, fostering authentic connections, and embracing a childlike wonder, the novella offers a poignant reflection on contemporary challenges and societal dilemmas. By revisiting the magic and wisdom of \"The Little Prince,\" readers are encouraged to reevaluate their priorities, nurture meaningful relationships, and approach life with a renewed sense of curiosity and empathy. In a fast-paced world plagued by materialism, superficiality, and digital distractions, the novella\\'s enduring relevance serves as a guiding light, inviting individuals to rediscover the beauty and depth of human connections and the profound richness of life\\'s simple pleasures.', additional_kwargs={'refusal': None}, response_metadata={'token_usage': {'completion_tokens': 724, 'prompt_tokens': 1084, 'total_tokens': 1808, 'completion_tokens_details': {'accepted_prediction_tokens': 0, 'audio_tokens': 0, 'reasoning_tokens': 0, 'rejected_prediction_tokens': 0}, 'prompt_tokens_details': {'audio_tokens': 0, 'cached_tokens': 0}}, 'model_name': 'gpt-3.5-turbo-0125', 'system_fingerprint': None, 'id': 'chatcmpl-BOpDQ3Jf9JLan14d0gFZy9pILNQ5E', 'finish_reason': 'stop', 'logprobs': None}, id='run-8991187b-e0b7-4c9e-ab7f-a54af982c273-0', usage_metadata={'input_tokens': 1084, 'output_tokens': 724, 'total_tokens': 1808, 'input_token_details': {'audio': 0, 'cache_read': 0}, 'output_token_details': {'audio': 0, 'reasoning': 0}})}\n",
      "---\n",
      "{'reflect': HumanMessage(content='Your essay on the enduring relevance of \"The Little Prince\" in modern society is well-crafted and insightful. You successfully delve into the novel\\'s central themes and draw compelling parallels to contemporary challenges and societal dynamics. Here are some additional suggestions to further enhance your essay:\\n\\n1. Provide specific examples and quotations: While you touch upon the interactions between the little prince and various characters, consider incorporating specific examples and quotations from the novella to highlight the themes you discuss. By referencing particular scenes or dialogues, you can offer concrete evidence to support your analysis and provide a deeper exploration of the novella\\'s messages.\\n\\n2. Connect themes to real-world examples: To strengthen the relevance of \"The Little Prince\" in modern life, consider integrating real-world examples or current events that illustrate how the themes of the novella manifest in contemporary society. You could discuss instances of materialism, shallow relationships, or societal disconnect and explain how the lessons from the little prince\\'s journey resonate with these realities.\\n\\n3. Delve deeper into the character relationships: Expand your analysis of the character relationships in \"The Little Prince\" to offer a more nuanced exploration of human connections and emotional depth. Consider elaborating on the symbolism of characters like the fox and the rose and how their interactions with the little prince convey broader themes of love, trust, and vulnerability.\\n\\n4. Consider exploring counterarguments or critiques: To add complexity to your essay, you might consider acknowledging potential counterarguments or critiques of the novella\\'s messages in the context of modern society. By addressing differing perspectives or interpretations, you can demonstrate a more thorough understanding of the novella\\'s impact and provoke thoughtful reflection among readers.\\n\\n5. Reflect on personal insights or experiences: Infuse your essay with personal reflections or experiences that resonate with the themes of \"The Little Prince.\" By sharing your own interpretations or connections to the novella\\'s messages, you can add a personal touch that engages readers and deepens their understanding of the text\\'s significance in today\\'s world.\\n\\nExpanding on the themes and ideas presented in your essay, while incorporating the above recommendations, will help to enrich your analysis and offer a more comprehensive exploration of the enduring relevance of \"The Little Prince\" in modern life. Striving for around 800-1000 words in length would allow for a more in-depth discussion and further development of your insights. By integrating these suggestions, you can enhance the depth and impact of your essay on the profound and timeless messages of \"The Little Prince.\"', additional_kwargs={}, response_metadata={}, id='b4c2c96b-4763-4b44-8916-859ec3b20cc8')}\n",
      "---\n",
      "{'generate': AIMessage(content='\"The Little Prince\" by Antoine de Saint-Exupéry continues to captivate readers with its timeless wisdom and poignant themes that resonate deeply in modern society. This essay further explores the enduring relevance of the novella\\'s messages by delving into specific examples, connecting themes to real-world contexts, analyzing character relationships, considering counterarguments, and reflecting on personal insights.\\n\\nCentral to \"The Little Prince\" are the themes of cherishing the intangible aspects of life and valuing genuine connections over material possessions. Through his encounters with characters like the king and the conceited man, the little prince learns the emptiness of worldly pursuits and the importance of nurturing meaningful relationships. For instance, the little prince\\'s bond with the fox encapsulates the essence of taming and the depth of emotional connections that go beyond superficial encounters. Quoting the fox\\'s wisdom on taming, \"You become responsible, forever, for what you have tamed,\" underscores the novella\\'s message on the transformative power of love and emotional investment in fostering enduring connections.\\n\\nIn the context of modern society, characterized by rampant materialism and superficial interactions, the novella\\'s emphasis on empathy, understanding, and authentic relationships holds particular relevance. Instances of consumer culture, social media superficiality, and societal disconnect provide real-world parallels to the little prince\\'s encounters on his interplanetary journey. By drawing connections to prevalent issues such as social polarization, the erosion of genuine human connections, and the devaluation of emotional depth, the essay demonstrates how the novella\\'s messages serve as a poignant commentary on contemporary challenges and societal dynamics.\\n\\nA deeper analysis of character relationships in \"The Little Prince\" enriches the understanding of human connections and emotional complexity portrayed in the novella. The nuanced dynamics between the little prince and characters like the rose and the geographer symbolize themes of love, vulnerability, and authenticity. Delving into the multifaceted nature of these relationships deepens the exploration of the novella\\'s central messages and underscores the significance of emotional depth in fostering meaningful connections that transcend superficiality and transience.\\n\\nAcknowledging potential counterarguments or critiques of \"The Little Prince\" offers a more comprehensive perspective on the novella\\'s impact in modern society. By addressing differing interpretations or challenges to its messages, the essay invites readers to engage critically with the text and consider the complexities of applying its lessons to contemporary realities. Exploring how individuals may resist or struggle with the novella\\'s ideals of love, connection, and wonder adds depth to the analysis and encourages a thoughtful reflection on the nuances of its themes.\\n\\nPersonal reflections on how \"The Little Prince\" resonates with individual experiences and insights can provide a compelling narrative that engages readers and enhances the essay\\'s emotional depth. Sharing anecdotes or observations that align with the themes of the novella allows for a more intimate exploration of its relevance in personal lives and societal contexts. By intertwining personal reflections with broader analyses, the essay bridges the gap between theoretical concepts and lived experiences, fostering a deeper connection with readers and inviting them to introspect on the profound messages of \"The Little Prince.\"\\n\\nIn conclusion, \"The Little Prince\" endures as a timeless masterpiece that continues to inspire readers with its profound wisdom and universal truths. By examining specific examples, connecting themes to real-world contexts, analyzing character relationships, considering counterarguments, and reflecting on personal insights, this essay offers a nuanced exploration of the novella\\'s enduring relevance in modern life. Through its timeless messages of cherishing the intangible, fostering authentic connections, and embracing a childlike wonder, \"The Little Prince\" serves as a guiding beacon in a world confronted with materialism, superficiality, and societal disconnect, reminding readers of the profound richness found in love, empathy, and genuine human connections.', additional_kwargs={'refusal': None}, response_metadata={'token_usage': {'completion_tokens': 750, 'prompt_tokens': 2310, 'total_tokens': 3060, 'completion_tokens_details': {'accepted_prediction_tokens': 0, 'audio_tokens': 0, 'reasoning_tokens': 0, 'rejected_prediction_tokens': 0}, 'prompt_tokens_details': {'audio_tokens': 0, 'cached_tokens': 0}}, 'model_name': 'gpt-3.5-turbo-0125', 'system_fingerprint': None, 'id': 'chatcmpl-BOpDbfsINpjRNPKcO8raM0fRaxfhW', 'finish_reason': 'stop', 'logprobs': None}, id='run-803f4412-a271-417b-a63a-aadc41e42c04-0', usage_metadata={'input_tokens': 2310, 'output_tokens': 750, 'total_tokens': 3060, 'input_token_details': {'audio': 0, 'cache_read': 0}, 'output_token_details': {'audio': 0, 'reasoning': 0}})}\n",
      "---\n"
     ]
    }
   ],
   "source": [
    "async for event in graph.astream(\n",
    "    [\n",
    "        HumanMessage(\n",
    "            content=\"Generate an essay on the topicality of The Little Prince and its message in modern life\"\n",
    "        )\n",
    "    ],\n",
    "):\n",
    "    print(event)\n",
    "    print(\"---\")"
   ]
  }
 ],
 "metadata": {
  "kernelspec": {
   "display_name": "Python 3",
   "language": "python",
   "name": "python3"
  },
  "language_info": {
   "codemirror_mode": {
    "name": "ipython",
    "version": 3
   },
   "file_extension": ".py",
   "mimetype": "text/x-python",
   "name": "python",
   "nbconvert_exporter": "python",
   "pygments_lexer": "ipython3",
   "version": "3.9.11"
  }
 },
 "nbformat": 4,
 "nbformat_minor": 5
}
