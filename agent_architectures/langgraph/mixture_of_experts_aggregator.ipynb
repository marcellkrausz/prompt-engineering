{
 "cells": [
  {
   "cell_type": "markdown",
   "id": "8e5be702",
   "metadata": {},
   "source": [
    "# Mixture-of-Agents in 46 lines of code"
   ]
  },
  {
   "cell_type": "markdown",
   "id": "7acc87ae",
   "metadata": {},
   "source": [
    "![moa-explained](../resources/moa-explained.jpg)"
   ]
  },
  {
   "cell_type": "code",
   "execution_count": null,
   "id": "e30cd7da",
   "metadata": {},
   "outputs": [],
   "source": [
    "%pip install langchain-openai langchain-anthropic langchain-google-genai langchain getpass nest_asyncio"
   ]
  },
  {
   "cell_type": "code",
   "execution_count": 1,
   "id": "bfbaca73",
   "metadata": {},
   "outputs": [],
   "source": [
    "import asyncio\n",
    "from langchain_openai.chat_models import ChatOpenAI\n",
    "from langchain_google_genai import ChatGoogleGenerativeAI\n",
    "from langchain_anthropic import ChatAnthropic\n",
    "from langchain_core.messages import HumanMessage, SystemMessage"
   ]
  },
  {
   "cell_type": "code",
   "execution_count": null,
   "id": "5fcbb500",
   "metadata": {},
   "outputs": [],
   "source": [
    "import getpass\n",
    "import os\n",
    "\n",
    "def _set_env(var: str):\n",
    "    if not os.environ.get(var):\n",
    "        os.environ[var] = getpass.getpass(f\"{var}: \")\n",
    "\n",
    "_set_env(\"OPENAI_API_KEY\")\n",
    "_set_env(\"ANTHROPIC_API_KEY\")"
   ]
  },
  {
   "cell_type": "code",
   "execution_count": 6,
   "id": "ea7036b3",
   "metadata": {},
   "outputs": [],
   "source": [
    "user_prompt = \"What are 3 fun things to do in SF?\"\n",
    "reference_models = [\n",
    "    ChatOpenAI(model='gpt-4o-mini'),\n",
    "    ChatAnthropic(model=\"claude-3-5-sonnet-20240620\"),\n",
    "    ChatGoogleGenerativeAI(model=\"gemini-2.0-flash\", api_key=os.environ[\"GEMINI_API_KEY\"])\n",
    "]\n",
    "aggregator_model = ChatOpenAI(model='gpt-4o-mini')\n",
    "aggreagator_system_prompt = \"\"\"You have been provided with a set of responses from various open-source models to the latest user query. Your task is to synthesize these responses into a single, high-quality response. It is crucial to critically evaluate the information provided in these responses, recognizing that some of it may be biased or incorrect. Your response should not simply replicate the given answers but should offer a refined, accurate, and comprehensive reply to the instruction. Ensure your response is well-structured, coherent, and adheres to the highest standards of accuracy and reliability.\n",
    "\n",
    "Responses from models:\"\"\"\n",
    "\n",
    "async def run_llm(model):\n",
    "    \"\"\"Run a single LLM call with a reference model.\"\"\"\n",
    "    for sleep_time in [1, 2, 4]:\n",
    "        try:\n",
    "            response = await model.ainvoke([HumanMessage(content=user_prompt)])\n",
    "            return response.content\n",
    "        except Exception as e:\n",
    "            print(f\"Error with {model.__class__.__name__}: {e}\")\n",
    "            await asyncio.sleep(sleep_time)\n",
    "    return \"Failed to get response\""
   ]
  },
  {
   "cell_type": "code",
   "execution_count": 8,
   "id": "0476c450",
   "metadata": {},
   "outputs": [
    {
     "name": "stdout",
     "output_type": "stream",
     "text": [
      "San Francisco is a vibrant city with a wide array of activities and attractions. Here are three fun things to do while visiting:\n",
      "\n",
      "1. **Explore Golden Gate Park**: This expansive urban park is home to numerous attractions that cater to various interests. You can visit the serene Japanese Tea Garden, explore the California Academy of Sciences, which includes a natural history museum, an aquarium, and a planetarium, or simply enjoy a leisurely bike ride or paddle boat rental on Stow Lake. The park's beautiful landscapes make it an ideal spot for relaxation and outdoor activities.\n",
      "\n",
      "2. **Visit Alcatraz Island**: A trip to San Francisco is incomplete without visiting the historic Alcatraz Island. Take a ferry from the Ferry Building or Fisherman's Wharf to explore the former prison. The audio tour features compelling narratives from former inmates and guards, providing a fascinating glimpse into the island's history. Be sure to book your tickets in advance, as they tend to sell out quickly, especially during peak tourist seasons.\n",
      "\n",
      "3. **Wander Around Fisherman's Wharf and Pier 39**: This lively waterfront area is perfect for a quintessential San Francisco experience. At Fisherman's Wharf, you can indulge in fresh seafood (don't miss the clam chowder in a sourdough bread bowl), enjoy street performances, and watch the playful sea lions at Pier 39. The area also features various shops, attractions, and access to boat tours around the bay, making it an exciting place to explore.\n",
      "\n",
      "These activities showcase the unique culture, history, and natural beauty that San Francisco has to offer, ensuring a memorable visit.\n"
     ]
    }
   ],
   "source": [
    "import nest_asyncio\n",
    "nest_asyncio.apply()\n",
    "\n",
    "async def main():\n",
    "    results = await asyncio.gather(*[run_llm(model) for model in reference_models])\n",
    "\n",
    "    final_response = await aggregator_model.ainvoke(\n",
    "        [\n",
    "            SystemMessage(\n",
    "                content=aggreagator_system_prompt\n",
    "                + \"\\n\"\n",
    "                + \"\\n\".join(\n",
    "                    [f\"{i+1}. {str(element)}\" for i, element in enumerate(results)]\n",
    "                )\n",
    "            ),\n",
    "            HumanMessage(content=user_prompt),\n",
    "        ]\n",
    "    )\n",
    "\n",
    "    print(final_response.content)\n",
    "\n",
    "await main()"
   ]
  }
 ],
 "metadata": {
  "kernelspec": {
   "display_name": "Python 3",
   "language": "python",
   "name": "python3"
  },
  "language_info": {
   "codemirror_mode": {
    "name": "ipython",
    "version": 3
   },
   "file_extension": ".py",
   "mimetype": "text/x-python",
   "name": "python",
   "nbconvert_exporter": "python",
   "pygments_lexer": "ipython3",
   "version": "3.9.11"
  }
 },
 "nbformat": 4,
 "nbformat_minor": 5
}
