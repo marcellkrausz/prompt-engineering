{
 "cells": [
  {
   "cell_type": "markdown",
   "id": "97fd203a",
   "metadata": {},
   "source": [
    "## **Agents**\n",
    "\n",
    "An agent-based workflow where LLMs act autonomously within a loop, interacting with their environment and receiving feedback to refine their actions and decisions.\n",
    "\n",
    "![autonomous-agent](resources/autonomous-agent.jpg)"
   ]
  },
  {
   "cell_type": "markdown",
   "id": "5c95d438",
   "metadata": {},
   "source": [
    "## **Use Cases:**\n",
    "\n",
    "- Building a personal research assistant that autonomously searches academic papers, extracts key findings, and generates literature review summaries based on specific research questions.\n",
    "- Creating an autonomous code reviewer that analyzes pull requests, identifies potential bugs and security issues, suggests improvements, and generates detailed review comments.\n",
    "- Developing a customer support agent that handles inquiries by searching knowledge bases, generating appropriate responses, and escalating complex issues to human agents when needed.\n",
    "- Managing social media presence by analyzing trending topics, generating relevant content, scheduling posts, and engaging with followers through personalized responses.\n",
    "- Building an autonomous testing agent that generates test cases, executes tests, analyzes failures, and provides detailed bug reports with suggested fixes.\n",
    "- Creating a data monitoring agent that continuously analyzes system metrics, detects anomalies, investigates root causes, and generates incident reports with recommended actions."
   ]
  },
  {
   "cell_type": "code",
   "execution_count": null,
   "id": "51196560",
   "metadata": {},
   "outputs": [],
   "source": [
    "%pip install openai pydantic --upgrade"
   ]
  },
  {
   "cell_type": "code",
   "execution_count": 3,
   "id": "6757ee7f",
   "metadata": {},
   "outputs": [],
   "source": [
    "import getpass\n",
    "import os\n",
    "import json\n",
    "from openai import OpenAI\n",
    "\n",
    "def _set_env(var: str):\n",
    "    if not os.environ.get(var):\n",
    "        os.environ[var] = getpass.getpass(f\"{var}: \")\n",
    "\n",
    "_set_env(\"OPENAI_API_KEY\")"
   ]
  },
  {
   "cell_type": "code",
   "execution_count": 4,
   "id": "b385c7bb",
   "metadata": {},
   "outputs": [],
   "source": [
    "client = OpenAI()\n",
    "MODEL = \"gpt-4o-mini\""
   ]
  },
  {
   "cell_type": "code",
   "execution_count": 5,
   "id": "2aefcd04",
   "metadata": {},
   "outputs": [],
   "source": [
    "# Here we define a sample function the agent can call.\n",
    "# In practice, you might connect to real APIs or services for your agent's tasks.\n",
    "def search_knowledge_base(query: str) -> str:\n",
    "    \"\"\"\n",
    "    Pretend to look for information about the provided query in a knowledge base.\n",
    "    Returns a brief summary as a string.\n",
    "    \"\"\"\n",
    "    # For demonstration, we'll return a placeholder string.\n",
    "    # In a real scenario, you'd perform a search and generate a proper result.\n",
    "    return f\"Summary for '{query}': This is a simulated summary from the knowledge base.\"\n",
    "\n",
    "def generate_keywords(query: str) -> str:\n",
    "    \"\"\"\n",
    "    Pretend to generate keywords for the provided query.\n",
    "    Returns a comma-separated string of keywords.\n",
    "    \"\"\"\n",
    "    return f\" The keywords for the '{query}': This has a list of 3 keywords from the knowledge base.\"\n",
    "\n",
    "# Next, we define our function schema to provide to the model.\n",
    "tools = [{\n",
    "    \"type\": \"function\",\n",
    "    \"function\": {\n",
    "        \"name\": \"search_knowledge_base\",\n",
    "        \"description\": \"Query a knowledge base to retrieve relevant info on a topic.\",\n",
    "        \"parameters\": {\n",
    "            \"type\": \"object\",\n",
    "            \"properties\": {\n",
    "                \"query\": {\n",
    "                    \"type\": \"string\",\n",
    "                    \"description\": \"The user question or search query.\"\n",
    "                },\n",
    "            },\n",
    "            \"required\": [\n",
    "                \"query\",\n",
    "            ],\n",
    "            \"additionalProperties\": False\n",
    "        },\n",
    "        \"strict\": True\n",
    "    }\n",
    "},{\n",
    "    \"type\": \"function\",\n",
    "    \"function\": {\n",
    "        \"name\": \"generate_keywords\",\n",
    "        \"description\": \"Query a knowledge base to retrieve relevant keywords about a topic.\",\n",
    "        \"parameters\": {\n",
    "            \"type\": \"object\",\n",
    "            \"properties\": {\n",
    "                \"query\": {\n",
    "                    \"type\": \"string\",\n",
    "                    \"description\": \"The user question or search query.\"\n",
    "                },\n",
    "            },\n",
    "            \"required\": [\n",
    "                \"query\",\n",
    "            ],\n",
    "            \"additionalProperties\": False\n",
    "        },\n",
    "        \"strict\": True\n",
    "    }\n",
    "  }\n",
    "]\n",
    "\n",
    "# We simulate a user asking the agent a question that might prompt the model to call the function.\n",
    "messages = [\n",
    "    {\n",
    "        \"role\": \"user\",\n",
    "        \"content\": \"Hello, I'd like to know more about quantum computing.\"\n",
    "    }\n",
    "]\n",
    "\n",
    "# Step 1: We call the model, providing the function tools. The model may decide to call the tool.\n",
    "completion_1 = client.chat.completions.create(\n",
    "    model=MODEL,\n",
    "    messages=messages,\n",
    "    tools=tools\n",
    ")"
   ]
  },
  {
   "cell_type": "code",
   "execution_count": 6,
   "id": "0c279f20",
   "metadata": {},
   "outputs": [
    {
     "name": "stdout",
     "output_type": "stream",
     "text": [
      "Calling function -  search_knowledge_base\n",
      "Calling function -  generate_keywords\n"
     ]
    }
   ],
   "source": [
    "# Step 2: The model might return a tool call. We'll check for any function calls and execute them.\n",
    "tool_calls = completion_1.choices[0].message.tool_calls\n",
    "\n",
    "results = []\n",
    "if tool_calls:\n",
    "    for call in tool_calls:\n",
    "        function_name = call.function.name\n",
    "        # Parse the JSON arguments:\n",
    "        function_args = json.loads(call.function.arguments)\n",
    "\n",
    "        if function_name == \"search_knowledge_base\":\n",
    "            print('Calling function - ', function_name)\n",
    "            search_result = search_knowledge_base(**function_args)\n",
    "            # We'll store the result and associate it with this tool_call\n",
    "            results.append(\n",
    "                {\n",
    "                    \"tool_call_id\": call.id,\n",
    "                    \"content\": search_result\n",
    "                }\n",
    "            )\n",
    "        if function_name ==  \"generate_keywords\":\n",
    "            print('Calling function - ', function_name)\n",
    "            keyword_result = generate_keywords(**function_args)\n",
    "            # We'll store the result and associate it with this tool_call\n",
    "            results.append(\n",
    "                {\n",
    "                    \"tool_call_id\": call.id,\n",
    "                    \"content\": keyword_result\n",
    "                }\n",
    "            )"
   ]
  },
  {
   "cell_type": "code",
   "execution_count": 7,
   "id": "ab61852c",
   "metadata": {},
   "outputs": [
    {
     "data": {
      "text/plain": [
       "ChatCompletionMessage(content=None, refusal=None, role='assistant', annotations=[], audio=None, function_call=None, tool_calls=[ChatCompletionMessageToolCall(id='call_NzUPMkBi6njSfiYPugkQhM85', function=Function(arguments='{\"query\": \"quantum computing overview\"}', name='search_knowledge_base'), type='function'), ChatCompletionMessageToolCall(id='call_nyf38wJMSUGVUF5TVmjrjVDM', function=Function(arguments='{\"query\": \"quantum computing\"}', name='generate_keywords'), type='function')])"
      ]
     },
     "execution_count": 7,
     "metadata": {},
     "output_type": "execute_result"
    }
   ],
   "source": [
    "completion_1.choices[0].message"
   ]
  },
  {
   "cell_type": "code",
   "execution_count": 8,
   "id": "505db48d",
   "metadata": {},
   "outputs": [],
   "source": [
    "# Step 3: We send the results back to the model so it can incorporate them into its final answer.\n",
    "# We'll add both the original function call message and the tool's reply to our conversation.\n",
    "\n",
    "if tool_calls and results:\n",
    "    # Append the tool call message from the model\n",
    "    messages.append(completion_1.choices[0].message)\n",
    "    # Append our result(s) as 'tool' role messages\n",
    "    for r in results:\n",
    "        messages.append({\n",
    "            \"role\": \"tool\",\n",
    "            \"tool_call_id\": r[\"tool_call_id\"],\n",
    "            \"content\": r[\"content\"]\n",
    "        })"
   ]
  },
  {
   "cell_type": "code",
   "execution_count": 9,
   "id": "2f275973",
   "metadata": {},
   "outputs": [
    {
     "name": "stdout",
     "output_type": "stream",
     "text": [
      "Final Answer from Agent:\n",
      "### Overview of Quantum Computing\n",
      "Quantum computing is a revolutionary field that leverages the principles of quantum mechanics to process information. Unlike classical computers, which use bits as the smallest unit of data (0s and 1s), quantum computers use quantum bits or qubits. Qubits can exist in multiple states simultaneously, allowing quantum computers to perform complex calculations at unprecedented speeds. This unique property enables them to solve certain problems, such as factoring large numbers and simulating quantum systems, much faster than classical computers.\n",
      "\n",
      "### Keywords Related to Quantum Computing\n",
      "1. Qubits\n",
      "2. Quantum Mechanics\n",
      "3. Superposition\n",
      "\n",
      "If you have specific aspects of quantum computing you'd like to learn more about, feel free to ask!\n"
     ]
    }
   ],
   "source": [
    "# Step 4: Make another call to the model, now that it has the tool's output.\n",
    "completion_2 = client.chat.completions.create(\n",
    "    model=MODEL,\n",
    "    messages=messages,\n",
    "    tools=tools\n",
    ")\n",
    "\n",
    "# Finally, we print out the model's final answer. This is how the user sees it.\n",
    "final_answer = completion_2.choices[0].message.content\n",
    "print(\"Final Answer from Agent:\")\n",
    "print(final_answer)"
   ]
  },
  {
   "cell_type": "markdown",
   "id": "ced380ed",
   "metadata": {},
   "source": [
    "## An Alternative Approach\n",
    "\n",
    "If an agent has finished all of it's tool calls, then it has likely finished with the task.\n",
    "\n",
    "Therefore we could also write the above code within a while loop that checks if the agent has finished all of it's tool calls. If it has, then we can break the loop."
   ]
  },
  {
   "cell_type": "code",
   "execution_count": 17,
   "id": "889cc816",
   "metadata": {},
   "outputs": [],
   "source": [
    "def search_knowledge_base(query: str) -> str:\n",
    "    \"\"\"\n",
    "    Pretend to look for information about the provided query in a knowledge base.\n",
    "    \"\"\"\n",
    "    return f\"ChatGPT is a large language model developed by OpenAI.\""
   ]
  },
  {
   "cell_type": "code",
   "execution_count": 18,
   "id": "52bc7f64",
   "metadata": {},
   "outputs": [
    {
     "name": "stdout",
     "output_type": "stream",
     "text": [
      "Calling function -  search_knowledge_base\n"
     ]
    }
   ],
   "source": [
    "messages = []\n",
    "messages.append({\"role\": \"user\", \"content\": \"Can you find information about ChatGPT in the AI knowledge base?\"})\n",
    "\n",
    "while True:\n",
    "    completion = client.chat.completions.create(\n",
    "        model=MODEL,\n",
    "        messages=messages,\n",
    "        tools=tools\n",
    "    )\n",
    "    tool_calls = completion.choices[0].message.tool_calls\n",
    "    if not tool_calls:\n",
    "        break\n",
    "    else: \n",
    "        for call in tool_calls:\n",
    "            # Add the tool call to the messages\n",
    "            messages.append(completion.choices[0].message)\n",
    "            \n",
    "            # Parse the JSON arguments:\n",
    "            function_name = call.function.name\n",
    "            function_args = json.loads(call.function.arguments)\n",
    "            if function_name == \"search_knowledge_base\":\n",
    "                print('Calling function - ', function_name)\n",
    "                search_result = search_knowledge_base(**function_args)\n",
    "                messages.append({\n",
    "                    \"role\": \"tool\",\n",
    "                    \"tool_call_id\": call.id,\n",
    "                    \"content\": search_result\n",
    "                })"
   ]
  },
  {
   "cell_type": "code",
   "execution_count": 19,
   "id": "952a14e0",
   "metadata": {},
   "outputs": [
    {
     "name": "stdout",
     "output_type": "stream",
     "text": [
      "Final Answer from Agent:\n",
      "ChatGPT is a large language model developed by OpenAI. If you need more specific information or have particular aspects of ChatGPT you'd like to explore, feel free to ask!\n"
     ]
    }
   ],
   "source": [
    "final_answer = completion.choices[0].message.content\n",
    "print(\"Final Answer from Agent:\")\n",
    "print(final_answer)"
   ]
  }
 ],
 "metadata": {
  "kernelspec": {
   "display_name": "Python 3",
   "language": "python",
   "name": "python3"
  },
  "language_info": {
   "codemirror_mode": {
    "name": "ipython",
    "version": 3
   },
   "file_extension": ".py",
   "mimetype": "text/x-python",
   "name": "python",
   "nbconvert_exporter": "python",
   "pygments_lexer": "ipython3",
   "version": "3.9.11"
  }
 },
 "nbformat": 4,
 "nbformat_minor": 5
}
